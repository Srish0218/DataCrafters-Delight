{
 "cells": [
  {
   "cell_type": "code",
   "id": "initial_id",
   "metadata": {
    "collapsed": true,
    "ExecuteTime": {
     "end_time": "2024-07-01T07:46:45.154464Z",
     "start_time": "2024-07-01T07:46:45.146475Z"
    }
   },
   "source": [
    "import pandas as pd\n",
    "import seaborn as sns"
   ],
   "outputs": [],
   "execution_count": 13
  },
  {
   "metadata": {
    "ExecuteTime": {
     "end_time": "2024-07-01T07:46:45.786416Z",
     "start_time": "2024-07-01T07:46:45.772677Z"
    }
   },
   "cell_type": "code",
   "source": "df = pd.read_csv('train.csv')",
   "id": "c3056b787cd2e001",
   "outputs": [],
   "execution_count": 14
  },
  {
   "metadata": {
    "ExecuteTime": {
     "end_time": "2024-07-01T07:46:46.000417Z",
     "start_time": "2024-07-01T07:46:45.981810Z"
    }
   },
   "cell_type": "code",
   "source": "df",
   "id": "9384e4cc7e9d3fdb",
   "outputs": [
    {
     "data": {
      "text/plain": [
       "     PassengerId  Survived  Pclass  \\\n",
       "0              1         0       3   \n",
       "1              2         1       1   \n",
       "2              3         1       3   \n",
       "3              4         1       1   \n",
       "4              5         0       3   \n",
       "..           ...       ...     ...   \n",
       "886          887         0       2   \n",
       "887          888         1       1   \n",
       "888          889         0       3   \n",
       "889          890         1       1   \n",
       "890          891         0       3   \n",
       "\n",
       "                                                  Name     Sex   Age  SibSp  \\\n",
       "0                              Braund, Mr. Owen Harris    male  22.0      1   \n",
       "1    Cumings, Mrs. John Bradley (Florence Briggs Th...  female  38.0      1   \n",
       "2                               Heikkinen, Miss. Laina  female  26.0      0   \n",
       "3         Futrelle, Mrs. Jacques Heath (Lily May Peel)  female  35.0      1   \n",
       "4                             Allen, Mr. William Henry    male  35.0      0   \n",
       "..                                                 ...     ...   ...    ...   \n",
       "886                              Montvila, Rev. Juozas    male  27.0      0   \n",
       "887                       Graham, Miss. Margaret Edith  female  19.0      0   \n",
       "888           Johnston, Miss. Catherine Helen \"Carrie\"  female   NaN      1   \n",
       "889                              Behr, Mr. Karl Howell    male  26.0      0   \n",
       "890                                Dooley, Mr. Patrick    male  32.0      0   \n",
       "\n",
       "     Parch            Ticket     Fare Cabin Embarked  \n",
       "0        0         A/5 21171   7.2500   NaN        S  \n",
       "1        0          PC 17599  71.2833   C85        C  \n",
       "2        0  STON/O2. 3101282   7.9250   NaN        S  \n",
       "3        0            113803  53.1000  C123        S  \n",
       "4        0            373450   8.0500   NaN        S  \n",
       "..     ...               ...      ...   ...      ...  \n",
       "886      0            211536  13.0000   NaN        S  \n",
       "887      0            112053  30.0000   B42        S  \n",
       "888      2        W./C. 6607  23.4500   NaN        S  \n",
       "889      0            111369  30.0000  C148        C  \n",
       "890      0            370376   7.7500   NaN        Q  \n",
       "\n",
       "[891 rows x 12 columns]"
      ],
      "text/html": [
       "<div>\n",
       "<style scoped>\n",
       "    .dataframe tbody tr th:only-of-type {\n",
       "        vertical-align: middle;\n",
       "    }\n",
       "\n",
       "    .dataframe tbody tr th {\n",
       "        vertical-align: top;\n",
       "    }\n",
       "\n",
       "    .dataframe thead th {\n",
       "        text-align: right;\n",
       "    }\n",
       "</style>\n",
       "<table border=\"1\" class=\"dataframe\">\n",
       "  <thead>\n",
       "    <tr style=\"text-align: right;\">\n",
       "      <th></th>\n",
       "      <th>PassengerId</th>\n",
       "      <th>Survived</th>\n",
       "      <th>Pclass</th>\n",
       "      <th>Name</th>\n",
       "      <th>Sex</th>\n",
       "      <th>Age</th>\n",
       "      <th>SibSp</th>\n",
       "      <th>Parch</th>\n",
       "      <th>Ticket</th>\n",
       "      <th>Fare</th>\n",
       "      <th>Cabin</th>\n",
       "      <th>Embarked</th>\n",
       "    </tr>\n",
       "  </thead>\n",
       "  <tbody>\n",
       "    <tr>\n",
       "      <th>0</th>\n",
       "      <td>1</td>\n",
       "      <td>0</td>\n",
       "      <td>3</td>\n",
       "      <td>Braund, Mr. Owen Harris</td>\n",
       "      <td>male</td>\n",
       "      <td>22.0</td>\n",
       "      <td>1</td>\n",
       "      <td>0</td>\n",
       "      <td>A/5 21171</td>\n",
       "      <td>7.2500</td>\n",
       "      <td>NaN</td>\n",
       "      <td>S</td>\n",
       "    </tr>\n",
       "    <tr>\n",
       "      <th>1</th>\n",
       "      <td>2</td>\n",
       "      <td>1</td>\n",
       "      <td>1</td>\n",
       "      <td>Cumings, Mrs. John Bradley (Florence Briggs Th...</td>\n",
       "      <td>female</td>\n",
       "      <td>38.0</td>\n",
       "      <td>1</td>\n",
       "      <td>0</td>\n",
       "      <td>PC 17599</td>\n",
       "      <td>71.2833</td>\n",
       "      <td>C85</td>\n",
       "      <td>C</td>\n",
       "    </tr>\n",
       "    <tr>\n",
       "      <th>2</th>\n",
       "      <td>3</td>\n",
       "      <td>1</td>\n",
       "      <td>3</td>\n",
       "      <td>Heikkinen, Miss. Laina</td>\n",
       "      <td>female</td>\n",
       "      <td>26.0</td>\n",
       "      <td>0</td>\n",
       "      <td>0</td>\n",
       "      <td>STON/O2. 3101282</td>\n",
       "      <td>7.9250</td>\n",
       "      <td>NaN</td>\n",
       "      <td>S</td>\n",
       "    </tr>\n",
       "    <tr>\n",
       "      <th>3</th>\n",
       "      <td>4</td>\n",
       "      <td>1</td>\n",
       "      <td>1</td>\n",
       "      <td>Futrelle, Mrs. Jacques Heath (Lily May Peel)</td>\n",
       "      <td>female</td>\n",
       "      <td>35.0</td>\n",
       "      <td>1</td>\n",
       "      <td>0</td>\n",
       "      <td>113803</td>\n",
       "      <td>53.1000</td>\n",
       "      <td>C123</td>\n",
       "      <td>S</td>\n",
       "    </tr>\n",
       "    <tr>\n",
       "      <th>4</th>\n",
       "      <td>5</td>\n",
       "      <td>0</td>\n",
       "      <td>3</td>\n",
       "      <td>Allen, Mr. William Henry</td>\n",
       "      <td>male</td>\n",
       "      <td>35.0</td>\n",
       "      <td>0</td>\n",
       "      <td>0</td>\n",
       "      <td>373450</td>\n",
       "      <td>8.0500</td>\n",
       "      <td>NaN</td>\n",
       "      <td>S</td>\n",
       "    </tr>\n",
       "    <tr>\n",
       "      <th>...</th>\n",
       "      <td>...</td>\n",
       "      <td>...</td>\n",
       "      <td>...</td>\n",
       "      <td>...</td>\n",
       "      <td>...</td>\n",
       "      <td>...</td>\n",
       "      <td>...</td>\n",
       "      <td>...</td>\n",
       "      <td>...</td>\n",
       "      <td>...</td>\n",
       "      <td>...</td>\n",
       "      <td>...</td>\n",
       "    </tr>\n",
       "    <tr>\n",
       "      <th>886</th>\n",
       "      <td>887</td>\n",
       "      <td>0</td>\n",
       "      <td>2</td>\n",
       "      <td>Montvila, Rev. Juozas</td>\n",
       "      <td>male</td>\n",
       "      <td>27.0</td>\n",
       "      <td>0</td>\n",
       "      <td>0</td>\n",
       "      <td>211536</td>\n",
       "      <td>13.0000</td>\n",
       "      <td>NaN</td>\n",
       "      <td>S</td>\n",
       "    </tr>\n",
       "    <tr>\n",
       "      <th>887</th>\n",
       "      <td>888</td>\n",
       "      <td>1</td>\n",
       "      <td>1</td>\n",
       "      <td>Graham, Miss. Margaret Edith</td>\n",
       "      <td>female</td>\n",
       "      <td>19.0</td>\n",
       "      <td>0</td>\n",
       "      <td>0</td>\n",
       "      <td>112053</td>\n",
       "      <td>30.0000</td>\n",
       "      <td>B42</td>\n",
       "      <td>S</td>\n",
       "    </tr>\n",
       "    <tr>\n",
       "      <th>888</th>\n",
       "      <td>889</td>\n",
       "      <td>0</td>\n",
       "      <td>3</td>\n",
       "      <td>Johnston, Miss. Catherine Helen \"Carrie\"</td>\n",
       "      <td>female</td>\n",
       "      <td>NaN</td>\n",
       "      <td>1</td>\n",
       "      <td>2</td>\n",
       "      <td>W./C. 6607</td>\n",
       "      <td>23.4500</td>\n",
       "      <td>NaN</td>\n",
       "      <td>S</td>\n",
       "    </tr>\n",
       "    <tr>\n",
       "      <th>889</th>\n",
       "      <td>890</td>\n",
       "      <td>1</td>\n",
       "      <td>1</td>\n",
       "      <td>Behr, Mr. Karl Howell</td>\n",
       "      <td>male</td>\n",
       "      <td>26.0</td>\n",
       "      <td>0</td>\n",
       "      <td>0</td>\n",
       "      <td>111369</td>\n",
       "      <td>30.0000</td>\n",
       "      <td>C148</td>\n",
       "      <td>C</td>\n",
       "    </tr>\n",
       "    <tr>\n",
       "      <th>890</th>\n",
       "      <td>891</td>\n",
       "      <td>0</td>\n",
       "      <td>3</td>\n",
       "      <td>Dooley, Mr. Patrick</td>\n",
       "      <td>male</td>\n",
       "      <td>32.0</td>\n",
       "      <td>0</td>\n",
       "      <td>0</td>\n",
       "      <td>370376</td>\n",
       "      <td>7.7500</td>\n",
       "      <td>NaN</td>\n",
       "      <td>Q</td>\n",
       "    </tr>\n",
       "  </tbody>\n",
       "</table>\n",
       "<p>891 rows × 12 columns</p>\n",
       "</div>"
      ]
     },
     "execution_count": 15,
     "metadata": {},
     "output_type": "execute_result"
    }
   ],
   "execution_count": 15
  },
  {
   "metadata": {
    "ExecuteTime": {
     "end_time": "2024-07-01T07:49:50.527087Z",
     "start_time": "2024-07-01T07:49:45.891398Z"
    }
   },
   "cell_type": "code",
   "source": "!pip install pandas-profiling",
   "id": "a3cd1e1f7fa581a5",
   "outputs": [
    {
     "name": "stdout",
     "output_type": "stream",
     "text": [
      "Requirement already satisfied: pandas-profiling in d:\\users\\srish\\pycharmprojects\\environments\\datacrafters\\lib\\site-packages (3.2.0)\n",
      "Requirement already satisfied: joblib~=1.1.0 in d:\\users\\srish\\pycharmprojects\\environments\\datacrafters\\lib\\site-packages (from pandas-profiling) (1.1.1)\n",
      "Requirement already satisfied: scipy>=1.4.1 in d:\\users\\srish\\pycharmprojects\\environments\\datacrafters\\lib\\site-packages (from pandas-profiling) (1.14.0)\n",
      "Requirement already satisfied: pandas!=1.0.0,!=1.0.1,!=1.0.2,!=1.1.0,>=0.25.3 in d:\\users\\srish\\pycharmprojects\\environments\\datacrafters\\lib\\site-packages (from pandas-profiling) (2.2.2)\n",
      "Requirement already satisfied: matplotlib>=3.2.0 in d:\\users\\srish\\pycharmprojects\\environments\\datacrafters\\lib\\site-packages (from pandas-profiling) (3.9.0)\n",
      "Requirement already satisfied: pydantic>=1.8.1 in d:\\users\\srish\\pycharmprojects\\environments\\datacrafters\\lib\\site-packages (from pandas-profiling) (2.7.4)\n",
      "Requirement already satisfied: PyYAML>=5.0.0 in d:\\users\\srish\\pycharmprojects\\environments\\datacrafters\\lib\\site-packages (from pandas-profiling) (6.0.1)\n",
      "Requirement already satisfied: jinja2>=2.11.1 in d:\\users\\srish\\pycharmprojects\\environments\\datacrafters\\lib\\site-packages (from pandas-profiling) (3.1.4)\n",
      "Requirement already satisfied: markupsafe~=2.1.1 in d:\\users\\srish\\pycharmprojects\\environments\\datacrafters\\lib\\site-packages (from pandas-profiling) (2.1.5)\n",
      "Requirement already satisfied: visions[type_image_path]==0.7.4 in d:\\users\\srish\\pycharmprojects\\environments\\datacrafters\\lib\\site-packages (from pandas-profiling) (0.7.4)\n",
      "Requirement already satisfied: numpy>=1.16.0 in d:\\users\\srish\\pycharmprojects\\environments\\datacrafters\\lib\\site-packages (from pandas-profiling) (1.26.4)\n",
      "Requirement already satisfied: htmlmin>=0.1.12 in d:\\users\\srish\\pycharmprojects\\environments\\datacrafters\\lib\\site-packages (from pandas-profiling) (0.1.12)\n",
      "Requirement already satisfied: missingno>=0.4.2 in d:\\users\\srish\\pycharmprojects\\environments\\datacrafters\\lib\\site-packages (from pandas-profiling) (0.5.2)\n",
      "Requirement already satisfied: phik>=0.11.1 in d:\\users\\srish\\pycharmprojects\\environments\\datacrafters\\lib\\site-packages (from pandas-profiling) (0.12.4)\n",
      "Requirement already satisfied: tangled-up-in-unicode==0.2.0 in d:\\users\\srish\\pycharmprojects\\environments\\datacrafters\\lib\\site-packages (from pandas-profiling) (0.2.0)\n",
      "Requirement already satisfied: requests>=2.24.0 in d:\\users\\srish\\pycharmprojects\\environments\\datacrafters\\lib\\site-packages (from pandas-profiling) (2.32.3)\n",
      "Requirement already satisfied: tqdm>=4.48.2 in d:\\users\\srish\\pycharmprojects\\environments\\datacrafters\\lib\\site-packages (from pandas-profiling) (4.66.4)\n",
      "Requirement already satisfied: seaborn>=0.10.1 in d:\\users\\srish\\pycharmprojects\\environments\\datacrafters\\lib\\site-packages (from pandas-profiling) (0.13.2)\n",
      "Requirement already satisfied: multimethod>=1.4 in d:\\users\\srish\\pycharmprojects\\environments\\datacrafters\\lib\\site-packages (from pandas-profiling) (1.11.2)\n",
      "Requirement already satisfied: attrs>=19.3.0 in d:\\users\\srish\\pycharmprojects\\environments\\datacrafters\\lib\\site-packages (from visions[type_image_path]==0.7.4->pandas-profiling) (23.2.0)\n",
      "Requirement already satisfied: networkx>=2.4 in d:\\users\\srish\\pycharmprojects\\environments\\datacrafters\\lib\\site-packages (from visions[type_image_path]==0.7.4->pandas-profiling) (3.3)\n",
      "Requirement already satisfied: imagehash in d:\\users\\srish\\pycharmprojects\\environments\\datacrafters\\lib\\site-packages (from visions[type_image_path]==0.7.4->pandas-profiling) (4.3.1)\n",
      "Requirement already satisfied: Pillow in d:\\users\\srish\\pycharmprojects\\environments\\datacrafters\\lib\\site-packages (from visions[type_image_path]==0.7.4->pandas-profiling) (10.3.0)\n",
      "Requirement already satisfied: contourpy>=1.0.1 in d:\\users\\srish\\pycharmprojects\\environments\\datacrafters\\lib\\site-packages (from matplotlib>=3.2.0->pandas-profiling) (1.2.1)\n",
      "Requirement already satisfied: cycler>=0.10 in d:\\users\\srish\\pycharmprojects\\environments\\datacrafters\\lib\\site-packages (from matplotlib>=3.2.0->pandas-profiling) (0.12.1)\n",
      "Requirement already satisfied: fonttools>=4.22.0 in d:\\users\\srish\\pycharmprojects\\environments\\datacrafters\\lib\\site-packages (from matplotlib>=3.2.0->pandas-profiling) (4.53.0)\n",
      "Requirement already satisfied: kiwisolver>=1.3.1 in d:\\users\\srish\\pycharmprojects\\environments\\datacrafters\\lib\\site-packages (from matplotlib>=3.2.0->pandas-profiling) (1.4.5)\n",
      "Requirement already satisfied: packaging>=20.0 in d:\\users\\srish\\pycharmprojects\\environments\\datacrafters\\lib\\site-packages (from matplotlib>=3.2.0->pandas-profiling) (24.0)\n",
      "Requirement already satisfied: pyparsing>=2.3.1 in d:\\users\\srish\\pycharmprojects\\environments\\datacrafters\\lib\\site-packages (from matplotlib>=3.2.0->pandas-profiling) (3.1.2)\n",
      "Requirement already satisfied: python-dateutil>=2.7 in d:\\users\\srish\\pycharmprojects\\environments\\datacrafters\\lib\\site-packages (from matplotlib>=3.2.0->pandas-profiling) (2.9.0.post0)\n",
      "Requirement already satisfied: pytz>=2020.1 in d:\\users\\srish\\pycharmprojects\\environments\\datacrafters\\lib\\site-packages (from pandas!=1.0.0,!=1.0.1,!=1.0.2,!=1.1.0,>=0.25.3->pandas-profiling) (2024.1)\n",
      "Requirement already satisfied: tzdata>=2022.7 in d:\\users\\srish\\pycharmprojects\\environments\\datacrafters\\lib\\site-packages (from pandas!=1.0.0,!=1.0.1,!=1.0.2,!=1.1.0,>=0.25.3->pandas-profiling) (2024.1)\n",
      "Requirement already satisfied: annotated-types>=0.4.0 in d:\\users\\srish\\pycharmprojects\\environments\\datacrafters\\lib\\site-packages (from pydantic>=1.8.1->pandas-profiling) (0.7.0)\n",
      "Requirement already satisfied: pydantic-core==2.18.4 in d:\\users\\srish\\pycharmprojects\\environments\\datacrafters\\lib\\site-packages (from pydantic>=1.8.1->pandas-profiling) (2.18.4)\n",
      "Requirement already satisfied: typing-extensions>=4.6.1 in d:\\users\\srish\\pycharmprojects\\environments\\datacrafters\\lib\\site-packages (from pydantic>=1.8.1->pandas-profiling) (4.12.2)\n",
      "Requirement already satisfied: charset-normalizer<4,>=2 in d:\\users\\srish\\pycharmprojects\\environments\\datacrafters\\lib\\site-packages (from requests>=2.24.0->pandas-profiling) (3.3.2)\n",
      "Requirement already satisfied: idna<4,>=2.5 in d:\\users\\srish\\pycharmprojects\\environments\\datacrafters\\lib\\site-packages (from requests>=2.24.0->pandas-profiling) (3.7)\n",
      "Requirement already satisfied: urllib3<3,>=1.21.1 in d:\\users\\srish\\pycharmprojects\\environments\\datacrafters\\lib\\site-packages (from requests>=2.24.0->pandas-profiling) (2.2.1)\n",
      "Requirement already satisfied: certifi>=2017.4.17 in d:\\users\\srish\\pycharmprojects\\environments\\datacrafters\\lib\\site-packages (from requests>=2.24.0->pandas-profiling) (2024.6.2)\n",
      "Requirement already satisfied: colorama in d:\\users\\srish\\pycharmprojects\\environments\\datacrafters\\lib\\site-packages (from tqdm>=4.48.2->pandas-profiling) (0.4.6)\n",
      "Requirement already satisfied: six>=1.5 in d:\\users\\srish\\pycharmprojects\\environments\\datacrafters\\lib\\site-packages (from python-dateutil>=2.7->matplotlib>=3.2.0->pandas-profiling) (1.16.0)\n",
      "Requirement already satisfied: PyWavelets in d:\\users\\srish\\pycharmprojects\\environments\\datacrafters\\lib\\site-packages (from imagehash->visions[type_image_path]==0.7.4->pandas-profiling) (1.6.0)\n",
      "Note: you may need to restart the kernel to use updated packages.\n"
     ]
    },
    {
     "name": "stderr",
     "output_type": "stream",
     "text": [
      "\n",
      "[notice] A new release of pip is available: 23.2.1 -> 24.1.1\n",
      "[notice] To update, run: python.exe -m pip install --upgrade pip\n"
     ]
    }
   ],
   "execution_count": 21
  },
  {
   "metadata": {
    "ExecuteTime": {
     "end_time": "2024-07-01T07:51:31.469650Z",
     "start_time": "2024-07-01T07:51:24.526759Z"
    }
   },
   "cell_type": "code",
   "source": "!pip install pydantic-settings\n",
   "id": "95cf19fbb6dacebb",
   "outputs": [
    {
     "name": "stdout",
     "output_type": "stream",
     "text": [
      "Collecting pydantic-settings\n",
      "  Obtaining dependency information for pydantic-settings from https://files.pythonhosted.org/packages/e8/4f/aad03d5f711717d94d7de9684cb542343b392df1ad6889118636674fc983/pydantic_settings-2.3.4-py3-none-any.whl.metadata\n",
      "  Downloading pydantic_settings-2.3.4-py3-none-any.whl.metadata (3.3 kB)\n",
      "Requirement already satisfied: pydantic>=2.7.0 in d:\\users\\srish\\pycharmprojects\\environments\\datacrafters\\lib\\site-packages (from pydantic-settings) (2.7.4)\n",
      "Collecting python-dotenv>=0.21.0 (from pydantic-settings)\n",
      "  Obtaining dependency information for python-dotenv>=0.21.0 from https://files.pythonhosted.org/packages/6a/3e/b68c118422ec867fa7ab88444e1274aa40681c606d59ac27de5a5588f082/python_dotenv-1.0.1-py3-none-any.whl.metadata\n",
      "  Using cached python_dotenv-1.0.1-py3-none-any.whl.metadata (23 kB)\n",
      "Requirement already satisfied: annotated-types>=0.4.0 in d:\\users\\srish\\pycharmprojects\\environments\\datacrafters\\lib\\site-packages (from pydantic>=2.7.0->pydantic-settings) (0.7.0)\n",
      "Requirement already satisfied: pydantic-core==2.18.4 in d:\\users\\srish\\pycharmprojects\\environments\\datacrafters\\lib\\site-packages (from pydantic>=2.7.0->pydantic-settings) (2.18.4)\n",
      "Requirement already satisfied: typing-extensions>=4.6.1 in d:\\users\\srish\\pycharmprojects\\environments\\datacrafters\\lib\\site-packages (from pydantic>=2.7.0->pydantic-settings) (4.12.2)\n",
      "Downloading pydantic_settings-2.3.4-py3-none-any.whl (22 kB)\n",
      "Using cached python_dotenv-1.0.1-py3-none-any.whl (19 kB)\n",
      "Installing collected packages: python-dotenv, pydantic-settings\n",
      "Successfully installed pydantic-settings-2.3.4 python-dotenv-1.0.1\n"
     ]
    },
    {
     "name": "stderr",
     "output_type": "stream",
     "text": [
      "\n",
      "[notice] A new release of pip is available: 23.2.1 -> 24.1.1\n",
      "[notice] To update, run: python.exe -m pip install --upgrade pip\n"
     ]
    }
   ],
   "execution_count": 22
  },
  {
   "metadata": {
    "ExecuteTime": {
     "end_time": "2024-07-01T07:57:15.911984Z",
     "start_time": "2024-07-01T07:57:15.903086Z"
    }
   },
   "cell_type": "code",
   "source": [
    "# # Importing BaseSettings from pydantic_settings\n",
    "# from pydantic_settings import BaseSettings\n",
    "# \n",
    "# # Importing ProfileReport from pandas_profiling\n",
    "# from pandas_profiling import ProfileReport\n"
   ],
   "id": "51442aa28af51008",
   "outputs": [],
   "execution_count": 32
  },
  {
   "metadata": {
    "ExecuteTime": {
     "end_time": "2024-07-01T07:57:15.900118Z",
     "start_time": "2024-07-01T07:57:15.894539Z"
    }
   },
   "cell_type": "code",
   "source": "",
   "id": "558cbb069cbf28ba",
   "outputs": [],
   "execution_count": 31
  },
  {
   "metadata": {
    "ExecuteTime": {
     "end_time": "2024-07-01T07:57:15.892008Z",
     "start_time": "2024-07-01T07:57:15.885946Z"
    }
   },
   "cell_type": "code",
   "source": "# from pandas_profiling import ProfileReport\n",
   "id": "c5dc661064360b37",
   "outputs": [],
   "execution_count": 31
  },
  {
   "metadata": {
    "ExecuteTime": {
     "end_time": "2024-07-01T07:57:15.880922Z",
     "start_time": "2024-07-01T07:57:15.872801Z"
    }
   },
   "cell_type": "code",
   "source": [
    "# # Old import statement\n",
    "# from pydantic import BaseSettings\n",
    "# \n",
    "# # New import statement\n",
    "# from pydantic_settings import BaseSettings\n"
   ],
   "id": "a8081c03772c81b2",
   "outputs": [],
   "execution_count": 30
  },
  {
   "metadata": {
    "ExecuteTime": {
     "end_time": "2024-07-01T07:57:15.869711Z",
     "start_time": "2024-07-01T07:55:41.739660Z"
    }
   },
   "cell_type": "code",
   "source": "!pip install https://github.com/pandas-profiling/pandas-profiling/archive/master.zip",
   "id": "abd3e03db8e92024",
   "outputs": [
    {
     "name": "stdout",
     "output_type": "stream",
     "text": [
      "Collecting https://github.com/pandas-profiling/pandas-profiling/archive/master.zip\n",
      "  Using cached https://github.com/pandas-profiling/pandas-profiling/archive/master.zip (17.8 MB)\n",
      "  Installing build dependencies: started\n",
      "  Installing build dependencies: finished with status 'done'\n",
      "  Getting requirements to build wheel: started\n",
      "  Getting requirements to build wheel: finished with status 'done'\n",
      "  Preparing metadata (pyproject.toml): started\n",
      "  Preparing metadata (pyproject.toml): finished with status 'done'\n",
      "Requirement already satisfied: scipy<1.14,>=1.4.1 in d:\\users\\srish\\pycharmprojects\\environments\\datacrafters\\lib\\site-packages (from ydata-profiling==0.0.dev0) (1.13.1)\n",
      "Requirement already satisfied: pandas!=1.4.0,<3,>1.1 in d:\\users\\srish\\pycharmprojects\\environments\\datacrafters\\lib\\site-packages (from ydata-profiling==0.0.dev0) (2.2.2)\n",
      "Collecting matplotlib<3.9,>=3.2 (from ydata-profiling==0.0.dev0)\n",
      "  Obtaining dependency information for matplotlib<3.9,>=3.2 from https://files.pythonhosted.org/packages/7d/ca/e7bd1876a341ed8c456095962a582696cac1691cb6e55bd5ead15a755c5d/matplotlib-3.8.4-cp312-cp312-win_amd64.whl.metadata\n",
      "  Using cached matplotlib-3.8.4-cp312-cp312-win_amd64.whl.metadata (5.9 kB)\n",
      "Requirement already satisfied: pydantic>=2 in d:\\users\\srish\\pycharmprojects\\environments\\datacrafters\\lib\\site-packages (from ydata-profiling==0.0.dev0) (2.7.4)\n",
      "Requirement already satisfied: PyYAML<6.1,>=5.0.0 in d:\\users\\srish\\pycharmprojects\\environments\\datacrafters\\lib\\site-packages (from ydata-profiling==0.0.dev0) (6.0.1)\n",
      "Requirement already satisfied: jinja2<3.2,>=2.11.1 in d:\\users\\srish\\pycharmprojects\\environments\\datacrafters\\lib\\site-packages (from ydata-profiling==0.0.dev0) (3.1.4)\n",
      "Collecting visions[type_image_path]<0.7.7,>=0.7.5 (from ydata-profiling==0.0.dev0)\n",
      "  Obtaining dependency information for visions[type_image_path]<0.7.7,>=0.7.5 from https://files.pythonhosted.org/packages/7c/bf/612b24e711ae25dea9af19b9304634b8949faa0b035fad47e8bcadf62f59/visions-0.7.6-py3-none-any.whl.metadata\n",
      "  Using cached visions-0.7.6-py3-none-any.whl.metadata (11 kB)\n",
      "Requirement already satisfied: numpy<2,>=1.16.0 in d:\\users\\srish\\pycharmprojects\\environments\\datacrafters\\lib\\site-packages (from ydata-profiling==0.0.dev0) (1.26.4)\n",
      "Requirement already satisfied: htmlmin==0.1.12 in d:\\users\\srish\\pycharmprojects\\environments\\datacrafters\\lib\\site-packages (from ydata-profiling==0.0.dev0) (0.1.12)\n",
      "Requirement already satisfied: phik<0.13,>=0.11.1 in d:\\users\\srish\\pycharmprojects\\environments\\datacrafters\\lib\\site-packages (from ydata-profiling==0.0.dev0) (0.12.4)\n",
      "Requirement already satisfied: requests<3,>=2.24.0 in d:\\users\\srish\\pycharmprojects\\environments\\datacrafters\\lib\\site-packages (from ydata-profiling==0.0.dev0) (2.32.3)\n",
      "Requirement already satisfied: tqdm<5,>=4.48.2 in d:\\users\\srish\\pycharmprojects\\environments\\datacrafters\\lib\\site-packages (from ydata-profiling==0.0.dev0) (4.66.4)\n",
      "Requirement already satisfied: seaborn<0.14,>=0.10.1 in d:\\users\\srish\\pycharmprojects\\environments\\datacrafters\\lib\\site-packages (from ydata-profiling==0.0.dev0) (0.13.2)\n",
      "Requirement already satisfied: multimethod<2,>=1.4 in d:\\users\\srish\\pycharmprojects\\environments\\datacrafters\\lib\\site-packages (from ydata-profiling==0.0.dev0) (1.11.2)\n",
      "Collecting statsmodels<1,>=0.13.2 (from ydata-profiling==0.0.dev0)\n",
      "  Obtaining dependency information for statsmodels<1,>=0.13.2 from https://files.pythonhosted.org/packages/bf/53/1e7077d1bf324c1b1055dedb72e1410d089e459a86940e25b28f545f776e/statsmodels-0.14.2-cp312-cp312-win_amd64.whl.metadata\n",
      "  Using cached statsmodels-0.14.2-cp312-cp312-win_amd64.whl.metadata (9.5 kB)\n",
      "Requirement already satisfied: typeguard<5,>=3 in d:\\users\\srish\\pycharmprojects\\environments\\datacrafters\\lib\\site-packages (from ydata-profiling==0.0.dev0) (4.3.0)\n",
      "Requirement already satisfied: imagehash==4.3.1 in d:\\users\\srish\\pycharmprojects\\environments\\datacrafters\\lib\\site-packages (from ydata-profiling==0.0.dev0) (4.3.1)\n",
      "Collecting wordcloud>=1.9.1 (from ydata-profiling==0.0.dev0)\n",
      "  Obtaining dependency information for wordcloud>=1.9.1 from https://files.pythonhosted.org/packages/bf/a0/b8fa5f2d7147a7675e2cab99108f7d8d524b67481f81f289cdb2b64ed1ab/wordcloud-1.9.3-cp312-cp312-win_amd64.whl.metadata\n",
      "  Using cached wordcloud-1.9.3-cp312-cp312-win_amd64.whl.metadata (3.5 kB)\n",
      "Collecting dacite>=1.8 (from ydata-profiling==0.0.dev0)\n",
      "  Obtaining dependency information for dacite>=1.8 from https://files.pythonhosted.org/packages/21/0f/cf0943f4f55f0fbc7c6bd60caf1343061dff818b02af5a0d444e473bb78d/dacite-1.8.1-py3-none-any.whl.metadata\n",
      "  Using cached dacite-1.8.1-py3-none-any.whl.metadata (15 kB)\n",
      "Collecting numba<1,>=0.56.0 (from ydata-profiling==0.0.dev0)\n",
      "  Obtaining dependency information for numba<1,>=0.56.0 from https://files.pythonhosted.org/packages/ca/bd/0fe29fcd1b6a8de479a4ed25c6e56470e467e3611c079d55869ceef2b6d1/numba-0.60.0-cp312-cp312-win_amd64.whl.metadata\n",
      "  Using cached numba-0.60.0-cp312-cp312-win_amd64.whl.metadata (2.8 kB)\n",
      "Requirement already satisfied: PyWavelets in d:\\users\\srish\\pycharmprojects\\environments\\datacrafters\\lib\\site-packages (from imagehash==4.3.1->ydata-profiling==0.0.dev0) (1.6.0)\n",
      "Requirement already satisfied: pillow in d:\\users\\srish\\pycharmprojects\\environments\\datacrafters\\lib\\site-packages (from imagehash==4.3.1->ydata-profiling==0.0.dev0) (10.3.0)\n",
      "Requirement already satisfied: MarkupSafe>=2.0 in d:\\users\\srish\\pycharmprojects\\environments\\datacrafters\\lib\\site-packages (from jinja2<3.2,>=2.11.1->ydata-profiling==0.0.dev0) (2.1.5)\n",
      "Requirement already satisfied: contourpy>=1.0.1 in d:\\users\\srish\\pycharmprojects\\environments\\datacrafters\\lib\\site-packages (from matplotlib<3.9,>=3.2->ydata-profiling==0.0.dev0) (1.2.1)\n",
      "Requirement already satisfied: cycler>=0.10 in d:\\users\\srish\\pycharmprojects\\environments\\datacrafters\\lib\\site-packages (from matplotlib<3.9,>=3.2->ydata-profiling==0.0.dev0) (0.12.1)\n",
      "Requirement already satisfied: fonttools>=4.22.0 in d:\\users\\srish\\pycharmprojects\\environments\\datacrafters\\lib\\site-packages (from matplotlib<3.9,>=3.2->ydata-profiling==0.0.dev0) (4.53.0)\n",
      "Requirement already satisfied: kiwisolver>=1.3.1 in d:\\users\\srish\\pycharmprojects\\environments\\datacrafters\\lib\\site-packages (from matplotlib<3.9,>=3.2->ydata-profiling==0.0.dev0) (1.4.5)\n",
      "Requirement already satisfied: packaging>=20.0 in d:\\users\\srish\\pycharmprojects\\environments\\datacrafters\\lib\\site-packages (from matplotlib<3.9,>=3.2->ydata-profiling==0.0.dev0) (24.0)\n",
      "Requirement already satisfied: pyparsing>=2.3.1 in d:\\users\\srish\\pycharmprojects\\environments\\datacrafters\\lib\\site-packages (from matplotlib<3.9,>=3.2->ydata-profiling==0.0.dev0) (3.1.2)\n",
      "Requirement already satisfied: python-dateutil>=2.7 in d:\\users\\srish\\pycharmprojects\\environments\\datacrafters\\lib\\site-packages (from matplotlib<3.9,>=3.2->ydata-profiling==0.0.dev0) (2.9.0.post0)\n",
      "Collecting llvmlite<0.44,>=0.43.0dev0 (from numba<1,>=0.56.0->ydata-profiling==0.0.dev0)\n",
      "  Obtaining dependency information for llvmlite<0.44,>=0.43.0dev0 from https://files.pythonhosted.org/packages/c6/94/dea10e263655ce78d777e78d904903faae39d1fc440762be4a9dc46bed49/llvmlite-0.43.0-cp312-cp312-win_amd64.whl.metadata\n",
      "  Using cached llvmlite-0.43.0-cp312-cp312-win_amd64.whl.metadata (4.9 kB)\n",
      "Requirement already satisfied: pytz>=2020.1 in d:\\users\\srish\\pycharmprojects\\environments\\datacrafters\\lib\\site-packages (from pandas!=1.4.0,<3,>1.1->ydata-profiling==0.0.dev0) (2024.1)\n",
      "Requirement already satisfied: tzdata>=2022.7 in d:\\users\\srish\\pycharmprojects\\environments\\datacrafters\\lib\\site-packages (from pandas!=1.4.0,<3,>1.1->ydata-profiling==0.0.dev0) (2024.1)\n",
      "Requirement already satisfied: joblib>=0.14.1 in d:\\users\\srish\\pycharmprojects\\environments\\datacrafters\\lib\\site-packages (from phik<0.13,>=0.11.1->ydata-profiling==0.0.dev0) (1.1.1)\n",
      "Requirement already satisfied: annotated-types>=0.4.0 in d:\\users\\srish\\pycharmprojects\\environments\\datacrafters\\lib\\site-packages (from pydantic>=2->ydata-profiling==0.0.dev0) (0.7.0)\n",
      "Requirement already satisfied: pydantic-core==2.18.4 in d:\\users\\srish\\pycharmprojects\\environments\\datacrafters\\lib\\site-packages (from pydantic>=2->ydata-profiling==0.0.dev0) (2.18.4)\n",
      "Requirement already satisfied: typing-extensions>=4.6.1 in d:\\users\\srish\\pycharmprojects\\environments\\datacrafters\\lib\\site-packages (from pydantic>=2->ydata-profiling==0.0.dev0) (4.12.2)\n",
      "Requirement already satisfied: charset-normalizer<4,>=2 in d:\\users\\srish\\pycharmprojects\\environments\\datacrafters\\lib\\site-packages (from requests<3,>=2.24.0->ydata-profiling==0.0.dev0) (3.3.2)\n",
      "Requirement already satisfied: idna<4,>=2.5 in d:\\users\\srish\\pycharmprojects\\environments\\datacrafters\\lib\\site-packages (from requests<3,>=2.24.0->ydata-profiling==0.0.dev0) (3.7)\n",
      "Requirement already satisfied: urllib3<3,>=1.21.1 in d:\\users\\srish\\pycharmprojects\\environments\\datacrafters\\lib\\site-packages (from requests<3,>=2.24.0->ydata-profiling==0.0.dev0) (2.2.1)\n",
      "Requirement already satisfied: certifi>=2017.4.17 in d:\\users\\srish\\pycharmprojects\\environments\\datacrafters\\lib\\site-packages (from requests<3,>=2.24.0->ydata-profiling==0.0.dev0) (2024.6.2)\n",
      "Collecting patsy>=0.5.6 (from statsmodels<1,>=0.13.2->ydata-profiling==0.0.dev0)\n",
      "  Obtaining dependency information for patsy>=0.5.6 from https://files.pythonhosted.org/packages/43/f3/1d311a09c34f14f5973bb0bb0dc3a6e007e1eda90b5492d082689936ca51/patsy-0.5.6-py2.py3-none-any.whl.metadata\n",
      "  Using cached patsy-0.5.6-py2.py3-none-any.whl.metadata (3.5 kB)\n",
      "Requirement already satisfied: colorama in d:\\users\\srish\\pycharmprojects\\environments\\datacrafters\\lib\\site-packages (from tqdm<5,>=4.48.2->ydata-profiling==0.0.dev0) (0.4.6)\n",
      "Requirement already satisfied: attrs>=19.3.0 in d:\\users\\srish\\pycharmprojects\\environments\\datacrafters\\lib\\site-packages (from visions[type_image_path]<0.7.7,>=0.7.5->ydata-profiling==0.0.dev0) (23.2.0)\n",
      "Requirement already satisfied: networkx>=2.4 in d:\\users\\srish\\pycharmprojects\\environments\\datacrafters\\lib\\site-packages (from visions[type_image_path]<0.7.7,>=0.7.5->ydata-profiling==0.0.dev0) (3.3)\n",
      "Requirement already satisfied: six in d:\\users\\srish\\pycharmprojects\\environments\\datacrafters\\lib\\site-packages (from patsy>=0.5.6->statsmodels<1,>=0.13.2->ydata-profiling==0.0.dev0) (1.16.0)\n",
      "Using cached dacite-1.8.1-py3-none-any.whl (14 kB)\n",
      "Using cached matplotlib-3.8.4-cp312-cp312-win_amd64.whl (7.7 MB)\n",
      "Using cached numba-0.60.0-cp312-cp312-win_amd64.whl (2.7 MB)\n",
      "Using cached statsmodels-0.14.2-cp312-cp312-win_amd64.whl (9.8 MB)\n",
      "Using cached wordcloud-1.9.3-cp312-cp312-win_amd64.whl (301 kB)\n",
      "Using cached llvmlite-0.43.0-cp312-cp312-win_amd64.whl (28.1 MB)\n",
      "Using cached patsy-0.5.6-py2.py3-none-any.whl (233 kB)\n",
      "Using cached visions-0.7.6-py3-none-any.whl (104 kB)\n",
      "Building wheels for collected packages: ydata-profiling\n",
      "  Building wheel for ydata-profiling (pyproject.toml): started\n",
      "  Building wheel for ydata-profiling (pyproject.toml): finished with status 'done'\n",
      "  Created wheel for ydata-profiling: filename=ydata_profiling-0.0.dev0-py2.py3-none-any.whl size=359595 sha256=5755f919361d939d0328f6851a5fe7cb98cb1eb862a7b1c93c146364866dfd78\n",
      "  Stored in directory: C:\\Users\\srish\\AppData\\Local\\Temp\\pip-ephem-wheel-cache-2vlehne6\\wheels\\71\\3c\\c6\\1dde962797c52d907d477fe1b35111dccb8c4574b0ad7a8cb7\n",
      "Successfully built ydata-profiling\n",
      "Installing collected packages: patsy, llvmlite, dacite, numba, matplotlib, wordcloud, visions, statsmodels, ydata-profiling\n",
      "  Attempting uninstall: matplotlib\n",
      "    Found existing installation: matplotlib 3.9.0\n",
      "    Uninstalling matplotlib-3.9.0:\n"
     ]
    },
    {
     "name": "stderr",
     "output_type": "stream",
     "text": [
      "ERROR: Could not install packages due to an OSError: [WinError 5] Access is denied: 'd:\\\\users\\\\srish\\\\pycharmprojects\\\\environments\\\\datacrafters\\\\lib\\\\site-packages\\\\matplotlib\\\\backends\\\\_backend_agg.cp312-win_amd64.pyd'\n",
      "Check the permissions.\n",
      "\n",
      "WARNING: Ignoring invalid distribution ~atplotlib (D:\\Users\\srish\\PycharmProjects\\Environments\\DataCrafters\\Lib\\site-packages)\n",
      "\n",
      "[notice] A new release of pip is available: 23.2.1 -> 24.1.1\n",
      "[notice] To update, run: python.exe -m pip install --upgrade pip\n"
     ]
    }
   ],
   "execution_count": 29
  },
  {
   "metadata": {
    "ExecuteTime": {
     "end_time": "2024-07-01T07:57:28.750981Z",
     "start_time": "2024-07-01T07:57:28.406069Z"
    }
   },
   "cell_type": "code",
   "source": [
    "from pydantic_settings import BaseSettings \n",
    "from pandas_profiling import ProfileReport"
   ],
   "id": "40299d29ce5567d6",
   "outputs": [
    {
     "ename": "PydanticImportError",
     "evalue": "`BaseSettings` has been moved to the `pydantic-settings` package. See https://docs.pydantic.dev/2.7/migration/#basesettings-has-moved-to-pydantic-settings for more details.\n\nFor further information visit https://errors.pydantic.dev/2.7/u/import-error",
     "output_type": "error",
     "traceback": [
      "\u001B[1;31m---------------------------------------------------------------------------\u001B[0m",
      "\u001B[1;31mPydanticImportError\u001B[0m                       Traceback (most recent call last)",
      "Cell \u001B[1;32mIn[33], line 2\u001B[0m\n\u001B[0;32m      1\u001B[0m \u001B[38;5;28;01mfrom\u001B[39;00m \u001B[38;5;21;01mpydantic_settings\u001B[39;00m \u001B[38;5;28;01mimport\u001B[39;00m BaseSettings \n\u001B[1;32m----> 2\u001B[0m \u001B[38;5;28;01mfrom\u001B[39;00m \u001B[38;5;21;01mpandas_profiling\u001B[39;00m \u001B[38;5;28;01mimport\u001B[39;00m ProfileReport\n",
      "File \u001B[1;32mD:\\Users\\srish\\PycharmProjects\\Environments\\DataCrafters\\Lib\\site-packages\\pandas_profiling\\__init__.py:6\u001B[0m\n\u001B[0;32m      1\u001B[0m \u001B[38;5;124;03m\"\"\"Main module of pandas-profiling.\u001B[39;00m\n\u001B[0;32m      2\u001B[0m \n\u001B[0;32m      3\u001B[0m \u001B[38;5;124;03m.. include:: ../../README.md\u001B[39;00m\n\u001B[0;32m      4\u001B[0m \u001B[38;5;124;03m\"\"\"\u001B[39;00m\n\u001B[1;32m----> 6\u001B[0m \u001B[38;5;28;01mfrom\u001B[39;00m \u001B[38;5;21;01mpandas_profiling\u001B[39;00m\u001B[38;5;21;01m.\u001B[39;00m\u001B[38;5;21;01mcontroller\u001B[39;00m \u001B[38;5;28;01mimport\u001B[39;00m pandas_decorator\n\u001B[0;32m      7\u001B[0m \u001B[38;5;28;01mfrom\u001B[39;00m \u001B[38;5;21;01mpandas_profiling\u001B[39;00m\u001B[38;5;21;01m.\u001B[39;00m\u001B[38;5;21;01mprofile_report\u001B[39;00m \u001B[38;5;28;01mimport\u001B[39;00m ProfileReport\n\u001B[0;32m      8\u001B[0m \u001B[38;5;28;01mfrom\u001B[39;00m \u001B[38;5;21;01mpandas_profiling\u001B[39;00m\u001B[38;5;21;01m.\u001B[39;00m\u001B[38;5;21;01mversion\u001B[39;00m \u001B[38;5;28;01mimport\u001B[39;00m __version__\n",
      "File \u001B[1;32mD:\\Users\\srish\\PycharmProjects\\Environments\\DataCrafters\\Lib\\site-packages\\pandas_profiling\\controller\\pandas_decorator.py:4\u001B[0m\n\u001B[0;32m      1\u001B[0m \u001B[38;5;124;03m\"\"\"This file add the decorator on the DataFrame object.\"\"\"\u001B[39;00m\n\u001B[0;32m      2\u001B[0m \u001B[38;5;28;01mfrom\u001B[39;00m \u001B[38;5;21;01mpandas\u001B[39;00m \u001B[38;5;28;01mimport\u001B[39;00m DataFrame\n\u001B[1;32m----> 4\u001B[0m \u001B[38;5;28;01mfrom\u001B[39;00m \u001B[38;5;21;01mpandas_profiling\u001B[39;00m\u001B[38;5;21;01m.\u001B[39;00m\u001B[38;5;21;01mprofile_report\u001B[39;00m \u001B[38;5;28;01mimport\u001B[39;00m ProfileReport\n\u001B[0;32m      7\u001B[0m \u001B[38;5;28;01mdef\u001B[39;00m \u001B[38;5;21mprofile_report\u001B[39m(df: DataFrame, \u001B[38;5;241m*\u001B[39m\u001B[38;5;241m*\u001B[39mkwargs) \u001B[38;5;241m-\u001B[39m\u001B[38;5;241m>\u001B[39m ProfileReport:\n\u001B[0;32m      8\u001B[0m \u001B[38;5;250m    \u001B[39m\u001B[38;5;124;03m\"\"\"Profile a DataFrame.\u001B[39;00m\n\u001B[0;32m      9\u001B[0m \n\u001B[0;32m     10\u001B[0m \u001B[38;5;124;03m    Args:\u001B[39;00m\n\u001B[1;32m   (...)\u001B[0m\n\u001B[0;32m     15\u001B[0m \u001B[38;5;124;03m        A ProfileReport of the DataFrame.\u001B[39;00m\n\u001B[0;32m     16\u001B[0m \u001B[38;5;124;03m    \"\"\"\u001B[39;00m\n",
      "File \u001B[1;32mD:\\Users\\srish\\PycharmProjects\\Environments\\DataCrafters\\Lib\\site-packages\\pandas_profiling\\profile_report.py:13\u001B[0m\n\u001B[0;32m     10\u001B[0m \u001B[38;5;28;01mfrom\u001B[39;00m \u001B[38;5;21;01mtqdm\u001B[39;00m\u001B[38;5;21;01m.\u001B[39;00m\u001B[38;5;21;01mauto\u001B[39;00m \u001B[38;5;28;01mimport\u001B[39;00m tqdm\n\u001B[0;32m     11\u001B[0m \u001B[38;5;28;01mfrom\u001B[39;00m \u001B[38;5;21;01mvisions\u001B[39;00m \u001B[38;5;28;01mimport\u001B[39;00m VisionsTypeset\n\u001B[1;32m---> 13\u001B[0m \u001B[38;5;28;01mfrom\u001B[39;00m \u001B[38;5;21;01mpandas_profiling\u001B[39;00m\u001B[38;5;21;01m.\u001B[39;00m\u001B[38;5;21;01mconfig\u001B[39;00m \u001B[38;5;28;01mimport\u001B[39;00m Config, Settings\n\u001B[0;32m     14\u001B[0m \u001B[38;5;28;01mfrom\u001B[39;00m \u001B[38;5;21;01mpandas_profiling\u001B[39;00m\u001B[38;5;21;01m.\u001B[39;00m\u001B[38;5;21;01mexpectations_report\u001B[39;00m \u001B[38;5;28;01mimport\u001B[39;00m ExpectationsReport\n\u001B[0;32m     15\u001B[0m \u001B[38;5;28;01mfrom\u001B[39;00m \u001B[38;5;21;01mpandas_profiling\u001B[39;00m\u001B[38;5;21;01m.\u001B[39;00m\u001B[38;5;21;01mmodel\u001B[39;00m\u001B[38;5;21;01m.\u001B[39;00m\u001B[38;5;21;01malerts\u001B[39;00m \u001B[38;5;28;01mimport\u001B[39;00m AlertType\n",
      "File \u001B[1;32mD:\\Users\\srish\\PycharmProjects\\Environments\\DataCrafters\\Lib\\site-packages\\pandas_profiling\\config.py:5\u001B[0m\n\u001B[0;32m      2\u001B[0m \u001B[38;5;28;01mfrom\u001B[39;00m \u001B[38;5;21;01menum\u001B[39;00m \u001B[38;5;28;01mimport\u001B[39;00m Enum\n\u001B[0;32m      3\u001B[0m \u001B[38;5;28;01mfrom\u001B[39;00m \u001B[38;5;21;01mtyping\u001B[39;00m \u001B[38;5;28;01mimport\u001B[39;00m Any, Dict, List, Optional\n\u001B[1;32m----> 5\u001B[0m \u001B[38;5;28;01mfrom\u001B[39;00m \u001B[38;5;21;01mpydantic\u001B[39;00m \u001B[38;5;28;01mimport\u001B[39;00m BaseModel, BaseSettings, Field\n\u001B[0;32m      8\u001B[0m \u001B[38;5;28;01mdef\u001B[39;00m \u001B[38;5;21m_merge_dictionaries\u001B[39m(dict1: \u001B[38;5;28mdict\u001B[39m, dict2: \u001B[38;5;28mdict\u001B[39m) \u001B[38;5;241m-\u001B[39m\u001B[38;5;241m>\u001B[39m \u001B[38;5;28mdict\u001B[39m:\n\u001B[0;32m      9\u001B[0m \u001B[38;5;250m    \u001B[39m\u001B[38;5;124;03m\"\"\"\u001B[39;00m\n\u001B[0;32m     10\u001B[0m \u001B[38;5;124;03m    Recursive merge dictionaries.\u001B[39;00m\n\u001B[0;32m     11\u001B[0m \n\u001B[1;32m   (...)\u001B[0m\n\u001B[0;32m     14\u001B[0m \u001B[38;5;124;03m    :return: Merged dictionary\u001B[39;00m\n\u001B[0;32m     15\u001B[0m \u001B[38;5;124;03m    \"\"\"\u001B[39;00m\n",
      "File \u001B[1;32mD:\\Users\\srish\\PycharmProjects\\Environments\\DataCrafters\\Lib\\site-packages\\pydantic\\__init__.py:386\u001B[0m, in \u001B[0;36m__getattr__\u001B[1;34m(attr_name)\u001B[0m\n\u001B[0;32m    384\u001B[0m dynamic_attr \u001B[38;5;241m=\u001B[39m _dynamic_imports\u001B[38;5;241m.\u001B[39mget(attr_name)\n\u001B[0;32m    385\u001B[0m \u001B[38;5;28;01mif\u001B[39;00m dynamic_attr \u001B[38;5;129;01mis\u001B[39;00m \u001B[38;5;28;01mNone\u001B[39;00m:\n\u001B[1;32m--> 386\u001B[0m     \u001B[38;5;28;01mreturn\u001B[39;00m \u001B[43m_getattr_migration\u001B[49m\u001B[43m(\u001B[49m\u001B[43mattr_name\u001B[49m\u001B[43m)\u001B[49m\n\u001B[0;32m    388\u001B[0m package, module_name \u001B[38;5;241m=\u001B[39m dynamic_attr\n\u001B[0;32m    390\u001B[0m \u001B[38;5;28;01mfrom\u001B[39;00m \u001B[38;5;21;01mimportlib\u001B[39;00m \u001B[38;5;28;01mimport\u001B[39;00m import_module\n",
      "File \u001B[1;32mD:\\Users\\srish\\PycharmProjects\\Environments\\DataCrafters\\Lib\\site-packages\\pydantic\\_migration.py:296\u001B[0m, in \u001B[0;36mgetattr_migration.<locals>.wrapper\u001B[1;34m(name)\u001B[0m\n\u001B[0;32m    294\u001B[0m     \u001B[38;5;28;01mreturn\u001B[39;00m import_string(REDIRECT_TO_V1[import_path])\n\u001B[0;32m    295\u001B[0m \u001B[38;5;28;01mif\u001B[39;00m import_path \u001B[38;5;241m==\u001B[39m \u001B[38;5;124m'\u001B[39m\u001B[38;5;124mpydantic:BaseSettings\u001B[39m\u001B[38;5;124m'\u001B[39m:\n\u001B[1;32m--> 296\u001B[0m     \u001B[38;5;28;01mraise\u001B[39;00m PydanticImportError(\n\u001B[0;32m    297\u001B[0m         \u001B[38;5;124m'\u001B[39m\u001B[38;5;124m`BaseSettings` has been moved to the `pydantic-settings` package. \u001B[39m\u001B[38;5;124m'\u001B[39m\n\u001B[0;32m    298\u001B[0m         \u001B[38;5;124mf\u001B[39m\u001B[38;5;124m'\u001B[39m\u001B[38;5;124mSee https://docs.pydantic.dev/\u001B[39m\u001B[38;5;132;01m{\u001B[39;00mversion_short()\u001B[38;5;132;01m}\u001B[39;00m\u001B[38;5;124m/migration/#basesettings-has-moved-to-pydantic-settings \u001B[39m\u001B[38;5;124m'\u001B[39m\n\u001B[0;32m    299\u001B[0m         \u001B[38;5;124m'\u001B[39m\u001B[38;5;124mfor more details.\u001B[39m\u001B[38;5;124m'\u001B[39m\n\u001B[0;32m    300\u001B[0m     )\n\u001B[0;32m    301\u001B[0m \u001B[38;5;28;01mif\u001B[39;00m import_path \u001B[38;5;129;01min\u001B[39;00m REMOVED_IN_V2:\n\u001B[0;32m    302\u001B[0m     \u001B[38;5;28;01mraise\u001B[39;00m PydanticImportError(\u001B[38;5;124mf\u001B[39m\u001B[38;5;124m'\u001B[39m\u001B[38;5;124m`\u001B[39m\u001B[38;5;132;01m{\u001B[39;00mimport_path\u001B[38;5;132;01m}\u001B[39;00m\u001B[38;5;124m` has been removed in V2.\u001B[39m\u001B[38;5;124m'\u001B[39m)\n",
      "\u001B[1;31mPydanticImportError\u001B[0m: `BaseSettings` has been moved to the `pydantic-settings` package. See https://docs.pydantic.dev/2.7/migration/#basesettings-has-moved-to-pydantic-settings for more details.\n\nFor further information visit https://errors.pydantic.dev/2.7/u/import-error"
     ]
    }
   ],
   "execution_count": 33
  },
  {
   "metadata": {},
   "cell_type": "code",
   "outputs": [],
   "execution_count": null,
   "source": "",
   "id": "d0fe4e500e33b2e9"
  }
 ],
 "metadata": {
  "kernelspec": {
   "display_name": "Python 3",
   "language": "python",
   "name": "python3"
  },
  "language_info": {
   "codemirror_mode": {
    "name": "ipython",
    "version": 2
   },
   "file_extension": ".py",
   "mimetype": "text/x-python",
   "name": "python",
   "nbconvert_exporter": "python",
   "pygments_lexer": "ipython2",
   "version": "2.7.6"
  }
 },
 "nbformat": 4,
 "nbformat_minor": 5
}
