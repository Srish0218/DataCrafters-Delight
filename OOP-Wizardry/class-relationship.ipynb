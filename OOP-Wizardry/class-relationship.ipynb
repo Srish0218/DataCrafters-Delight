{
 "cells": [
  {
   "metadata": {},
   "cell_type": "markdown",
   "source": [
    "Class Relationships\n",
    "- Aggregation\n",
    "- Inheritance"
   ],
   "id": "a34fff4a2f3c4d7"
  },
  {
   "metadata": {},
   "cell_type": "markdown",
   "source": "Aggregation(Has-A relationship)",
   "id": "e6d8927f264c9d01"
  },
  {
   "cell_type": "code",
   "id": "initial_id",
   "metadata": {
    "collapsed": true,
    "ExecuteTime": {
     "end_time": "2024-06-09T07:19:22.019153Z",
     "start_time": "2024-06-09T07:19:22.008562Z"
    }
   },
   "source": [
    "class Customer:\n",
    "    def __init__(self , name , gender , address):\n",
    "        self.name = name\n",
    "        self.gender = gender\n",
    "        self.address = address\n",
    "        \n",
    "    def print_address(self):\n",
    "        print(f'{self.address.get_city()} - {self.address.pin} , {self.address.state}')\n",
    "        \n",
    "    def edit_profile(self , new_name , new_city , new_pin , new_state):\n",
    "        self.name = new_name\n",
    "        self.address.edit_address(new_city , new_pin , new_state)\n",
    "    \n",
    "    \n",
    "    \n",
    "class Address:\n",
    "    def __init__(self , city , pin , state):\n",
    "        self.__city = city\n",
    "        self.pin = pin\n",
    "        self.state = state\n",
    "        \n",
    "    def get_city(self):\n",
    "        return self.__city\n",
    "    \n",
    "    def edit_address(self , new_city , new_pin , new_state):\n",
    "        self.__city = new_city\n",
    "        self.pin = new_pin\n",
    "        self.state = new_state"
   ],
   "outputs": [],
   "execution_count": 16
  },
  {
   "metadata": {
    "ExecuteTime": {
     "end_time": "2024-06-09T07:19:22.306164Z",
     "start_time": "2024-06-09T07:19:22.301015Z"
    }
   },
   "cell_type": "code",
   "source": [
    "add1 = Address('Ludhiana' , 141010 , 'Punjab')\n",
    "cus1  = Customer('Srish' , 'Female' , add1)"
   ],
   "id": "e3ea0ac7f1f4a3e5",
   "outputs": [],
   "execution_count": 17
  },
  {
   "metadata": {
    "ExecuteTime": {
     "end_time": "2024-06-09T07:19:22.708289Z",
     "start_time": "2024-06-09T07:19:22.701129Z"
    }
   },
   "cell_type": "code",
   "source": "cus1.print_address()",
   "id": "779031ad6a5deef2",
   "outputs": [
    {
     "name": "stdout",
     "output_type": "stream",
     "text": [
      "Ludhiana - 141010 , Punjab\n"
     ]
    }
   ],
   "execution_count": 18
  },
  {
   "metadata": {
    "ExecuteTime": {
     "end_time": "2024-06-09T07:20:53.718821Z",
     "start_time": "2024-06-09T07:20:53.713057Z"
    }
   },
   "cell_type": "code",
   "source": "cus1.edit_profile('satyam' , 'Muzaffarpur' , 842001 , 'Bihar')",
   "id": "4664f1be2efce48e",
   "outputs": [],
   "execution_count": 19
  },
  {
   "metadata": {
    "ExecuteTime": {
     "end_time": "2024-06-09T07:21:12.068107Z",
     "start_time": "2024-06-09T07:21:12.051911Z"
    }
   },
   "cell_type": "code",
   "source": "cus1.name",
   "id": "472d3592c378465c",
   "outputs": [
    {
     "data": {
      "text/plain": [
       "'satyam'"
      ]
     },
     "execution_count": 20,
     "metadata": {},
     "output_type": "execute_result"
    }
   ],
   "execution_count": 20
  },
  {
   "metadata": {
    "ExecuteTime": {
     "end_time": "2024-06-09T07:21:17.770177Z",
     "start_time": "2024-06-09T07:21:17.762889Z"
    }
   },
   "cell_type": "code",
   "source": "cus1.print_address()",
   "id": "f05cd344918dd45f",
   "outputs": [
    {
     "name": "stdout",
     "output_type": "stream",
     "text": [
      "Muzaffarpur - 842001 , Bihar\n"
     ]
    }
   ],
   "execution_count": 21
  },
  {
   "metadata": {},
   "cell_type": "code",
   "outputs": [],
   "execution_count": null,
   "source": "",
   "id": "8d8c83a283588299"
  }
 ],
 "metadata": {
  "kernelspec": {
   "display_name": "Python 3",
   "language": "python",
   "name": "python3"
  },
  "language_info": {
   "codemirror_mode": {
    "name": "ipython",
    "version": 2
   },
   "file_extension": ".py",
   "mimetype": "text/x-python",
   "name": "python",
   "nbconvert_exporter": "python",
   "pygments_lexer": "ipython2",
   "version": "2.7.6"
  }
 },
 "nbformat": 4,
 "nbformat_minor": 5
}
