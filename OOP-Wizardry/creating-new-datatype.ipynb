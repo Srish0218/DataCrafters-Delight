{
 "cells": [
  {
   "metadata": {
    "ExecuteTime": {
     "end_time": "2024-06-08T11:32:16.060099Z",
     "start_time": "2024-06-08T11:32:16.048350Z"
    }
   },
   "cell_type": "code",
   "source": [
    "class Fraction:\n",
    "    #parameterized cons\n",
    "    def __init__(self, x, y):\n",
    "        self.num = x\n",
    "        self.deno = y\n",
    "        \n",
    "    def __str__(self):\n",
    "        return f'{self.num}/{self.deno}'\n",
    "    \n",
    "    def __add__(self, other):\n",
    "        new_num = self.num * other.deno + self.deno * other.num\n",
    "        new_deno = self.deno * other.deno\n",
    "        return f'{new_num}/{new_deno}'\n",
    "    \n",
    "    def __sub__(self, other):\n",
    "        new_num = self.num * other.deno - self.deno * other.num\n",
    "        new_deno = self.deno * other.deno\n",
    "        return f'{new_num}/{new_deno}'\n",
    "    \n",
    "    def __mul__(self, other):\n",
    "        new_num = self.num * other.num\n",
    "        new_deno = self.deno * other.deno\n",
    "        return f'{new_num}/{new_deno}' \n",
    "    \n",
    "    def __truediv__(self, other):\n",
    "        new_num = self.num * other.deno\n",
    "        new_deno = self.deno * other.num\n",
    "        return f'{new_num}/{new_deno}' "
   ],
   "id": "979750a7002c7032",
   "outputs": [],
   "execution_count": 45
  },
  {
   "cell_type": "code",
   "id": "initial_id",
   "metadata": {
    "collapsed": true,
    "ExecuteTime": {
     "end_time": "2024-06-08T11:32:17.028044Z",
     "start_time": "2024-06-08T11:32:17.024438Z"
    }
   },
   "source": [
    "fr1 = Fraction( 3 , 4)\n",
    "fr2 = Fraction(1 , 2)"
   ],
   "outputs": [],
   "execution_count": 46
  },
  {
   "metadata": {
    "ExecuteTime": {
     "end_time": "2024-06-08T11:32:17.372497Z",
     "start_time": "2024-06-08T11:32:17.366802Z"
    }
   },
   "cell_type": "code",
   "source": "print(fr1)",
   "id": "26d7caccf6bd64b5",
   "outputs": [
    {
     "name": "stdout",
     "output_type": "stream",
     "text": [
      "3/4\n"
     ]
    }
   ],
   "execution_count": 47
  },
  {
   "metadata": {
    "ExecuteTime": {
     "end_time": "2024-06-08T11:32:17.791793Z",
     "start_time": "2024-06-08T11:32:17.786448Z"
    }
   },
   "cell_type": "code",
   "source": "print(fr2) ",
   "id": "89e35ed90148aca4",
   "outputs": [
    {
     "name": "stdout",
     "output_type": "stream",
     "text": [
      "1/2\n"
     ]
    }
   ],
   "execution_count": 48
  },
  {
   "metadata": {
    "ExecuteTime": {
     "end_time": "2024-06-08T11:32:18.284710Z",
     "start_time": "2024-06-08T11:32:18.279073Z"
    }
   },
   "cell_type": "code",
   "source": "print((fr1 + fr2))",
   "id": "9374193142a8eac5",
   "outputs": [
    {
     "name": "stdout",
     "output_type": "stream",
     "text": [
      "10/8\n"
     ]
    }
   ],
   "execution_count": 49
  },
  {
   "metadata": {
    "ExecuteTime": {
     "end_time": "2024-06-08T11:32:26.076083Z",
     "start_time": "2024-06-08T11:32:26.071638Z"
    }
   },
   "cell_type": "code",
   "source": "print((fr1 - fr2))\n",
   "id": "9fe23e9e142e4ca2",
   "outputs": [
    {
     "name": "stdout",
     "output_type": "stream",
     "text": [
      "2/8\n"
     ]
    }
   ],
   "execution_count": 50
  },
  {
   "metadata": {
    "ExecuteTime": {
     "end_time": "2024-06-08T11:32:31.407406Z",
     "start_time": "2024-06-08T11:32:31.400024Z"
    }
   },
   "cell_type": "code",
   "source": "fr1 * fr2",
   "id": "9dec68dfe0343e8d",
   "outputs": [
    {
     "data": {
      "text/plain": [
       "'3/8'"
      ]
     },
     "execution_count": 51,
     "metadata": {},
     "output_type": "execute_result"
    }
   ],
   "execution_count": 51
  },
  {
   "metadata": {
    "ExecuteTime": {
     "end_time": "2024-06-08T11:32:37.974369Z",
     "start_time": "2024-06-08T11:32:37.964651Z"
    }
   },
   "cell_type": "code",
   "source": "fr1/fr2",
   "id": "fcc4bf1eda0ea5b2",
   "outputs": [
    {
     "data": {
      "text/plain": [
       "'6/4'"
      ]
     },
     "execution_count": 52,
     "metadata": {},
     "output_type": "execute_result"
    }
   ],
   "execution_count": 52
  },
  {
   "metadata": {
    "ExecuteTime": {
     "end_time": "2024-06-08T11:37:16.624859Z",
     "start_time": "2024-06-08T11:37:16.597351Z"
    }
   },
   "cell_type": "code",
   "source": [
    "from math import gcd\n",
    "\n",
    "class Fraction:\n",
    "    def __init__(self, x, y):\n",
    "        self.num = x\n",
    "        self.deno = y\n",
    "        \n",
    "    def __str__(self):\n",
    "        return f'{self.num}/{self.deno}'\n",
    "    \n",
    "    def simplify(self):\n",
    "        common_divisor = gcd(self.num, self.deno)\n",
    "        self.num //= common_divisor\n",
    "        self.deno //= common_divisor\n",
    "    \n",
    "    def __add__(self, *others):\n",
    "        num = self.num\n",
    "        deno = self.deno\n",
    "        for other in others:\n",
    "            num = num * other.deno + deno * other.num\n",
    "            deno = deno * other.deno\n",
    "        result = Fraction(num, deno)\n",
    "        result.simplify()\n",
    "        return result\n",
    "    \n",
    "    def __sub__(self, *others):\n",
    "        num = self.num\n",
    "        deno = self.deno\n",
    "        for other in others:\n",
    "            num = num * other.deno - deno * other.num\n",
    "            deno = deno * other.deno\n",
    "        result = Fraction(num, deno)\n",
    "        result.simplify()\n",
    "        return result\n",
    "    \n",
    "    def __mul__(self, *others):\n",
    "        num = self.num\n",
    "        deno = self.deno\n",
    "        for other in others:\n",
    "            num *= other.num\n",
    "            deno *= other.deno\n",
    "        result = Fraction(num, deno)\n",
    "        result.simplify()\n",
    "        return result\n",
    "    \n",
    "    def __truediv__(self, *others):\n",
    "        num = self.num\n",
    "        deno = self.deno\n",
    "        for other in others:\n",
    "            num *= other.deno\n",
    "            deno *= other.num\n",
    "        result = Fraction(num, deno)\n",
    "        result.simplify()\n",
    "        return result\n",
    "\n",
    "# Example usage:\n",
    "f1 = Fraction(1, 2)\n",
    "f2 = Fraction(1, 3)\n",
    "f3 = Fraction(1, 4)\n",
    "f4 = Fraction(1 , 5)\n",
    "\n",
    "print(f\"Addition: {f1 + f2 + f3 + f4}\")       \n",
    "print(f\"Subtraction: {f1 - f2 - f3 - f4}\")   \n",
    "print(f\"Multiplication: {f1 * f2 * f3 * f4}\")\n",
    "print(f\"Division: {f1 / f2 / f3 / f4}\")\n",
    "\n"
   ],
   "id": "1ab4757d84bf65fd",
   "outputs": [
    {
     "name": "stdout",
     "output_type": "stream",
     "text": [
      "Addition: 77/60\n",
      "Subtraction: -17/60\n",
      "Multiplication: 1/120\n",
      "Division: 30/1\n"
     ]
    }
   ],
   "execution_count": 54
  },
  {
   "metadata": {},
   "cell_type": "code",
   "outputs": [],
   "execution_count": null,
   "source": "",
   "id": "e4998c37f31e21f4"
  }
 ],
 "metadata": {
  "kernelspec": {
   "display_name": "Python 3",
   "language": "python",
   "name": "python3"
  },
  "language_info": {
   "codemirror_mode": {
    "name": "ipython",
    "version": 2
   },
   "file_extension": ".py",
   "mimetype": "text/x-python",
   "name": "python",
   "nbconvert_exporter": "python",
   "pygments_lexer": "ipython2",
   "version": "2.7.6"
  }
 },
 "nbformat": 4,
 "nbformat_minor": 5
}
