{
 "cells": [
  {
   "cell_type": "code",
   "id": "initial_id",
   "metadata": {
    "collapsed": true,
    "ExecuteTime": {
     "end_time": "2024-06-09T07:34:50.886880Z",
     "start_time": "2024-06-09T07:34:50.880940Z"
    }
   },
   "source": [
    "class User:\n",
    "    def __init__(self):\n",
    "        self.name = 'Srish'\n",
    "    \n",
    "    def login(self):\n",
    "        print('login')\n",
    "    \n",
    "\n",
    "class Student(User): # child\n",
    "    # def __init__(self):\n",
    "    #     self.uid = 4354\n",
    "    \n",
    "    def enroll(self):\n",
    "        print(\"Enrolled!!\")"
   ],
   "outputs": [],
   "execution_count": 4
  },
  {
   "metadata": {
    "ExecuteTime": {
     "end_time": "2024-06-09T07:34:51.384813Z",
     "start_time": "2024-06-09T07:34:51.378911Z"
    }
   },
   "cell_type": "code",
   "source": [
    "u = User()\n",
    "s = Student()"
   ],
   "id": "c3e540c400bdde27",
   "outputs": [],
   "execution_count": 5
  },
  {
   "metadata": {
    "ExecuteTime": {
     "end_time": "2024-06-09T07:34:51.838238Z",
     "start_time": "2024-06-09T07:34:51.827099Z"
    }
   },
   "cell_type": "code",
   "source": "s.name",
   "id": "2a6a089a098d4b1f",
   "outputs": [
    {
     "data": {
      "text/plain": [
       "'Srish'"
      ]
     },
     "execution_count": 6,
     "metadata": {},
     "output_type": "execute_result"
    }
   ],
   "execution_count": 6
  },
  {
   "metadata": {
    "ExecuteTime": {
     "end_time": "2024-06-09T07:34:59.816871Z",
     "start_time": "2024-06-09T07:34:59.812527Z"
    }
   },
   "cell_type": "code",
   "source": "s.login()",
   "id": "d75a8012cd60d24a",
   "outputs": [
    {
     "name": "stdout",
     "output_type": "stream",
     "text": [
      "login\n"
     ]
    }
   ],
   "execution_count": 7
  },
  {
   "metadata": {
    "ExecuteTime": {
     "end_time": "2024-06-09T07:35:06.406134Z",
     "start_time": "2024-06-09T07:35:06.400975Z"
    }
   },
   "cell_type": "code",
   "source": "s.enroll()",
   "id": "9f43734abda3286d",
   "outputs": [
    {
     "name": "stdout",
     "output_type": "stream",
     "text": [
      "Enrolled!!\n"
     ]
    }
   ],
   "execution_count": 8
  },
  {
   "metadata": {
    "ExecuteTime": {
     "end_time": "2024-06-09T07:43:09.234233Z",
     "start_time": "2024-06-09T07:43:09.228361Z"
    }
   },
   "cell_type": "code",
   "source": [
    " # constructor example\n",
    "\n",
    "class Phone:\n",
    "    def __init__(self, price, brand, camera):\n",
    "        print (\"Inside phone constructor\")\n",
    "        self.price = price\n",
    "        self.brand = brand\n",
    "        self.camera = camera\n",
    "\n",
    "    def buy(self):\n",
    "        print (\"Buying a phone\")\n",
    "        \n",
    "\n",
    "class SmartPhone(Phone):\n",
    "    pass\n"
   ],
   "id": "e673e629f9f3705b",
   "outputs": [],
   "execution_count": 10
  },
  {
   "metadata": {
    "ExecuteTime": {
     "end_time": "2024-06-09T07:43:10.419373Z",
     "start_time": "2024-06-09T07:43:10.413829Z"
    }
   },
   "cell_type": "code",
   "source": [
    "\n",
    "s=SmartPhone(20000, \"Apple\", 13)\n",
    "s.buy()"
   ],
   "id": "9b7a5bdebfb988a",
   "outputs": [
    {
     "name": "stdout",
     "output_type": "stream",
     "text": [
      "Inside phone constructor\n",
      "Buying a phone\n"
     ]
    }
   ],
   "execution_count": 11
  },
  {
   "metadata": {
    "ExecuteTime": {
     "end_time": "2024-06-09T07:47:45.516965Z",
     "start_time": "2024-06-09T07:47:45.510941Z"
    }
   },
   "cell_type": "code",
   "source": [
    "# constructor example 2\n",
    "\n",
    "class Phone:\n",
    "    def __init__(self, price, brand, camera):\n",
    "        print (\"Inside phone constructor\")\n",
    "        self.__price = price\n",
    "        self.brand = brand\n",
    "        self.camera = camera\n",
    "\n",
    "class SmartPhone(Phone):\n",
    "    def __init__(self, os, ram):\n",
    "        self.os = os\n",
    "        self.ram = ram\n",
    "        print (\"Inside SmartPhone constructor\")\n",
    "\n"
   ],
   "id": "c67402f238df39ae",
   "outputs": [],
   "execution_count": 13
  },
  {
   "metadata": {
    "ExecuteTime": {
     "end_time": "2024-06-09T07:47:49.789396Z",
     "start_time": "2024-06-09T07:47:49.784440Z"
    }
   },
   "cell_type": "code",
   "source": "s=SmartPhone(\"Android\", 2)\n",
   "id": "fbd389b72dcf2b61",
   "outputs": [
    {
     "name": "stdout",
     "output_type": "stream",
     "text": [
      "Inside SmartPhone constructor\n"
     ]
    }
   ],
   "execution_count": 14
  },
  {
   "metadata": {
    "ExecuteTime": {
     "end_time": "2024-06-09T07:47:50.623027Z",
     "start_time": "2024-06-09T07:47:50.600026Z"
    }
   },
   "cell_type": "code",
   "source": "s.brand",
   "id": "ba50b718e8def196",
   "outputs": [
    {
     "ename": "AttributeError",
     "evalue": "'SmartPhone' object has no attribute 'brand'",
     "output_type": "error",
     "traceback": [
      "\u001B[1;31m---------------------------------------------------------------------------\u001B[0m",
      "\u001B[1;31mAttributeError\u001B[0m                            Traceback (most recent call last)",
      "Cell \u001B[1;32mIn[15], line 1\u001B[0m\n\u001B[1;32m----> 1\u001B[0m \u001B[43ms\u001B[49m\u001B[38;5;241;43m.\u001B[39;49m\u001B[43mbrand\u001B[49m\n",
      "\u001B[1;31mAttributeError\u001B[0m: 'SmartPhone' object has no attribute 'brand'"
     ]
    }
   ],
   "execution_count": 15
  },
  {
   "metadata": {
    "ExecuteTime": {
     "end_time": "2024-06-09T07:49:14.336281Z",
     "start_time": "2024-06-09T07:49:14.328287Z"
    }
   },
   "cell_type": "code",
   "source": [
    "# child can't access private members of the class\n",
    "\n",
    "class Phone:\n",
    "    def __init__(self, price, brand, camera):\n",
    "        print (\"Inside phone constructor\")\n",
    "        self.__price = price\n",
    "        self.brand = brand\n",
    "        self.camera = camera\n",
    "\n",
    "    #getter\n",
    "    def show(self):\n",
    "        print (self.__price)\n",
    "\n",
    "class SmartPhone(Phone):\n",
    "    def check(self):\n",
    "        print(self.__price)\n",
    "\n",
    "s=SmartPhone(20000, \"Apple\", 13)\n",
    "s.show()"
   ],
   "id": "7e70fd0ef7cd85e8",
   "outputs": [
    {
     "name": "stdout",
     "output_type": "stream",
     "text": [
      "Inside phone constructor\n",
      "20000\n"
     ]
    }
   ],
   "execution_count": 16
  },
  {
   "metadata": {
    "ExecuteTime": {
     "end_time": "2024-06-09T07:50:21.978855Z",
     "start_time": "2024-06-09T07:50:21.928580Z"
    }
   },
   "cell_type": "code",
   "source": "s.check()",
   "id": "a549cbdb4bbb5a98",
   "outputs": [
    {
     "ename": "AttributeError",
     "evalue": "'SmartPhone' object has no attribute '_SmartPhone__price'",
     "output_type": "error",
     "traceback": [
      "\u001B[1;31m---------------------------------------------------------------------------\u001B[0m",
      "\u001B[1;31mAttributeError\u001B[0m                            Traceback (most recent call last)",
      "Cell \u001B[1;32mIn[17], line 1\u001B[0m\n\u001B[1;32m----> 1\u001B[0m \u001B[43ms\u001B[49m\u001B[38;5;241;43m.\u001B[39;49m\u001B[43mcheck\u001B[49m\u001B[43m(\u001B[49m\u001B[43m)\u001B[49m\n",
      "Cell \u001B[1;32mIn[16], line 16\u001B[0m, in \u001B[0;36mSmartPhone.check\u001B[1;34m(self)\u001B[0m\n\u001B[0;32m     15\u001B[0m \u001B[38;5;28;01mdef\u001B[39;00m \u001B[38;5;21mcheck\u001B[39m(\u001B[38;5;28mself\u001B[39m):\n\u001B[1;32m---> 16\u001B[0m     \u001B[38;5;28mprint\u001B[39m(\u001B[38;5;28;43mself\u001B[39;49m\u001B[38;5;241;43m.\u001B[39;49m\u001B[43m__price\u001B[49m)\n",
      "\u001B[1;31mAttributeError\u001B[0m: 'SmartPhone' object has no attribute '_SmartPhone__price'"
     ]
    }
   ],
   "execution_count": 17
  },
  {
   "metadata": {
    "ExecuteTime": {
     "end_time": "2024-06-09T07:51:53.236381Z",
     "start_time": "2024-06-09T07:51:53.227468Z"
    }
   },
   "cell_type": "code",
   "source": [
    "class Parent:\n",
    "\n",
    "    def __init__(self,num):\n",
    "        self.__num=num\n",
    "\n",
    "    def get_num(self):\n",
    "        return self.__num\n",
    "\n",
    "class Child(Parent):\n",
    "\n",
    "    def show(self):\n",
    "        print(\"This is in child class\")\n",
    "        \n",
    "son=Child(100)\n",
    "print(son.get_num())\n",
    "son.show()"
   ],
   "id": "36bc65edd9e9c6ed",
   "outputs": [
    {
     "name": "stdout",
     "output_type": "stream",
     "text": [
      "100\n",
      "This is in child class\n"
     ]
    }
   ],
   "execution_count": 18
  },
  {
   "metadata": {
    "ExecuteTime": {
     "end_time": "2024-06-09T07:53:49.915683Z",
     "start_time": "2024-06-09T07:53:49.818504Z"
    }
   },
   "cell_type": "code",
   "source": [
    "class Parent:\n",
    "\n",
    "    def __init__(self,num):\n",
    "        self.__num=num\n",
    "\n",
    "    def get_num(self):\n",
    "        return self.__num\n",
    "\n",
    "class Child(Parent):\n",
    "\n",
    "    def __init__(self,val,num):\n",
    "        self.__val=val\n",
    "\n",
    "    def get_val(self):\n",
    "        return self.__val\n",
    "        \n",
    "son=Child(100,10)\n",
    "print(\"Parent: Num:\",son.get_num())"
   ],
   "id": "4d2df87080707a33",
   "outputs": [
    {
     "ename": "AttributeError",
     "evalue": "'Child' object has no attribute '_Parent__num'",
     "output_type": "error",
     "traceback": [
      "\u001B[1;31m---------------------------------------------------------------------------\u001B[0m",
      "\u001B[1;31mAttributeError\u001B[0m                            Traceback (most recent call last)",
      "Cell \u001B[1;32mIn[21], line 18\u001B[0m\n\u001B[0;32m     15\u001B[0m         \u001B[38;5;28;01mreturn\u001B[39;00m \u001B[38;5;28mself\u001B[39m\u001B[38;5;241m.\u001B[39m__val\n\u001B[0;32m     17\u001B[0m son\u001B[38;5;241m=\u001B[39mChild(\u001B[38;5;241m100\u001B[39m,\u001B[38;5;241m10\u001B[39m)\n\u001B[1;32m---> 18\u001B[0m \u001B[38;5;28mprint\u001B[39m(\u001B[38;5;124m\"\u001B[39m\u001B[38;5;124mParent: Num:\u001B[39m\u001B[38;5;124m\"\u001B[39m,\u001B[43mson\u001B[49m\u001B[38;5;241;43m.\u001B[39;49m\u001B[43mget_num\u001B[49m\u001B[43m(\u001B[49m\u001B[43m)\u001B[49m)\n",
      "Cell \u001B[1;32mIn[21], line 7\u001B[0m, in \u001B[0;36mParent.get_num\u001B[1;34m(self)\u001B[0m\n\u001B[0;32m      6\u001B[0m \u001B[38;5;28;01mdef\u001B[39;00m \u001B[38;5;21mget_num\u001B[39m(\u001B[38;5;28mself\u001B[39m):\n\u001B[1;32m----> 7\u001B[0m     \u001B[38;5;28;01mreturn\u001B[39;00m \u001B[38;5;28;43mself\u001B[39;49m\u001B[38;5;241;43m.\u001B[39;49m\u001B[43m__num\u001B[49m\n",
      "\u001B[1;31mAttributeError\u001B[0m: 'Child' object has no attribute '_Parent__num'"
     ]
    }
   ],
   "execution_count": 21
  },
  {
   "metadata": {
    "ExecuteTime": {
     "end_time": "2024-06-09T07:53:51.056375Z",
     "start_time": "2024-06-09T07:53:51.049225Z"
    }
   },
   "cell_type": "code",
   "source": "print(\"Child: Val:\",son.get_val())\n",
   "id": "18f33cb6f86aa615",
   "outputs": [
    {
     "name": "stdout",
     "output_type": "stream",
     "text": [
      "Child: Val: 100\n"
     ]
    }
   ],
   "execution_count": 22
  },
  {
   "metadata": {
    "ExecuteTime": {
     "end_time": "2024-06-09T07:55:45.763638Z",
     "start_time": "2024-06-09T07:55:45.757711Z"
    }
   },
   "cell_type": "code",
   "source": [
    "class A:\n",
    "    def __init__(self):\n",
    "        self.var1=100\n",
    "\n",
    "    def display1(self,var1):\n",
    "        print(\"class A :\", self.var1)\n",
    "class B(A):\n",
    "  \n",
    "    def display2(self,var1):\n",
    "        print(\"class B :\", self.var1)\n",
    "\n",
    "obj=B()\n",
    "obj.display1(200)"
   ],
   "id": "8da9d6047e5037f5",
   "outputs": [
    {
     "name": "stdout",
     "output_type": "stream",
     "text": [
      "class A : 100\n"
     ]
    }
   ],
   "execution_count": 25
  },
  {
   "metadata": {
    "ExecuteTime": {
     "end_time": "2024-06-09T08:02:34.761956Z",
     "start_time": "2024-06-09T08:02:34.757466Z"
    }
   },
   "cell_type": "code",
   "source": [
    "# Method Overriding\n",
    "class Phone:\n",
    "    def __init__(self, price, brand, camera):\n",
    "        print (\"Inside phone constructor\")\n",
    "        self.__price = price\n",
    "        self.brand = brand\n",
    "        self.camera = camera\n",
    "\n",
    "    def buy(self):\n",
    "        print (\"Buying a phone\")\n",
    "\n",
    "class SmartPhone(Phone):\n",
    "    def buy(self):\n",
    "        print (\"Buying a smartphone\")\n",
    "\n",
    "s=SmartPhone(20000, \"Apple\", 13)\n",
    "\n",
    "s.buy()"
   ],
   "id": "5bc8ca9798a776bb",
   "outputs": [
    {
     "name": "stdout",
     "output_type": "stream",
     "text": [
      "Inside phone constructor\n",
      "Buying a smartphone\n"
     ]
    }
   ],
   "execution_count": 27
  },
  {
   "metadata": {},
   "cell_type": "markdown",
   "source": [
    "# Super Keyword\n",
    "1) super cannot access variables \n",
    "2) super cannot be used outside the class \n",
    "3) super() is used in child class"
   ],
   "id": "b4e553f4db067d16"
  },
  {
   "metadata": {
    "ExecuteTime": {
     "end_time": "2024-06-09T08:15:24.409597Z",
     "start_time": "2024-06-09T08:15:24.402781Z"
    }
   },
   "cell_type": "code",
   "source": [
    "class Phone:\n",
    "    def __init__(self, price, brand, camera):\n",
    "        print (\"Inside phone constructor\")\n",
    "        self.__price = price\n",
    "        self.brand = brand\n",
    "        self.camera = camera\n",
    "\n",
    "    def buy(self):\n",
    "        print (\"Buying a phone\")\n",
    "\n",
    "class SmartPhone(Phone):\n",
    "    def buy(self):\n",
    "        super().buy()\n",
    "        print (\"Buying a smartphone\")\n",
    "        # syntax to call parent ka buy method\n",
    "        super().buy()\n",
    "\n",
    "s=SmartPhone(20000, \"Apple\", 13)\n",
    "\n",
    "s.buy()"
   ],
   "id": "922df82eb86fa1bd",
   "outputs": [
    {
     "name": "stdout",
     "output_type": "stream",
     "text": [
      "Inside phone constructor\n",
      "Buying a phone\n",
      "Buying a smartphone\n",
      "Buying a phone\n"
     ]
    }
   ],
   "execution_count": 35
  },
  {
   "metadata": {
    "ExecuteTime": {
     "end_time": "2024-06-09T08:15:24.992164Z",
     "start_time": "2024-06-09T08:15:24.959817Z"
    }
   },
   "cell_type": "code",
   "source": [
    "# can super access parent ka data?\n",
    "# using super outside the class\n",
    "class Phone:\n",
    "    def __init__(self, price, brand, camera):\n",
    "        print (\"Inside phone constructor\")\n",
    "        self.__price = price\n",
    "        self.brand = brand\n",
    "        self.camera = camera\n",
    "\n",
    "    def buy(self):\n",
    "        print (\"Buying a phone\")\n",
    "\n",
    "class SmartPhone(Phone):\n",
    "    def buy(self):\n",
    "        print (\"Buying a smartphone\")\n",
    "        # syntax to call parent ka buy method\n",
    "        print(super().brand)\n",
    "\n",
    "s=SmartPhone(20000, \"Apple\", 13)\n",
    "\n",
    "s.buy()"
   ],
   "id": "2a6535dd09b9ffa0",
   "outputs": [
    {
     "name": "stdout",
     "output_type": "stream",
     "text": [
      "Inside phone constructor\n",
      "Buying a smartphone\n"
     ]
    },
    {
     "ename": "AttributeError",
     "evalue": "'super' object has no attribute 'brand'",
     "output_type": "error",
     "traceback": [
      "\u001B[1;31m---------------------------------------------------------------------------\u001B[0m",
      "\u001B[1;31mAttributeError\u001B[0m                            Traceback (most recent call last)",
      "Cell \u001B[1;32mIn[36], line 21\u001B[0m\n\u001B[0;32m     17\u001B[0m         \u001B[38;5;28mprint\u001B[39m(\u001B[38;5;28msuper\u001B[39m()\u001B[38;5;241m.\u001B[39mbrand)\n\u001B[0;32m     19\u001B[0m s\u001B[38;5;241m=\u001B[39mSmartPhone(\u001B[38;5;241m20000\u001B[39m, \u001B[38;5;124m\"\u001B[39m\u001B[38;5;124mApple\u001B[39m\u001B[38;5;124m\"\u001B[39m, \u001B[38;5;241m13\u001B[39m)\n\u001B[1;32m---> 21\u001B[0m \u001B[43ms\u001B[49m\u001B[38;5;241;43m.\u001B[39;49m\u001B[43mbuy\u001B[49m\u001B[43m(\u001B[49m\u001B[43m)\u001B[49m\n",
      "Cell \u001B[1;32mIn[36], line 17\u001B[0m, in \u001B[0;36mSmartPhone.buy\u001B[1;34m(self)\u001B[0m\n\u001B[0;32m     15\u001B[0m \u001B[38;5;28mprint\u001B[39m (\u001B[38;5;124m\"\u001B[39m\u001B[38;5;124mBuying a smartphone\u001B[39m\u001B[38;5;124m\"\u001B[39m)\n\u001B[0;32m     16\u001B[0m \u001B[38;5;66;03m# syntax to call parent ka buy method\u001B[39;00m\n\u001B[1;32m---> 17\u001B[0m \u001B[38;5;28mprint\u001B[39m(\u001B[38;5;28;43msuper\u001B[39;49m\u001B[43m(\u001B[49m\u001B[43m)\u001B[49m\u001B[38;5;241;43m.\u001B[39;49m\u001B[43mbrand\u001B[49m)\n",
      "\u001B[1;31mAttributeError\u001B[0m: 'super' object has no attribute 'brand'"
     ]
    }
   ],
   "execution_count": 36
  },
  {
   "metadata": {
    "ExecuteTime": {
     "end_time": "2024-06-09T08:15:27.618791Z",
     "start_time": "2024-06-09T08:15:27.615871Z"
    }
   },
   "cell_type": "code",
   "source": "",
   "id": "b49cedb48aeffef3",
   "outputs": [],
   "execution_count": 36
  },
  {
   "metadata": {
    "ExecuteTime": {
     "end_time": "2024-06-09T08:15:28.280355Z",
     "start_time": "2024-06-09T08:15:28.272549Z"
    }
   },
   "cell_type": "code",
   "source": [
    "# super -> constuctor\n",
    "class Phone:\n",
    "    def __init__(self, price, brand, camera):\n",
    "        print (\"Inside phone constructor\")\n",
    "        self.__price = price\n",
    "        self.brand = brand\n",
    "        self.camera = camera\n",
    "        \n",
    "    def getPrice(self):\n",
    "        return self.__price\n",
    "\n",
    "class SmartPhone(Phone):\n",
    "    def __init__(self, price, brand, camera, os, ram):\n",
    "        print('Inside smartphone constructor')\n",
    "        super().__init__(price, brand, camera)\n",
    "        self.os = os\n",
    "        self.ram = ram\n",
    "        print (\"Inside smartphone constructor\")\n",
    "\n",
    "s=SmartPhone(20000, \"Samsung\", 12, \"Android\", 2)\n",
    "\n",
    "print(s.os)\n",
    "print(s.brand)\n",
    "print(s.camera)"
   ],
   "id": "d9b579e1fd198017",
   "outputs": [
    {
     "name": "stdout",
     "output_type": "stream",
     "text": [
      "Inside smartphone constructor\n",
      "Inside phone constructor\n",
      "Inside smartphone constructor\n",
      "Android\n",
      "Samsung\n",
      "12\n"
     ]
    }
   ],
   "execution_count": 37
  },
  {
   "metadata": {
    "ExecuteTime": {
     "end_time": "2024-06-09T08:15:29.216079Z",
     "start_time": "2024-06-09T08:15:29.211670Z"
    }
   },
   "cell_type": "code",
   "source": "print(s.getPrice())",
   "id": "f51512f2dcc55ab2",
   "outputs": [
    {
     "name": "stdout",
     "output_type": "stream",
     "text": [
      "20000\n"
     ]
    }
   ],
   "execution_count": 38
  },
  {
   "metadata": {},
   "cell_type": "markdown",
   "source": [
    "##### Inheritance in summary\n",
    "\n",
    "- A class can inherit from another class.\n",
    "\n",
    "- Inheritance improves code reuse\n",
    "\n",
    "- Constructor, attributes, methods get inherited to the child class\n",
    "\n",
    "- The parent has no access to the child class\n",
    "\n",
    "- Private properties of parent are not accessible directly in child class\n",
    "\n",
    "- Child class can override the attributes or methods. This is called method overriding\n",
    "\n",
    "- super() is an inbuilt function which is used to invoke the parent class methods and constructor"
   ],
   "id": "90c25b24c21d7b4b"
  },
  {
   "metadata": {
    "ExecuteTime": {
     "end_time": "2024-06-09T08:17:24.200037Z",
     "start_time": "2024-06-09T08:17:24.193088Z"
    }
   },
   "cell_type": "code",
   "source": [
    "class Parent:\n",
    "\n",
    "    def __init__(self,num):\n",
    "      self.__num=num\n",
    "\n",
    "    def get_num(self):\n",
    "      return self.__num\n",
    "\n",
    "class Child(Parent):\n",
    "  \n",
    "    def __init__(self,num,val):\n",
    "      super().__init__(num)\n",
    "      self.__val=val\n",
    "\n",
    "    def get_val(self):\n",
    "      return self.__val\n",
    "      \n",
    "son=Child(100,200)\n",
    "print(son.get_num())\n",
    "print(son.get_val())"
   ],
   "id": "e98522de980f371a",
   "outputs": [
    {
     "name": "stdout",
     "output_type": "stream",
     "text": [
      "100\n",
      "200\n"
     ]
    }
   ],
   "execution_count": 39
  },
  {
   "metadata": {
    "ExecuteTime": {
     "end_time": "2024-06-09T08:17:53.188599Z",
     "start_time": "2024-06-09T08:17:53.175717Z"
    }
   },
   "cell_type": "code",
   "source": [
    "class Parent:\n",
    "    def __init__(self):\n",
    "        self.num=100\n",
    "\n",
    "class Child(Parent):\n",
    "\n",
    "    def __init__(self):\n",
    "        super().__init__()\n",
    "        self.var=200\n",
    "        \n",
    "    def show(self):\n",
    "        print(self.num)\n",
    "        print(self.var)\n",
    "\n",
    "son=Child()\n",
    "son.show()"
   ],
   "id": "cf486c1ab4b19903",
   "outputs": [
    {
     "name": "stdout",
     "output_type": "stream",
     "text": [
      "100\n",
      "200\n"
     ]
    }
   ],
   "execution_count": 40
  },
  {
   "metadata": {
    "ExecuteTime": {
     "end_time": "2024-06-09T08:18:16.540252Z",
     "start_time": "2024-06-09T08:18:16.528763Z"
    }
   },
   "cell_type": "code",
   "source": [
    "class Parent:\n",
    "    def __init__(self):\n",
    "        self.__num=100\n",
    "\n",
    "    def show(self):\n",
    "        print(\"Parent:\",self.__num)\n",
    "\n",
    "class Child(Parent):\n",
    "    def __init__(self):\n",
    "        super().__init__()\n",
    "        self.__var=10\n",
    "\n",
    "    def show(self):\n",
    "        print(\"Child:\",self.__var)\n",
    "\n",
    "obj=Child()\n",
    "obj.show()"
   ],
   "id": "ade640606a977fbf",
   "outputs": [
    {
     "name": "stdout",
     "output_type": "stream",
     "text": [
      "Child: 10\n"
     ]
    }
   ],
   "execution_count": 41
  },
  {
   "metadata": {},
   "cell_type": "markdown",
   "source": [
    "### Types of Inheritance\n",
    "\n",
    "- Single Inheritance\n",
    "- Multilevel Inheritance\n",
    "- Hierarchical Inheritance\n",
    "- Multiple Inheritance(Diamond Problem)\n",
    "- Hybrid Inheritance"
   ],
   "id": "379cdd5fd3432d28"
  },
  {
   "metadata": {
    "ExecuteTime": {
     "end_time": "2024-06-09T08:21:15.101416Z",
     "start_time": "2024-06-09T08:21:15.094472Z"
    }
   },
   "cell_type": "code",
   "source": [
    "# single inheritance\n",
    "class Phone:\n",
    "    def __init__(self, price, brand, camera):\n",
    "        print (\"Inside phone constructor\")\n",
    "        self.__price = price\n",
    "        self.brand = brand\n",
    "        self.camera = camera\n",
    "\n",
    "    def buy(self):\n",
    "        print (\"Buying a phone\")\n",
    "\n",
    "class SmartPhone(Phone):\n",
    "    pass\n",
    "\n",
    "SmartPhone(1000,\"Apple\",\"13px\").buy()"
   ],
   "id": "404b7f55fc7b6904",
   "outputs": [
    {
     "name": "stdout",
     "output_type": "stream",
     "text": [
      "Inside phone constructor\n",
      "Buying a phone\n"
     ]
    }
   ],
   "execution_count": 43
  },
  {
   "metadata": {
    "ExecuteTime": {
     "end_time": "2024-06-09T08:21:20.500217Z",
     "start_time": "2024-06-09T08:21:20.488156Z"
    }
   },
   "cell_type": "code",
   "source": [
    "# multilevel\n",
    "class Product:\n",
    "    def review(self):\n",
    "        print (\"Product customer review\")\n",
    "\n",
    "class Phone(Product):\n",
    "    def __init__(self, price, brand, camera):\n",
    "        print (\"Inside phone constructor\")\n",
    "        self.__price = price\n",
    "        self.brand = brand\n",
    "        self.camera = camera\n",
    "\n",
    "    def buy(self):\n",
    "        print (\"Buying a phone\")\n",
    "\n",
    "class SmartPhone(Phone):\n",
    "    pass\n",
    "\n",
    "s=SmartPhone(20000, \"Apple\", 12)\n",
    "\n",
    "s.buy()\n",
    "s.review()"
   ],
   "id": "3da201a59acafcb8",
   "outputs": [
    {
     "name": "stdout",
     "output_type": "stream",
     "text": [
      "Inside phone constructor\n",
      "Buying a phone\n",
      "Product customer review\n"
     ]
    }
   ],
   "execution_count": 44
  },
  {
   "metadata": {
    "ExecuteTime": {
     "end_time": "2024-06-09T08:30:50.180708Z",
     "start_time": "2024-06-09T08:30:50.174299Z"
    }
   },
   "cell_type": "code",
   "source": [
    "# Hierarchical\n",
    "class Phone:\n",
    "    def __init__(self, price, brand, camera):\n",
    "        print (\"Inside phone constructor\")\n",
    "        self.__price = price\n",
    "        self.brand = brand\n",
    "        self.camera = camera\n",
    "\n",
    "    def buy(self):\n",
    "        print (\"Buying a phone\")\n",
    "\n",
    "class SmartPhone(Phone):\n",
    "    pass\n",
    "\n",
    "class FeaturePhone(Phone):\n",
    "    pass\n",
    "\n",
    "SmartPhone(1000,\"Apple\",\"13px\").buy()\n",
    "FeaturePhone(10,\"Lava\",\"1px\").buy()"
   ],
   "id": "fc65dcbe70489cbb",
   "outputs": [
    {
     "name": "stdout",
     "output_type": "stream",
     "text": [
      "Inside phone constructor\n",
      "Buying a phone\n",
      "Inside phone constructor\n",
      "Buying a phone\n"
     ]
    }
   ],
   "execution_count": 47
  },
  {
   "metadata": {
    "ExecuteTime": {
     "end_time": "2024-06-09T08:21:32.024760Z",
     "start_time": "2024-06-09T08:21:32.016569Z"
    }
   },
   "cell_type": "code",
   "source": [
    "# Multiple\n",
    "class Phone:\n",
    "    def __init__(self, price, brand, camera):\n",
    "        print (\"Inside phone constructor\")\n",
    "        self.__price = price\n",
    "        self.brand = brand\n",
    "        self.camera = camera\n",
    "\n",
    "    def buy(self):\n",
    "        print (\"Buying a phone\")\n",
    "\n",
    "class Product:\n",
    "    def review(self):\n",
    "        print (\"Customer review\")\n",
    "\n",
    "class SmartPhone(Phone, Product):\n",
    "    pass\n",
    "\n",
    "s=SmartPhone(20000, \"Apple\", 12)\n",
    "\n",
    "s.buy()\n",
    "s.review()\n"
   ],
   "id": "fdc0be3996a4b28b",
   "outputs": [
    {
     "name": "stdout",
     "output_type": "stream",
     "text": [
      "Inside phone constructor\n",
      "Buying a phone\n",
      "Customer review\n"
     ]
    }
   ],
   "execution_count": 46
  },
  {
   "metadata": {
    "ExecuteTime": {
     "end_time": "2024-06-09T08:38:47.805168Z",
     "start_time": "2024-06-09T08:38:47.798182Z"
    }
   },
   "cell_type": "code",
   "source": [
    "# Multiple\n",
    "class Phone:\n",
    "    def __init__(self, price, brand, camera):\n",
    "        print (\"Inside phone constructor\")\n",
    "        self.__price = price\n",
    "        self.brand = brand\n",
    "        self.camera = camera\n",
    "\n",
    "    def buy(self):\n",
    "        print (\"Buying a phone\")\n",
    "\n",
    "class Product:\n",
    "    def buy(self):\n",
    "        print (\"Buying product\")\n",
    "class Car:\n",
    "    def buy(self):\n",
    "        print('Buying car')\n",
    "\n",
    "class SmartPhone(Car , Phone, Product):\n",
    "    pass\n",
    "\n",
    "\n",
    "s=SmartPhone(20000, \"Apple\", 12)\n",
    "\n",
    "s.buy()\n"
   ],
   "id": "21dd360e9c696310",
   "outputs": [
    {
     "name": "stdout",
     "output_type": "stream",
     "text": [
      "Inside phone constructor\n",
      "Buying car\n"
     ]
    }
   ],
   "execution_count": 51
  },
  {
   "metadata": {
    "ExecuteTime": {
     "end_time": "2024-06-09T08:32:06.179737Z",
     "start_time": "2024-06-09T08:32:06.169484Z"
    }
   },
   "cell_type": "code",
   "source": [
    "# the diamond problem\n",
    "# https://stackoverflow.com/questions/56361048/what-is-the-diamond-problem-in-python-and-why-its-not-appear-in-python2\n",
    "class Phone:\n",
    "    def __init__(self, price, brand, camera):\n",
    "        print (\"Inside phone constructor\")\n",
    "        self.__price = price\n",
    "        self.brand = brand\n",
    "        self.camera = camera\n",
    "\n",
    "    def buy(self):\n",
    "        print (\"Buying a phone\")\n",
    "\n",
    "class Product:\n",
    "    def buy(self):\n",
    "        print (\"Product buy method\")\n",
    "\n",
    "# Method resolution order\n",
    "class SmartPhone(Phone,Product):\n",
    "    pass\n",
    "\n",
    "s=SmartPhone(20000, \"Apple\", 12)\n",
    "\n",
    "s.buy()"
   ],
   "id": "dbab6cbe49f48a33",
   "outputs": [
    {
     "name": "stdout",
     "output_type": "stream",
     "text": [
      "Inside phone constructor\n",
      "Buying a phone\n"
     ]
    }
   ],
   "execution_count": 48
  },
  {
   "metadata": {
    "ExecuteTime": {
     "end_time": "2024-06-09T08:34:44.994655Z",
     "start_time": "2024-06-09T08:34:44.986236Z"
    }
   },
   "cell_type": "code",
   "source": [
    "class A:\n",
    "\n",
    "    def m1(self):\n",
    "        return 20\n",
    "\n",
    "class B(A):\n",
    "\n",
    "    def m1(self):\n",
    "        return 30\n",
    "\n",
    "    def m2(self):\n",
    "        return 40\n",
    "\n",
    "class C(B):\n",
    "  \n",
    "    def m2(self):\n",
    "        return 20\n",
    "obj1=A()\n",
    "obj2=B()\n",
    "obj3=C()\n",
    "print(obj1.m1() + obj3.m1()+ obj3.m2())"
   ],
   "id": "e7d0a0b8742966a5",
   "outputs": [
    {
     "name": "stdout",
     "output_type": "stream",
     "text": [
      "70\n"
     ]
    }
   ],
   "execution_count": 49
  },
  {
   "metadata": {
    "ExecuteTime": {
     "end_time": "2024-06-09T08:36:08.975754Z",
     "start_time": "2024-06-09T08:36:07.266561Z"
    }
   },
   "cell_type": "code",
   "source": [
    "class A:\n",
    "\n",
    "    def m1(self):\n",
    "        return 20\n",
    "\n",
    "class B(A):\n",
    "\n",
    "    def m1(self):\n",
    "        val=super().m1()+30\n",
    "        return val\n",
    "\n",
    "class C(B):\n",
    "  \n",
    "    def m1(self):\n",
    "        val=self.m1()+20\n",
    "        return val\n",
    "obj=C()\n",
    "print(obj.m1())"
   ],
   "id": "824addf1a75945bb",
   "outputs": [
    {
     "ename": "RecursionError",
     "evalue": "maximum recursion depth exceeded",
     "output_type": "error",
     "traceback": [
      "\u001B[1;31m---------------------------------------------------------------------------\u001B[0m",
      "\u001B[1;31mRecursionError\u001B[0m                            Traceback (most recent call last)",
      "Cell \u001B[1;32mIn[50], line 18\u001B[0m\n\u001B[0;32m     16\u001B[0m         \u001B[38;5;28;01mreturn\u001B[39;00m val\n\u001B[0;32m     17\u001B[0m obj\u001B[38;5;241m=\u001B[39mC()\n\u001B[1;32m---> 18\u001B[0m \u001B[38;5;28mprint\u001B[39m(\u001B[43mobj\u001B[49m\u001B[38;5;241;43m.\u001B[39;49m\u001B[43mm1\u001B[49m\u001B[43m(\u001B[49m\u001B[43m)\u001B[49m)\n",
      "Cell \u001B[1;32mIn[50], line 15\u001B[0m, in \u001B[0;36mC.m1\u001B[1;34m(self)\u001B[0m\n\u001B[0;32m     14\u001B[0m \u001B[38;5;28;01mdef\u001B[39;00m \u001B[38;5;21mm1\u001B[39m(\u001B[38;5;28mself\u001B[39m):\n\u001B[1;32m---> 15\u001B[0m     val\u001B[38;5;241m=\u001B[39m\u001B[38;5;28;43mself\u001B[39;49m\u001B[38;5;241;43m.\u001B[39;49m\u001B[43mm1\u001B[49m\u001B[43m(\u001B[49m\u001B[43m)\u001B[49m\u001B[38;5;241m+\u001B[39m\u001B[38;5;241m20\u001B[39m\n\u001B[0;32m     16\u001B[0m     \u001B[38;5;28;01mreturn\u001B[39;00m val\n",
      "Cell \u001B[1;32mIn[50], line 15\u001B[0m, in \u001B[0;36mC.m1\u001B[1;34m(self)\u001B[0m\n\u001B[0;32m     14\u001B[0m \u001B[38;5;28;01mdef\u001B[39;00m \u001B[38;5;21mm1\u001B[39m(\u001B[38;5;28mself\u001B[39m):\n\u001B[1;32m---> 15\u001B[0m     val\u001B[38;5;241m=\u001B[39m\u001B[38;5;28;43mself\u001B[39;49m\u001B[38;5;241;43m.\u001B[39;49m\u001B[43mm1\u001B[49m\u001B[43m(\u001B[49m\u001B[43m)\u001B[49m\u001B[38;5;241m+\u001B[39m\u001B[38;5;241m20\u001B[39m\n\u001B[0;32m     16\u001B[0m     \u001B[38;5;28;01mreturn\u001B[39;00m val\n",
      "    \u001B[1;31m[... skipping similar frames: C.m1 at line 15 (2974 times)]\u001B[0m\n",
      "Cell \u001B[1;32mIn[50], line 15\u001B[0m, in \u001B[0;36mC.m1\u001B[1;34m(self)\u001B[0m\n\u001B[0;32m     14\u001B[0m \u001B[38;5;28;01mdef\u001B[39;00m \u001B[38;5;21mm1\u001B[39m(\u001B[38;5;28mself\u001B[39m):\n\u001B[1;32m---> 15\u001B[0m     val\u001B[38;5;241m=\u001B[39m\u001B[38;5;28;43mself\u001B[39;49m\u001B[38;5;241;43m.\u001B[39;49m\u001B[43mm1\u001B[49m\u001B[43m(\u001B[49m\u001B[43m)\u001B[49m\u001B[38;5;241m+\u001B[39m\u001B[38;5;241m20\u001B[39m\n\u001B[0;32m     16\u001B[0m     \u001B[38;5;28;01mreturn\u001B[39;00m val\n",
      "\u001B[1;31mRecursionError\u001B[0m: maximum recursion depth exceeded"
     ]
    }
   ],
   "execution_count": 50
  },
  {
   "metadata": {},
   "cell_type": "markdown",
   "source": [
    "### Polymorphism\n",
    "\n",
    "- Method Overriding\n",
    "- Method Overloading\n",
    "- Operator Overloading"
   ],
   "id": "2e01baf4d0f13d21"
  },
  {
   "metadata": {
    "ExecuteTime": {
     "end_time": "2024-06-09T08:44:49.174788Z",
     "start_time": "2024-06-09T08:44:49.165362Z"
    }
   },
   "cell_type": "code",
   "source": [
    "class Shape:\n",
    "    def area(self , radius):\n",
    "        return 3.14 * radius * radius\n",
    "    \n",
    "    def area(self , l , b):\n",
    "        return l * b"
   ],
   "id": "5e8c533513994779",
   "outputs": [],
   "execution_count": 52
  },
  {
   "metadata": {
    "ExecuteTime": {
     "end_time": "2024-06-09T08:45:23.735016Z",
     "start_time": "2024-06-09T08:45:23.730502Z"
    }
   },
   "cell_type": "code",
   "source": "s = Shape()",
   "id": "518a3d222f7821b0",
   "outputs": [],
   "execution_count": 53
  },
  {
   "metadata": {
    "ExecuteTime": {
     "end_time": "2024-06-09T08:45:30.349436Z",
     "start_time": "2024-06-09T08:45:30.326004Z"
    }
   },
   "cell_type": "code",
   "source": "s.area(2)",
   "id": "1b3ef81f58c228e6",
   "outputs": [
    {
     "ename": "TypeError",
     "evalue": "Shape.area() missing 1 required positional argument: 'b'",
     "output_type": "error",
     "traceback": [
      "\u001B[1;31m---------------------------------------------------------------------------\u001B[0m",
      "\u001B[1;31mTypeError\u001B[0m                                 Traceback (most recent call last)",
      "Cell \u001B[1;32mIn[54], line 1\u001B[0m\n\u001B[1;32m----> 1\u001B[0m \u001B[43ms\u001B[49m\u001B[38;5;241;43m.\u001B[39;49m\u001B[43marea\u001B[49m\u001B[43m(\u001B[49m\u001B[38;5;241;43m2\u001B[39;49m\u001B[43m)\u001B[49m\n",
      "\u001B[1;31mTypeError\u001B[0m: Shape.area() missing 1 required positional argument: 'b'"
     ]
    }
   ],
   "execution_count": 54
  },
  {
   "metadata": {
    "ExecuteTime": {
     "end_time": "2024-06-09T08:45:40.242136Z",
     "start_time": "2024-06-09T08:45:40.233920Z"
    }
   },
   "cell_type": "code",
   "source": "s.area(3 , 4)",
   "id": "7a84b14d052c87e0",
   "outputs": [
    {
     "data": {
      "text/plain": [
       "12"
      ]
     },
     "execution_count": 55,
     "metadata": {},
     "output_type": "execute_result"
    }
   ],
   "execution_count": 55
  },
  {
   "metadata": {
    "ExecuteTime": {
     "end_time": "2024-06-09T09:01:11.446750Z",
     "start_time": "2024-06-09T09:01:11.442102Z"
    }
   },
   "cell_type": "code",
   "source": [
    "class Shape:\n",
    "\n",
    "  def area(self,a,b=0):\n",
    "    if b == 0:\n",
    "      return 3.14*a*a\n",
    "    else:\n",
    "      return a*b\n",
    "\n",
    "s = Shape()\n",
    "\n",
    "print(s.area(2))\n",
    "print(s.area(3,4))"
   ],
   "id": "c595f4bae3541597",
   "outputs": [
    {
     "name": "stdout",
     "output_type": "stream",
     "text": [
      "12.56\n",
      "12\n"
     ]
    }
   ],
   "execution_count": 57
  },
  {
   "metadata": {},
   "cell_type": "markdown",
   "source": "Operator overloading",
   "id": "aebaa1a6d68eab0c"
  },
  {
   "metadata": {
    "ExecuteTime": {
     "end_time": "2024-06-09T09:04:55.773450Z",
     "start_time": "2024-06-09T09:04:55.766007Z"
    }
   },
   "cell_type": "code",
   "source": "'hello' + 'world'",
   "id": "b8187f9247996410",
   "outputs": [
    {
     "data": {
      "text/plain": [
       "'helloworld'"
      ]
     },
     "execution_count": 61,
     "metadata": {},
     "output_type": "execute_result"
    }
   ],
   "execution_count": 61
  },
  {
   "metadata": {
    "ExecuteTime": {
     "end_time": "2024-06-09T09:04:56.192895Z",
     "start_time": "2024-06-09T09:04:56.185596Z"
    }
   },
   "cell_type": "code",
   "source": "4 + 5",
   "id": "ba7bc995f776dc75",
   "outputs": [
    {
     "data": {
      "text/plain": [
       "9"
      ]
     },
     "execution_count": 62,
     "metadata": {},
     "output_type": "execute_result"
    }
   ],
   "execution_count": 62
  },
  {
   "metadata": {
    "ExecuteTime": {
     "end_time": "2024-06-09T09:04:56.750635Z",
     "start_time": "2024-06-09T09:04:56.741494Z"
    }
   },
   "cell_type": "code",
   "source": "[1,2,3] + [4,5]",
   "id": "3e7a13beea4ab781",
   "outputs": [
    {
     "data": {
      "text/plain": [
       "[1, 2, 3, 4, 5]"
      ]
     },
     "execution_count": 63,
     "metadata": {},
     "output_type": "execute_result"
    }
   ],
   "execution_count": 63
  },
  {
   "metadata": {},
   "cell_type": "code",
   "outputs": [],
   "execution_count": null,
   "source": "",
   "id": "249ffbab0b85d5d9"
  }
 ],
 "metadata": {
  "kernelspec": {
   "display_name": "Python 3",
   "language": "python",
   "name": "python3"
  },
  "language_info": {
   "codemirror_mode": {
    "name": "ipython",
    "version": 2
   },
   "file_extension": ".py",
   "mimetype": "text/x-python",
   "name": "python",
   "nbconvert_exporter": "python",
   "pygments_lexer": "ipython2",
   "version": "2.7.6"
  }
 },
 "nbformat": 4,
 "nbformat_minor": 5
}
