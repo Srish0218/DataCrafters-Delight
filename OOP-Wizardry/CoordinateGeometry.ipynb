{
 "cells": [
  {
   "metadata": {},
   "cell_type": "markdown",
   "source": [
    "### Write OOP classes to handle the following scenarios:\n",
    "\n",
    "- A user can create and view 2D coordinates\n",
    "- A user can find out the distance between 2 coordinates\n",
    "- A user can find find the distance of a coordinate from origin\n",
    "- A user can check if a point lies on a given line\n",
    "- A user can find the distance between a given 2D point and a given line\n",
    "\n"
   ],
   "id": "783feb87ee452d36"
  },
  {
   "cell_type": "code",
   "id": "initial_id",
   "metadata": {
    "collapsed": true,
    "ExecuteTime": {
     "end_time": "2024-06-08T17:45:40.886245Z",
     "start_time": "2024-06-08T17:45:40.859667Z"
    }
   },
   "source": [
    "import math\n",
    "\n",
    "class Point:\n",
    "    def __init__(self, x, y):\n",
    "        self.x = x\n",
    "        self.y = y\n",
    "    \n",
    "    def __str__(self):\n",
    "        return f'({self.x}, {self.y})'\n",
    "    \n",
    "    def euclidean_distance(self, other):\n",
    "        return math.sqrt((self.x - other.x)**2 + (self.y - other.y)**2)\n",
    "    \n",
    "    def distance_from_origin(self):\n",
    "        return self.euclidean_distance(Point(0, 0))\n",
    "    \n",
    "    def reflect_over_line(self, line):\n",
    "        d = (self.x + (self.y - line.C / line.B) * line.B / line.A) / (1 + (line.B / line.A)**2)\n",
    "        x_reflect = 2*d - self.x\n",
    "        y_reflect = 2*d * line.B / line.A - self.y + 2 * line.C / line.B\n",
    "        return Point(x_reflect, y_reflect)\n",
    "    \n",
    "class Line:\n",
    "    def __init__(self, A, B, C):\n",
    "        self.A = A\n",
    "        self.B = B\n",
    "        self.C = C\n",
    "        \n",
    "    def __str__(self):\n",
    "        return f'({self.A})x + ({self.B})y + ({self.C}) = 0'\n",
    "    \n",
    "    def point_on_line(self, point):\n",
    "        return self.A * point.x + self.B * point.y + self.C == 0\n",
    "    \n",
    "    def distance_to_point(self, point):\n",
    "        return abs(self.A * point.x + self.B * point.y + self.C) / math.sqrt(self.A**2 + self.B**2)\n",
    "    \n",
    "    def intersection(self, other):\n",
    "        denominator = self.A * other.B - other.A * self.B\n",
    "        if denominator == 0:\n",
    "            return None  # Lines are parallel or coincident\n",
    "        x = (self.B * other.C - other.B * self.C) / denominator\n",
    "        y = (other.A * self.C - self.A * other.C) / denominator\n",
    "        return Point(x, y)\n",
    "    \n",
    "    def is_parallel(self, other):\n",
    "        return self.A * other.B == other.A * self.B\n",
    "    \n",
    "    def is_perpendicular(self, other):\n",
    "        return self.A * other.A + self.B * other.B == 0\n",
    "    \n",
    "    def slope(self):\n",
    "        if self.B == 0:\n",
    "            return None  # Vertical line\n",
    "        return -self.A / self.B\n",
    "    def ShortestDistance(line , point):\n",
    "        return int(abs(line.A*point.x + line.B*point.y + line.C)//(line.A**2 + line.B**2)**0.5)"
   ],
   "outputs": [],
   "execution_count": 143
  },
  {
   "metadata": {
    "ExecuteTime": {
     "end_time": "2024-06-08T17:45:41.217203Z",
     "start_time": "2024-06-08T17:45:41.197322Z"
    }
   },
   "cell_type": "code",
   "source": [
    "p1 = Point(0 , 0)\n",
    "p2  =Point(1 , 1)\n",
    "print(p1)\n",
    "print(p2)"
   ],
   "id": "12990f73663cdb88",
   "outputs": [
    {
     "name": "stdout",
     "output_type": "stream",
     "text": [
      "(0, 0)\n",
      "(1, 1)\n"
     ]
    }
   ],
   "execution_count": 144
  },
  {
   "metadata": {
    "ExecuteTime": {
     "end_time": "2024-06-08T17:45:41.430633Z",
     "start_time": "2024-06-08T17:45:41.412377Z"
    }
   },
   "cell_type": "code",
   "source": "p1.euclidean_distance(p2)",
   "id": "4b50b62c187e2803",
   "outputs": [
    {
     "data": {
      "text/plain": [
       "1.4142135623730951"
      ]
     },
     "execution_count": 145,
     "metadata": {},
     "output_type": "execute_result"
    }
   ],
   "execution_count": 145
  },
  {
   "metadata": {
    "ExecuteTime": {
     "end_time": "2024-06-08T17:45:41.624937Z",
     "start_time": "2024-06-08T17:45:41.606700Z"
    }
   },
   "cell_type": "code",
   "source": "p2.distance_from_origin()",
   "id": "6f337e09138d80f0",
   "outputs": [
    {
     "data": {
      "text/plain": [
       "1.4142135623730951"
      ]
     },
     "execution_count": 146,
     "metadata": {},
     "output_type": "execute_result"
    }
   ],
   "execution_count": 146
  },
  {
   "metadata": {
    "ExecuteTime": {
     "end_time": "2024-06-08T17:45:41.786855Z",
     "start_time": "2024-06-08T17:45:41.773466Z"
    }
   },
   "cell_type": "code",
   "source": "l1 = Line(3 , 4 , 5)",
   "id": "3463e91027a2265a",
   "outputs": [],
   "execution_count": 147
  },
  {
   "metadata": {
    "ExecuteTime": {
     "end_time": "2024-06-08T17:45:41.951544Z",
     "start_time": "2024-06-08T17:45:41.947126Z"
    }
   },
   "cell_type": "code",
   "source": "print(l1)",
   "id": "2de5ac85a1d54a67",
   "outputs": [
    {
     "name": "stdout",
     "output_type": "stream",
     "text": [
      "(3)x + (4)y + (5) = 0\n"
     ]
    }
   ],
   "execution_count": 148
  },
  {
   "metadata": {
    "ExecuteTime": {
     "end_time": "2024-06-08T17:45:42.120674Z",
     "start_time": "2024-06-08T17:45:42.110136Z"
    }
   },
   "cell_type": "code",
   "source": [
    "line = Line(1 , 1 , -2)\n",
    "point = Point(1 , 1)"
   ],
   "id": "1705a11033e427d1",
   "outputs": [],
   "execution_count": 149
  },
  {
   "metadata": {
    "ExecuteTime": {
     "end_time": "2024-06-08T17:45:42.294025Z",
     "start_time": "2024-06-08T17:45:42.282515Z"
    }
   },
   "cell_type": "code",
   "source": [
    "print(line)\n",
    "print(point)"
   ],
   "id": "bbae6a0d8e19d208",
   "outputs": [
    {
     "name": "stdout",
     "output_type": "stream",
     "text": [
      "(1)x + (1)y + (-2) = 0\n",
      "(1, 1)\n"
     ]
    }
   ],
   "execution_count": 150
  },
  {
   "metadata": {
    "ExecuteTime": {
     "end_time": "2024-06-08T17:45:42.466861Z",
     "start_time": "2024-06-08T17:45:42.448393Z"
    }
   },
   "cell_type": "code",
   "source": "line.point_on_line(point)",
   "id": "3f49ee8834dc8796",
   "outputs": [
    {
     "data": {
      "text/plain": [
       "True"
      ]
     },
     "execution_count": 151,
     "metadata": {},
     "output_type": "execute_result"
    }
   ],
   "execution_count": 151
  },
  {
   "metadata": {
    "ExecuteTime": {
     "end_time": "2024-06-08T17:45:42.637285Z",
     "start_time": "2024-06-08T17:45:42.627497Z"
    }
   },
   "cell_type": "code",
   "source": [
    "line1 = Line(1 , 1 , -2)\n",
    "point1 = Point(10 , 10)"
   ],
   "id": "30745ee94351e0ba",
   "outputs": [],
   "execution_count": 152
  },
  {
   "metadata": {
    "ExecuteTime": {
     "end_time": "2024-06-08T17:45:42.896620Z",
     "start_time": "2024-06-08T17:45:42.890096Z"
    }
   },
   "cell_type": "code",
   "source": "line1.ShortestDistance(point1)",
   "id": "e24ea604fabfa78e",
   "outputs": [
    {
     "data": {
      "text/plain": [
       "12"
      ]
     },
     "execution_count": 153,
     "metadata": {},
     "output_type": "execute_result"
    }
   ],
   "execution_count": 153
  },
  {
   "metadata": {
    "ExecuteTime": {
     "end_time": "2024-06-08T17:45:43.627766Z",
     "start_time": "2024-06-08T17:45:43.610413Z"
    }
   },
   "cell_type": "code",
   "source": [
    "line1 = Line(1 , 2 , 1)\n",
    "line2 = Line(2 , 3 , 5)"
   ],
   "id": "9b2a81708f275f53",
   "outputs": [],
   "execution_count": 154
  },
  {
   "metadata": {
    "ExecuteTime": {
     "end_time": "2024-06-08T17:45:51.296389Z",
     "start_time": "2024-06-08T17:45:51.279615Z"
    }
   },
   "cell_type": "code",
   "source": "print(line1.intersection(line2))",
   "id": "1d529d78e9566f03",
   "outputs": [
    {
     "name": "stdout",
     "output_type": "stream",
     "text": [
      "(-7.0, 3.0)\n"
     ]
    }
   ],
   "execution_count": 156
  },
  {
   "metadata": {
    "ExecuteTime": {
     "end_time": "2024-06-08T17:45:53.189337Z",
     "start_time": "2024-06-08T17:45:53.176308Z"
    }
   },
   "cell_type": "code",
   "source": [
    "\n",
    "# Examples to test the extended functionality\n",
    "p1 = Point(0, 0)\n",
    "p2 = Point(3, 4)\n",
    "\n",
    "print(\"Point 1:\", p1)\n",
    "print(\"Point 2:\", p2)\n",
    "print(\"Euclidean Distance:\", p1.euclidean_distance(p2))\n",
    "print(\"Distance from Origin (Point 2):\", p2.distance_from_origin())\n",
    "\n",
    "l1 = Line(1, -1, 0)  # x - y = 0 (y = x)\n",
    "l2 = Line(1, 1, -4)  # x + y = 4\n",
    "\n",
    "print(\"Line 1:\", l1)\n",
    "print(\"Line 2:\", l2)\n",
    "print(\"Point on Line 1 (p1):\", l1.point_on_line(p1))\n",
    "print(\"Point on Line 1 (p2):\", l1.point_on_line(p2))\n",
    "print(\"Distance from Point to Line 1 (p2):\", l1.distance_to_point(p2))\n",
    "\n",
    "intersection_point = l1.intersection(l2)\n",
    "if intersection_point:\n",
    "    print(\"Intersection of Line 1 and Line 2:\", intersection_point)\n",
    "else:\n",
    "    print(\"Line 1 and Line 2 are parallel or coincident\")\n",
    "\n",
    "print(\"Are Line 1 and Line 2 parallel?\", l1.is_parallel(l2))\n",
    "print(\"Are Line 1 and Line 2 perpendicular?\", l1.is_perpendicular(l2))\n",
    "\n",
    "print(\"Slope of Line 1:\", l1.slope())\n",
    "\n",
    "reflected_point = p2.reflect_over_line(l1)\n",
    "print(\"Reflection of Point 2 over Line 1:\", reflected_point)\n"
   ],
   "id": "59761ebfe6b8ce43",
   "outputs": [
    {
     "name": "stdout",
     "output_type": "stream",
     "text": [
      "Point 1: (0, 0)\n",
      "Point 2: (3, 4)\n",
      "Euclidean Distance: 5.0\n",
      "Distance from Origin (Point 2): 5.0\n",
      "Line 1: (1)x + (-1)y + (0) = 0\n",
      "Line 2: (1)x + (1)y + (-4) = 0\n",
      "Point on Line 1 (p1): True\n",
      "Point on Line 1 (p2): False\n",
      "Distance from Point to Line 1 (p2): 0.7071067811865475\n",
      "Intersection of Line 1 and Line 2: (2.0, 2.0)\n",
      "Are Line 1 and Line 2 parallel? False\n",
      "Are Line 1 and Line 2 perpendicular? True\n",
      "Slope of Line 1: 1.0\n",
      "Reflection of Point 2 over Line 1: (-4.0, -3.0)\n"
     ]
    }
   ],
   "execution_count": 157
  },
  {
   "metadata": {},
   "cell_type": "markdown",
   "source": "How objects access attributes",
   "id": "cea361cdd8a58d3b"
  },
  {
   "metadata": {
    "ExecuteTime": {
     "end_time": "2024-06-08T17:46:38.787067Z",
     "start_time": "2024-06-08T17:46:38.780081Z"
    }
   },
   "cell_type": "code",
   "source": [
    "class Person:\n",
    "\n",
    "  def __init__(self,name_input,country_input):\n",
    "    self.name = name_input\n",
    "    self.country = country_input\n",
    "\n",
    "  def greet(self):\n",
    "    if self.country == 'india':\n",
    "      print('Namaste',self.name)\n",
    "    else:\n",
    "      print('Hello',self.name)\n"
   ],
   "id": "af3f20eb511db9ca",
   "outputs": [],
   "execution_count": 158
  },
  {
   "metadata": {
    "ExecuteTime": {
     "end_time": "2024-06-08T17:47:41.210Z",
     "start_time": "2024-06-08T17:47:41.204102Z"
    }
   },
   "cell_type": "code",
   "source": "person = Person('Srish'  ,'india')",
   "id": "e3eb2a720c139d47",
   "outputs": [],
   "execution_count": 163
  },
  {
   "metadata": {
    "ExecuteTime": {
     "end_time": "2024-06-08T17:47:41.467054Z",
     "start_time": "2024-06-08T17:47:41.461383Z"
    }
   },
   "cell_type": "code",
   "source": "person.country",
   "id": "bce3d1acf032ebd4",
   "outputs": [
    {
     "data": {
      "text/plain": [
       "'india'"
      ]
     },
     "execution_count": 164,
     "metadata": {},
     "output_type": "execute_result"
    }
   ],
   "execution_count": 164
  },
  {
   "metadata": {
    "ExecuteTime": {
     "end_time": "2024-06-08T17:47:41.664523Z",
     "start_time": "2024-06-08T17:47:41.658157Z"
    }
   },
   "cell_type": "code",
   "source": "person.name",
   "id": "cba97c5e2f68744a",
   "outputs": [
    {
     "data": {
      "text/plain": [
       "'Srish'"
      ]
     },
     "execution_count": 165,
     "metadata": {},
     "output_type": "execute_result"
    }
   ],
   "execution_count": 165
  },
  {
   "metadata": {
    "ExecuteTime": {
     "end_time": "2024-06-08T17:47:41.837344Z",
     "start_time": "2024-06-08T17:47:41.832711Z"
    }
   },
   "cell_type": "code",
   "source": "person.greet()",
   "id": "6923ceb844065d6f",
   "outputs": [
    {
     "name": "stdout",
     "output_type": "stream",
     "text": [
      "Namaste Srish\n"
     ]
    }
   ],
   "execution_count": 166
  },
  {
   "metadata": {
    "ExecuteTime": {
     "end_time": "2024-06-08T17:48:07.259049Z",
     "start_time": "2024-06-08T17:48:07.252269Z"
    }
   },
   "cell_type": "code",
   "source": "person.gender = 'female'",
   "id": "b81c04ff6eec30a3",
   "outputs": [],
   "execution_count": 167
  },
  {
   "metadata": {
    "ExecuteTime": {
     "end_time": "2024-06-08T17:48:18.133314Z",
     "start_time": "2024-06-08T17:48:18.127765Z"
    }
   },
   "cell_type": "code",
   "source": "person.gender",
   "id": "a47dedbe47c43b1d",
   "outputs": [
    {
     "data": {
      "text/plain": [
       "'female'"
      ]
     },
     "execution_count": 168,
     "metadata": {},
     "output_type": "execute_result"
    }
   ],
   "execution_count": 168
  },
  {
   "metadata": {},
   "cell_type": "markdown",
   "source": [
    "\n",
    "### Reference Variables\n",
    "\n",
    "- Reference variables hold the objects\n",
    "- We can create objects without reference variable as well\n",
    "- An object can have multiple reference variables\n",
    "- Assigning a new reference variable to an existing object does not create a new object"
   ],
   "id": "19ae4e43131ef1d6"
  },
  {
   "metadata": {
    "ExecuteTime": {
     "end_time": "2024-06-08T17:52:52.656056Z",
     "start_time": "2024-06-08T17:52:52.647448Z"
    }
   },
   "cell_type": "code",
   "source": [
    "class Person:\n",
    "\n",
    "  def __init__(self):\n",
    "    self.name = 'Srish'\n",
    "    self.gender = 'female'\n",
    "\n",
    "Person()\n",
    "\n",
    "p = Person() # P is not the object it is the variable that stores the address or reference to the object address\n",
    "q = p"
   ],
   "id": "cafea0125e75bb9f",
   "outputs": [],
   "execution_count": 171
  },
  {
   "metadata": {
    "ExecuteTime": {
     "end_time": "2024-06-08T17:52:52.806468Z",
     "start_time": "2024-06-08T17:52:52.801393Z"
    }
   },
   "cell_type": "code",
   "source": "print(p.name)",
   "id": "9ee56d86601f8c84",
   "outputs": [
    {
     "name": "stdout",
     "output_type": "stream",
     "text": [
      "Srish\n"
     ]
    }
   ],
   "execution_count": 172
  },
  {
   "metadata": {
    "ExecuteTime": {
     "end_time": "2024-06-08T17:53:06.294079Z",
     "start_time": "2024-06-08T17:53:06.289695Z"
    }
   },
   "cell_type": "code",
   "source": "print(q.name)",
   "id": "3793decdc0fc139c",
   "outputs": [
    {
     "name": "stdout",
     "output_type": "stream",
     "text": [
      "Srish\n"
     ]
    }
   ],
   "execution_count": 174
  },
  {
   "metadata": {
    "ExecuteTime": {
     "end_time": "2024-06-08T17:53:24.680871Z",
     "start_time": "2024-06-08T17:53:24.673260Z"
    }
   },
   "cell_type": "code",
   "source": "q.name = 'satyam'",
   "id": "52149f05f87fba10",
   "outputs": [],
   "execution_count": 175
  },
  {
   "metadata": {
    "ExecuteTime": {
     "end_time": "2024-06-08T17:53:30.635437Z",
     "start_time": "2024-06-08T17:53:30.629626Z"
    }
   },
   "cell_type": "code",
   "source": "print(q.name)",
   "id": "254a06fa76074412",
   "outputs": [
    {
     "name": "stdout",
     "output_type": "stream",
     "text": [
      "satyam\n"
     ]
    }
   ],
   "execution_count": 176
  },
  {
   "metadata": {
    "ExecuteTime": {
     "end_time": "2024-06-08T17:53:43.419931Z",
     "start_time": "2024-06-08T17:53:43.413455Z"
    }
   },
   "cell_type": "code",
   "source": "print(p.name)",
   "id": "d4a228d823449e6c",
   "outputs": [
    {
     "name": "stdout",
     "output_type": "stream",
     "text": [
      "satyam\n"
     ]
    }
   ],
   "execution_count": 177
  },
  {
   "metadata": {},
   "cell_type": "code",
   "outputs": [],
   "execution_count": null,
   "source": "",
   "id": "a322eefaa815c756"
  },
  {
   "metadata": {},
   "cell_type": "markdown",
   "source": "Pass by Reference",
   "id": "71345d3915e7d90a"
  },
  {
   "metadata": {
    "ExecuteTime": {
     "end_time": "2024-06-08T17:58:56.669924Z",
     "start_time": "2024-06-08T17:58:56.664706Z"
    }
   },
   "cell_type": "code",
   "source": [
    "class Person:\n",
    "\n",
    "  def __init__(self,name,gender):\n",
    "    self.name = name\n",
    "    self.gender = gender\n",
    "\n",
    "# outside the class -> function\n",
    "def greet(person):\n",
    "    print('Hi my name is',person.name,'and I am a',person.gender)\n",
    "    p1 = Person('Srish','female')\n",
    "    return p1\n",
    "\n",
    "p = Person('satyam','male')\n",
    "x = greet(p)\n",
    "print(x.name)\n",
    "print(x.gender)"
   ],
   "id": "4fb68b8fc518463b",
   "outputs": [
    {
     "name": "stdout",
     "output_type": "stream",
     "text": [
      "Hi my name is satyam and I am a male\n",
      "Srish\n",
      "female\n"
     ]
    }
   ],
   "execution_count": 179
  },
  {
   "metadata": {},
   "cell_type": "code",
   "outputs": [],
   "execution_count": null,
   "source": "",
   "id": "66fd8964870dc722"
  }
 ],
 "metadata": {
  "kernelspec": {
   "display_name": "Python 3",
   "language": "python",
   "name": "python3"
  },
  "language_info": {
   "codemirror_mode": {
    "name": "ipython",
    "version": 2
   },
   "file_extension": ".py",
   "mimetype": "text/x-python",
   "name": "python",
   "nbconvert_exporter": "python",
   "pygments_lexer": "ipython2",
   "version": "2.7.6"
  }
 },
 "nbformat": 4,
 "nbformat_minor": 5
}
