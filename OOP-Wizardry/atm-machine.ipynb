{
 "cells": [
  {
   "cell_type": "code",
   "id": "initial_id",
   "metadata": {
    "collapsed": true,
    "ExecuteTime": {
     "end_time": "2024-06-08T09:18:10.499311Z",
     "start_time": "2024-06-08T09:18:10.485652Z"
    }
   },
   "source": [
    "class Atm:\n",
    "    def __init__(self):\n",
    "        self.pin = None\n",
    "        self.balance = None\n",
    "        self.menu()\n",
    "    \n",
    "    def menu(self):\n",
    "        while True:\n",
    "            user_input = input(\"\"\"\n",
    "            Hi, how can I help you?\n",
    "            1. Create pin\n",
    "            2. Change pin\n",
    "            3. Check balance\n",
    "            4. Withdraw\n",
    "            5. Exit\n",
    "            Please enter your choice: \"\"\")\n",
    "            \n",
    "            if user_input == '1':\n",
    "                self.create_pin()\n",
    "            elif user_input == '2':\n",
    "                self.change_pin()\n",
    "            elif user_input == '3':\n",
    "                self.check_balance()\n",
    "            elif user_input == '4':\n",
    "                self.withdraw()\n",
    "            elif user_input == '5':\n",
    "                print(\"Thank you for using the ATM. Goodbye!\")\n",
    "                break\n",
    "            else:\n",
    "                print(\"Invalid choice, please try again.\")\n",
    "            \n",
    "    def create_pin(self):\n",
    "        try:\n",
    "            user_pin = int(input(\"Enter new pin: \"))\n",
    "            self.pin = user_pin\n",
    "            user_balance = int(input(\"Enter initial balance: \"))\n",
    "            self.balance = user_balance\n",
    "            print(\"Pin created successfully.\")\n",
    "        except ValueError:\n",
    "            print(\"Invalid input. Please enter numbers only.\")\n",
    "        self.menu()\n",
    "    \n",
    "    def change_pin(self):\n",
    "        try:\n",
    "            old_pin = int(input(\"Enter old pin: \"))\n",
    "            if old_pin == self.pin:\n",
    "                new_pin = int(input(\"Enter new pin: \"))\n",
    "                self.pin = new_pin\n",
    "                print(\"Pin changed successfully.\")\n",
    "            else:\n",
    "                print(\"Incorrect old pin.\")\n",
    "        except ValueError:\n",
    "            print(\"Invalid input. Please enter numbers only.\")\n",
    "        self.menu()\n",
    "    \n",
    "    def check_balance(self):\n",
    "        try:\n",
    "            entered_pin = int(input(\"Enter your pin: \"))\n",
    "            if entered_pin == self.pin:\n",
    "                print(f\"Your current balance is: {self.balance}\")\n",
    "            else:\n",
    "                print(\"Incorrect pin.\")\n",
    "        except ValueError:\n",
    "            print(\"Invalid input. Please enter numbers only.\")\n",
    "        self.menu()\n",
    "    \n",
    "    def withdraw(self): \n",
    "        try:\n",
    "            entered_pin = int(input(\"Enter your pin: \"))\n",
    "            if entered_pin == self.pin:\n",
    "                amount = int(input(\"Enter the amount to withdraw: \"))\n",
    "                if amount <= self.balance:\n",
    "                    self.balance -= amount\n",
    "                    print(f\"Withdrawal successful. Your new balance is: {self.balance}\")\n",
    "                else:\n",
    "                    print(\"Insufficient balance.\")\n",
    "            else:\n",
    "                print(\"Incorrect pin.\")\n",
    "        except ValueError:\n",
    "            print(\"Invalid input. Please enter numbers only.\")\n",
    "        self.menu()"
   ],
   "outputs": [],
   "execution_count": 28
  },
  {
   "metadata": {
    "ExecuteTime": {
     "end_time": "2024-06-08T09:18:13.726399Z",
     "start_time": "2024-06-08T09:18:11.190977Z"
    }
   },
   "cell_type": "code",
   "source": "obj = Atm()",
   "id": "1057d4294d1ee0e8",
   "outputs": [
    {
     "name": "stdout",
     "output_type": "stream",
     "text": [
      "Thank you for using the ATM. Goodbye!\n"
     ]
    }
   ],
   "execution_count": 29
  },
  {
   "metadata": {
    "ExecuteTime": {
     "end_time": "2024-06-08T09:18:17.388686Z",
     "start_time": "2024-06-08T09:18:17.382165Z"
    }
   },
   "cell_type": "code",
   "source": "print(type(obj))",
   "id": "d0f7d3a498d04829",
   "outputs": [
    {
     "name": "stdout",
     "output_type": "stream",
     "text": [
      "<class '__main__.Atm'>\n"
     ]
    }
   ],
   "execution_count": 30
  },
  {
   "metadata": {
    "ExecuteTime": {
     "end_time": "2024-06-08T09:18:18.126199Z",
     "start_time": "2024-06-08T09:18:18.120725Z"
    }
   },
   "cell_type": "code",
   "source": [
    "class Say:\n",
    "    def __init__(self):\n",
    "        print(\"Address of self: \" , id(self))\n",
    "        self.name = \"Srishti Jaitly\"\n",
    "        self.greet()\n",
    "    def greet(self):\n",
    "        print(f\"Good Morning {self.name}\")"
   ],
   "id": "944cc0e6eeb26722",
   "outputs": [],
   "execution_count": 31
  },
  {
   "metadata": {
    "ExecuteTime": {
     "end_time": "2024-06-08T09:18:18.770714Z",
     "start_time": "2024-06-08T09:18:18.757020Z"
    }
   },
   "cell_type": "code",
   "source": "obj2 = Say()",
   "id": "7eff1e4cb52ed182",
   "outputs": [
    {
     "name": "stdout",
     "output_type": "stream",
     "text": [
      "Address of self:  1654614347888\n",
      "Good Morning Srishti Jaitly\n"
     ]
    }
   ],
   "execution_count": 32
  },
  {
   "metadata": {
    "ExecuteTime": {
     "end_time": "2024-06-08T09:18:19.688868Z",
     "start_time": "2024-06-08T09:18:19.682847Z"
    }
   },
   "cell_type": "code",
   "source": "print(\"Address of objeact: \" , id(obj2))",
   "id": "ef17f4cbff40bf24",
   "outputs": [
    {
     "name": "stdout",
     "output_type": "stream",
     "text": [
      "Address of objeact:  1654614347888\n"
     ]
    }
   ],
   "execution_count": 33
  },
  {
   "metadata": {
    "ExecuteTime": {
     "end_time": "2024-06-08T09:18:20.747276Z",
     "start_time": "2024-06-08T09:18:20.739682Z"
    }
   },
   "cell_type": "code",
   "source": "say = Say()",
   "id": "d435f7eab27c1202",
   "outputs": [
    {
     "name": "stdout",
     "output_type": "stream",
     "text": [
      "Address of self:  1654592844960\n",
      "Good Morning Srishti Jaitly\n"
     ]
    }
   ],
   "execution_count": 34
  },
  {
   "metadata": {
    "ExecuteTime": {
     "end_time": "2024-06-08T09:18:22.022253Z",
     "start_time": "2024-06-08T09:18:22.013262Z"
    }
   },
   "cell_type": "code",
   "source": "print(\"Address of objeact: \" , id(say))\n",
   "id": "fc08c1ab17dd22af",
   "outputs": [
    {
     "name": "stdout",
     "output_type": "stream",
     "text": [
      "Address of objeact:  1654592844960\n"
     ]
    }
   ],
   "execution_count": 35
  },
  {
   "metadata": {},
   "cell_type": "code",
   "outputs": [],
   "execution_count": null,
   "source": "",
   "id": "886b743c03b8f94f"
  }
 ],
 "metadata": {
  "kernelspec": {
   "display_name": "Python 3",
   "language": "python",
   "name": "python3"
  },
  "language_info": {
   "codemirror_mode": {
    "name": "ipython",
    "version": 2
   },
   "file_extension": ".py",
   "mimetype": "text/x-python",
   "name": "python",
   "nbconvert_exporter": "python",
   "pygments_lexer": "ipython2",
   "version": "2.7.6"
  }
 },
 "nbformat": 4,
 "nbformat_minor": 5
}
