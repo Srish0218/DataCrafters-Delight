{
 "cells": [
  {
   "cell_type": "code",
   "id": "initial_id",
   "metadata": {
    "collapsed": true,
    "ExecuteTime": {
     "end_time": "2024-06-09T09:09:07.997986Z",
     "start_time": "2024-06-09T09:09:07.990474Z"
    }
   },
   "source": [
    "from abc import ABC,abstractmethod\n",
    "class BankApp(ABC):\n",
    "\n",
    "  def database(self):\n",
    "    print('connected to database')\n",
    "\n",
    "  @abstractmethod\n",
    "  def security(self):\n",
    "    pass\n",
    "\n",
    "  @abstractmethod\n",
    "  def display(self):\n",
    "    pass\n"
   ],
   "outputs": [],
   "execution_count": 1
  },
  {
   "metadata": {
    "ExecuteTime": {
     "end_time": "2024-06-09T09:09:32.678386Z",
     "start_time": "2024-06-09T09:09:32.672967Z"
    }
   },
   "cell_type": "code",
   "source": [
    "class MobileApp(BankApp):\n",
    "    \n",
    "    @staticmethod\n",
    "    def mobile_login(self):\n",
    "        print('login into mobile')\n",
    "\n",
    "    def security(self):\n",
    "       print('mobile security')\n",
    "\n",
    "    def display(self):\n",
    "       print('display')"
   ],
   "id": "27c40d38ec08ca4f",
   "outputs": [],
   "execution_count": 2
  },
  {
   "metadata": {
    "ExecuteTime": {
     "end_time": "2024-06-09T09:13:38.961557Z",
     "start_time": "2024-06-09T09:13:38.956763Z"
    }
   },
   "cell_type": "code",
   "source": "mob = MobileApp()",
   "id": "b8c0e8dcb278d25b",
   "outputs": [],
   "execution_count": 3
  },
  {
   "metadata": {
    "ExecuteTime": {
     "end_time": "2024-06-09T09:13:44.221990Z",
     "start_time": "2024-06-09T09:13:44.215580Z"
    }
   },
   "cell_type": "code",
   "source": "mob.security()",
   "id": "6cf05d93b9eb8789",
   "outputs": [
    {
     "name": "stdout",
     "output_type": "stream",
     "text": [
      "mobile security\n"
     ]
    }
   ],
   "execution_count": 4
  },
  {
   "metadata": {
    "ExecuteTime": {
     "end_time": "2024-06-09T09:13:52.940605Z",
     "start_time": "2024-06-09T09:13:51.969402Z"
    }
   },
   "cell_type": "code",
   "source": "obj = BankApp()",
   "id": "230e25bc480863e6",
   "outputs": [
    {
     "ename": "TypeError",
     "evalue": "Can't instantiate abstract class BankApp without an implementation for abstract methods 'display', 'security'",
     "output_type": "error",
     "traceback": [
      "\u001B[1;31m---------------------------------------------------------------------------\u001B[0m",
      "\u001B[1;31mTypeError\u001B[0m                                 Traceback (most recent call last)",
      "Cell \u001B[1;32mIn[5], line 1\u001B[0m\n\u001B[1;32m----> 1\u001B[0m obj \u001B[38;5;241m=\u001B[39m \u001B[43mBankApp\u001B[49m\u001B[43m(\u001B[49m\u001B[43m)\u001B[49m\n",
      "\u001B[1;31mTypeError\u001B[0m: Can't instantiate abstract class BankApp without an implementation for abstract methods 'display', 'security'"
     ]
    }
   ],
   "execution_count": 5
  },
  {
   "metadata": {},
   "cell_type": "code",
   "outputs": [],
   "execution_count": null,
   "source": "",
   "id": "b97c72c0e27835f5"
  }
 ],
 "metadata": {
  "kernelspec": {
   "display_name": "Python 3",
   "language": "python",
   "name": "python3"
  },
  "language_info": {
   "codemirror_mode": {
    "name": "ipython",
    "version": 2
   },
   "file_extension": ".py",
   "mimetype": "text/x-python",
   "name": "python",
   "nbconvert_exporter": "python",
   "pygments_lexer": "ipython2",
   "version": "2.7.6"
  }
 },
 "nbformat": 4,
 "nbformat_minor": 5
}
