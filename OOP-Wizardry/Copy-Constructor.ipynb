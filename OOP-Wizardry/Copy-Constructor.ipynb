{
 "cells": [
  {
   "metadata": {},
   "cell_type": "markdown",
   "source": [
    "# Shallow and Deep Copy\n",
    "- Shallow Copy: Creates a new object but inserts references into it to the objects found in the original.\n",
    "- Deep Copy: Creates a new object and recursively adds copies of nested objects found in the original."
   ],
   "id": "9620317bc986e9ba"
  },
  {
   "cell_type": "code",
   "id": "initial_id",
   "metadata": {
    "collapsed": true,
    "ExecuteTime": {
     "end_time": "2024-06-09T10:06:01.527642Z",
     "start_time": "2024-06-09T10:06:01.518347Z"
    }
   },
   "source": [
    "import copy\n",
    "\n",
    "original_list = [1, 2, [3, 4]]\n",
    "\n",
    "shallow_copy = copy.copy(original_list)\n",
    "deep_copy = copy.deepcopy(original_list)\n",
    "\n",
    "shallow_copy[2][0] = 100\n",
    "print(original_list)  # [1, 2, [100, 4]]\n",
    "\n",
    "deep_copy[2][0] = 200\n",
    "print(original_list)  # [1, 2, [100, 4]]\n"
   ],
   "outputs": [
    {
     "name": "stdout",
     "output_type": "stream",
     "text": [
      "[1, 2, [100, 4]]\n",
      "[1, 2, [100, 4]]\n"
     ]
    }
   ],
   "execution_count": 1
  },
  {
   "metadata": {},
   "cell_type": "markdown",
   "source": [
    " Destructor in Python\n",
    " \n",
    "A destructor in Python is defined using the __del__ method, which is called when an object is about to be destroyed. However, its use is rare, and it is generally not needed because Python uses automatic garbage collection."
   ],
   "id": "c27a2d84c8877cf2"
  },
  {
   "metadata": {
    "ExecuteTime": {
     "end_time": "2024-06-09T10:23:12.831707Z",
     "start_time": "2024-06-09T10:23:12.823359Z"
    }
   },
   "cell_type": "code",
   "source": [
    "class MyClass:\n",
    "    def __init__(self, name):\n",
    "        self.name = name\n",
    "        print(f\"Object {self.name} is created.\")\n",
    "    \n",
    "    def __del__(self):\n",
    "        print(f\"Destructor called, object {self.name} is deleted.\")\n",
    "\n",
    "# Creating an object\n",
    "obj = MyClass(\"TestObject\")\n",
    "\n",
    "# Deleting the object explicitly\n",
    "del obj\n",
    "\n",
    "# Output will show the destructor message\n"
   ],
   "id": "40106cdb2267d7cb",
   "outputs": [
    {
     "name": "stdout",
     "output_type": "stream",
     "text": [
      "Object TestObject is created.\n",
      "Destructor called, object TestObject is deleted.\n"
     ]
    }
   ],
   "execution_count": 2
  },
  {
   "metadata": {},
   "cell_type": "code",
   "outputs": [],
   "execution_count": null,
   "source": "",
   "id": "1e7649d3a93a61a"
  }
 ],
 "metadata": {
  "kernelspec": {
   "display_name": "Python 3",
   "language": "python",
   "name": "python3"
  },
  "language_info": {
   "codemirror_mode": {
    "name": "ipython",
    "version": 2
   },
   "file_extension": ".py",
   "mimetype": "text/x-python",
   "name": "python",
   "nbconvert_exporter": "python",
   "pygments_lexer": "ipython2",
   "version": "2.7.6"
  }
 },
 "nbformat": 4,
 "nbformat_minor": 5
}
