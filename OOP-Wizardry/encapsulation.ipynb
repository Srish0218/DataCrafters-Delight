{
 "cells": [
  {
   "cell_type": "code",
   "id": "initial_id",
   "metadata": {
    "collapsed": true,
    "ExecuteTime": {
     "end_time": "2024-06-08T18:14:26.145264Z",
     "start_time": "2024-06-08T18:14:26.137921Z"
    }
   },
   "source": [
    "# instance var -> python tutor\n",
    "class Person:\n",
    "\n",
    "  def __init__(self,name_input,country_input):\n",
    "    self.name = name_input\n",
    "    self.country = country_input\n",
    "\n",
    "p1 = Person('srish','india')\n",
    "p2 = Person('satyam','australia')"
   ],
   "outputs": [],
   "execution_count": 1
  },
  {
   "metadata": {
    "ExecuteTime": {
     "end_time": "2024-06-08T18:57:52.324020Z",
     "start_time": "2024-06-08T18:57:52.305654Z"
    }
   },
   "cell_type": "code",
   "source": [
    "class Atm:\n",
    "\n",
    "  __counter = 0\n",
    "\n",
    "  # constructor(special function)->superpower -> \n",
    "  def __init__(self):\n",
    "    print(id(self))\n",
    "    self.pin = ''\n",
    "    self.__balance = 0\n",
    "    self.cid = Atm.__counter\n",
    "    Atm.__counter = Atm.__counter + 1\n",
    "    #self.menu()\n",
    "\n",
    "  # utility functions\n",
    "  @staticmethod\n",
    "  def get_counter():\n",
    "    return Atm.__counter\n",
    "\n",
    "\n",
    "  def get_balance(self):\n",
    "    return self.__balance\n",
    "\n",
    "  def set_balance(self,new_value):\n",
    "    if type(new_value) == int:\n",
    "      self.__balance = new_value\n",
    "    else:\n",
    "      print('beta bahot maarenge')\n",
    "\n",
    "  def __menu(self):\n",
    "    user_input = input(\"\"\"\n",
    "    Hi how can I help you?\n",
    "    1. Press 1 to create pin\n",
    "    2. Press 2 to change pin\n",
    "    3. Press 3 to check balance\n",
    "    4. Press 4 to withdraw\n",
    "    Anything else to exit\n",
    "    \"\"\")\n",
    "\n",
    "    if user_input == '1':\n",
    "      self.create_pin()\n",
    "    elif user_input == '2':\n",
    "      self.change_pin()\n",
    "    elif user_input == '3':\n",
    "      self.check_balance()\n",
    "    elif user_input == '4':\n",
    "      self.withdraw()\n",
    "    else:\n",
    "      exit()\n",
    "\n",
    "  def create_pin(self):\n",
    "    user_pin = input('enter your pin')\n",
    "    self.pin = user_pin\n",
    "\n",
    "    user_balance = int(input('enter balance'))\n",
    "    self.__balance = user_balance\n",
    "\n",
    "    print('pin created successfully')\n",
    "\n",
    "  def change_pin(self):\n",
    "    old_pin = input('enter old pin')\n",
    "\n",
    "    if old_pin == self.pin:\n",
    "      # let him change the pin\n",
    "      new_pin = input('enter new pin')\n",
    "      self.pin = new_pin\n",
    "      print('pin change successful')\n",
    "    else:\n",
    "      print('nai karne de sakta re baba')\n",
    "\n",
    "  def check_balance(self):\n",
    "    user_pin = input('enter your pin')\n",
    "    if user_pin == self.pin:\n",
    "      print('your balance is ',self.__balance)\n",
    "    else:\n",
    "      print('chal nikal yahan se')\n",
    "\n",
    "  def withdraw(self):\n",
    "    user_pin = input('enter the pin')\n",
    "    if user_pin == self.pin:\n",
    "      # allow to withdraw\n",
    "      amount = int(input('enter the amount'))\n",
    "      if amount <= self.__balance:\n",
    "        self.__balance = self.__balance - amount\n",
    "        print('withdrawl successful.balance is',self.__balance)\n",
    "      else:\n",
    "        print('abe garib')\n",
    "    else:\n",
    "      print('sale chor')"
   ],
   "id": "82c5ceaf7477f2f6",
   "outputs": [],
   "execution_count": 21
  },
  {
   "metadata": {
    "ExecuteTime": {
     "end_time": "2024-06-08T18:57:52.639069Z",
     "start_time": "2024-06-08T18:57:52.633236Z"
    }
   },
   "cell_type": "code",
   "source": "obj = Atm()",
   "id": "2cd661598a6b6f76",
   "outputs": [
    {
     "name": "stdout",
     "output_type": "stream",
     "text": [
      "1970365055248\n"
     ]
    }
   ],
   "execution_count": 22
  },
  {
   "metadata": {
    "ExecuteTime": {
     "end_time": "2024-06-08T18:57:52.928600Z",
     "start_time": "2024-06-08T18:57:52.921202Z"
    }
   },
   "cell_type": "code",
   "source": "obj.get_balance()",
   "id": "511808396b7e69ee",
   "outputs": [
    {
     "data": {
      "text/plain": [
       "0"
      ]
     },
     "execution_count": 23,
     "metadata": {},
     "output_type": "execute_result"
    }
   ],
   "execution_count": 23
  },
  {
   "metadata": {
    "ExecuteTime": {
     "end_time": "2024-06-08T18:57:53.220781Z",
     "start_time": "2024-06-08T18:57:53.215771Z"
    }
   },
   "cell_type": "code",
   "source": "c1 = Atm()",
   "id": "6c7fbf06fbf8a27c",
   "outputs": [
    {
     "name": "stdout",
     "output_type": "stream",
     "text": [
      "1970365056736\n"
     ]
    }
   ],
   "execution_count": 24
  },
  {
   "metadata": {
    "ExecuteTime": {
     "end_time": "2024-06-08T18:57:53.559123Z",
     "start_time": "2024-06-08T18:57:53.552108Z"
    }
   },
   "cell_type": "code",
   "source": "c2 = Atm()",
   "id": "a2831050d50c0e14",
   "outputs": [
    {
     "name": "stdout",
     "output_type": "stream",
     "text": [
      "1970364893184\n"
     ]
    }
   ],
   "execution_count": 25
  },
  {
   "metadata": {
    "ExecuteTime": {
     "end_time": "2024-06-08T18:57:54.141149Z",
     "start_time": "2024-06-08T18:57:54.135100Z"
    }
   },
   "cell_type": "code",
   "source": "c3 = Atm()",
   "id": "ab39da3b93182f83",
   "outputs": [
    {
     "name": "stdout",
     "output_type": "stream",
     "text": [
      "1970364776672\n"
     ]
    }
   ],
   "execution_count": 26
  },
  {
   "metadata": {
    "ExecuteTime": {
     "end_time": "2024-06-08T18:57:54.571377Z",
     "start_time": "2024-06-08T18:57:54.560328Z"
    }
   },
   "cell_type": "code",
   "source": "c1.cid",
   "id": "ddb7082880f34e33",
   "outputs": [
    {
     "data": {
      "text/plain": [
       "1"
      ]
     },
     "execution_count": 27,
     "metadata": {},
     "output_type": "execute_result"
    }
   ],
   "execution_count": 27
  },
  {
   "metadata": {
    "ExecuteTime": {
     "end_time": "2024-06-08T18:57:55.361342Z",
     "start_time": "2024-06-08T18:57:55.340298Z"
    }
   },
   "cell_type": "code",
   "source": "c2.cid",
   "id": "a3a1db03bbc9ae86",
   "outputs": [
    {
     "data": {
      "text/plain": [
       "2"
      ]
     },
     "execution_count": 28,
     "metadata": {},
     "output_type": "execute_result"
    }
   ],
   "execution_count": 28
  },
  {
   "metadata": {
    "ExecuteTime": {
     "end_time": "2024-06-08T18:57:56.115847Z",
     "start_time": "2024-06-08T18:57:56.104520Z"
    }
   },
   "cell_type": "code",
   "source": "c3.cid",
   "id": "5c21857d041ffb4c",
   "outputs": [
    {
     "data": {
      "text/plain": [
       "3"
      ]
     },
     "execution_count": 29,
     "metadata": {},
     "output_type": "execute_result"
    }
   ],
   "execution_count": 29
  },
  {
   "metadata": {
    "ExecuteTime": {
     "end_time": "2024-06-08T18:59:42.010039Z",
     "start_time": "2024-06-08T18:59:42.000763Z"
    }
   },
   "cell_type": "code",
   "source": "Atm._Atm__counter",
   "id": "32b0d72dc0d66dd6",
   "outputs": [
    {
     "data": {
      "text/plain": [
       "4"
      ]
     },
     "execution_count": 30,
     "metadata": {},
     "output_type": "execute_result"
    }
   ],
   "execution_count": 30
  },
  {
   "metadata": {
    "ExecuteTime": {
     "end_time": "2024-06-08T18:37:58.485928Z",
     "start_time": "2024-06-08T18:37:58.475419Z"
    }
   },
   "cell_type": "code",
   "source": [
    "class Person:\n",
    "    def __init__(self, name):\n",
    "        self._name = name\n",
    "\n",
    "    @property\n",
    "    def name(self):\n",
    "        return self._name\n",
    "\n",
    "    @name.setter\n",
    "    def name(self, value):\n",
    "        if not isinstance(value, str):\n",
    "            raise ValueError(\"Name must be a string\")\n",
    "        self._name = value\n",
    "\n",
    "person = Person(\"Alice\")\n",
    "print(person.name)  # Accessing attribute using getter\n",
    "person.name = \"Bob\"  # Modifying attribute using setter\n",
    "print(person.name)\n",
    "\n",
    "try:\n",
    "    person.name = 123  # Attempt to set invalid value\n",
    "except ValueError as e:\n",
    "    print(e)  # Output: Name must be a string\n"
   ],
   "id": "bc4dd41462611b57",
   "outputs": [
    {
     "name": "stdout",
     "output_type": "stream",
     "text": [
      "Alice\n",
      "Bob\n",
      "Name must be a string\n"
     ]
    }
   ],
   "execution_count": 6
  },
  {
   "metadata": {},
   "cell_type": "code",
   "outputs": [],
   "execution_count": null,
   "source": "",
   "id": "44262a234152a55d"
  }
 ],
 "metadata": {
  "kernelspec": {
   "display_name": "Python 3",
   "language": "python",
   "name": "python3"
  },
  "language_info": {
   "codemirror_mode": {
    "name": "ipython",
    "version": 2
   },
   "file_extension": ".py",
   "mimetype": "text/x-python",
   "name": "python",
   "nbconvert_exporter": "python",
   "pygments_lexer": "ipython2",
   "version": "2.7.6"
  }
 },
 "nbformat": 4,
 "nbformat_minor": 5
}
