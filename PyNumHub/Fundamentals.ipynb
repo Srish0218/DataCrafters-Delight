{
 "cells": [
  {
   "metadata": {},
   "cell_type": "markdown",
   "source": [
    "### What is numpy?\n",
    "\n",
    "NumPy is the fundamental package for scientific computing in Python. It is a Python library that provides a multidimensional array object, various derived objects (such as masked arrays and matrices), and an assortment of routines for fast operations on arrays, including mathematical, logical, shape manipulation, sorting, selecting, I/O, discrete Fourier transforms, basic linear algebra, basic statistical operations, random simulation and much more.\n",
    "\n",
    "\n",
    "At the core of the NumPy package, is the ndarray object. This encapsulates n-dimensional arrays of homogeneous data types"
   ],
   "id": "a493c8c70a3c5081"
  },
  {
   "metadata": {},
   "cell_type": "markdown",
   "source": [
    "### Numpy Arrays Vs Python Sequences\n",
    "\n",
    "- NumPy arrays have a fixed size at creation, unlike Python lists (which can grow dynamically). Changing the size of an ndarray will create a new array and delete the original.\n",
    "\n",
    "- The elements in a NumPy array are all required to be of the same data type, and thus will be the same size in memory.\n",
    "\n",
    "- NumPy arrays facilitate advanced mathematical and other types of operations on large numbers of data. Typically, such operations are executed more efficiently and with less code than is possible using Python’s built-in sequences.\n",
    "\n",
    "- A growing plethora of scientific and mathematical Python-based packages are using NumPy arrays; though these typically support Python-sequence input, they convert such input to NumPy arrays prior to processing, and they often output NumPy arrays."
   ],
   "id": "5fd839c54c40efa7"
  },
  {
   "metadata": {},
   "cell_type": "markdown",
   "source": "# creating numpy",
   "id": "1ea2818ea441f895"
  },
  {
   "metadata": {
    "ExecuteTime": {
     "end_time": "2024-06-09T14:51:29.257270Z",
     "start_time": "2024-06-09T14:51:29.247360Z"
    }
   },
   "cell_type": "code",
   "source": "import numpy as np",
   "id": "3bd3b4575a85fefd",
   "outputs": [],
   "execution_count": 2
  },
  {
   "cell_type": "code",
   "id": "initial_id",
   "metadata": {
    "collapsed": true,
    "ExecuteTime": {
     "end_time": "2024-06-09T14:51:56.511489Z",
     "start_time": "2024-06-09T14:51:56.503930Z"
    }
   },
   "source": "a = np.array([1 , 2 , 3])",
   "outputs": [],
   "execution_count": 4
  },
  {
   "metadata": {
    "ExecuteTime": {
     "end_time": "2024-06-09T14:52:01.507278Z",
     "start_time": "2024-06-09T14:52:01.499856Z"
    }
   },
   "cell_type": "code",
   "source": "type(a)",
   "id": "7cc083cd8e3d405a",
   "outputs": [
    {
     "data": {
      "text/plain": [
       "numpy.ndarray"
      ]
     },
     "execution_count": 5,
     "metadata": {},
     "output_type": "execute_result"
    }
   ],
   "execution_count": 5
  },
  {
   "metadata": {
    "ExecuteTime": {
     "end_time": "2024-06-09T14:52:44.664738Z",
     "start_time": "2024-06-09T14:52:44.658481Z"
    }
   },
   "cell_type": "code",
   "source": "a",
   "id": "ebf7937d9f58685b",
   "outputs": [
    {
     "data": {
      "text/plain": [
       "array([1, 2, 3])"
      ]
     },
     "execution_count": 9,
     "metadata": {},
     "output_type": "execute_result"
    }
   ],
   "execution_count": 9
  },
  {
   "metadata": {
    "ExecuteTime": {
     "end_time": "2024-06-09T14:52:26.495672Z",
     "start_time": "2024-06-09T14:52:26.489737Z"
    }
   },
   "cell_type": "code",
   "source": "b = np.array([[1 , 2 , 3 ] , [4 , 5 , 6]])",
   "id": "2d6f679f5523f4eb",
   "outputs": [],
   "execution_count": 6
  },
  {
   "metadata": {
    "ExecuteTime": {
     "end_time": "2024-06-09T14:52:33.136869Z",
     "start_time": "2024-06-09T14:52:33.130418Z"
    }
   },
   "cell_type": "code",
   "source": "type(b)",
   "id": "f8efee408c71d611",
   "outputs": [
    {
     "data": {
      "text/plain": [
       "numpy.ndarray"
      ]
     },
     "execution_count": 7,
     "metadata": {},
     "output_type": "execute_result"
    }
   ],
   "execution_count": 7
  },
  {
   "metadata": {
    "ExecuteTime": {
     "end_time": "2024-06-09T14:52:34.892573Z",
     "start_time": "2024-06-09T14:52:34.886094Z"
    }
   },
   "cell_type": "code",
   "source": "b",
   "id": "fd2d6deda1c9703a",
   "outputs": [
    {
     "data": {
      "text/plain": [
       "array([[1, 2, 3],\n",
       "       [4, 5, 6]])"
      ]
     },
     "execution_count": 8,
     "metadata": {},
     "output_type": "execute_result"
    }
   ],
   "execution_count": 8
  },
  {
   "metadata": {
    "ExecuteTime": {
     "end_time": "2024-06-09T14:52:53.288312Z",
     "start_time": "2024-06-09T14:52:53.284060Z"
    }
   },
   "cell_type": "code",
   "source": "print(b)",
   "id": "5af479a50b19017a",
   "outputs": [
    {
     "name": "stdout",
     "output_type": "stream",
     "text": [
      "[[1 2 3]\n",
      " [4 5 6]]\n"
     ]
    }
   ],
   "execution_count": 10
  },
  {
   "metadata": {
    "ExecuteTime": {
     "end_time": "2024-06-09T14:53:52.754836Z",
     "start_time": "2024-06-09T14:53:52.747780Z"
    }
   },
   "cell_type": "code",
   "source": "c = np.array([[[1,2],[3,4]],[[5,6],[7,8]]])",
   "id": "db663252f405c73d",
   "outputs": [],
   "execution_count": 11
  },
  {
   "metadata": {
    "ExecuteTime": {
     "end_time": "2024-06-09T14:53:53.761447Z",
     "start_time": "2024-06-09T14:53:53.753792Z"
    }
   },
   "cell_type": "code",
   "source": "c",
   "id": "54b3c6aa11b028c6",
   "outputs": [
    {
     "data": {
      "text/plain": [
       "array([[[1, 2],\n",
       "        [3, 4]],\n",
       "\n",
       "       [[5, 6],\n",
       "        [7, 8]]])"
      ]
     },
     "execution_count": 12,
     "metadata": {},
     "output_type": "execute_result"
    }
   ],
   "execution_count": 12
  },
  {
   "metadata": {
    "ExecuteTime": {
     "end_time": "2024-06-09T14:54:19.854082Z",
     "start_time": "2024-06-09T14:54:19.848385Z"
    }
   },
   "cell_type": "code",
   "source": "print(c)",
   "id": "187a6a8a4bb72628",
   "outputs": [
    {
     "name": "stdout",
     "output_type": "stream",
     "text": [
      "[[[1 2]\n",
      "  [3 4]]\n",
      "\n",
      " [[5 6]\n",
      "  [7 8]]]\n"
     ]
    }
   ],
   "execution_count": 14
  },
  {
   "metadata": {
    "ExecuteTime": {
     "end_time": "2024-06-09T14:54:36.399323Z",
     "start_time": "2024-06-09T14:54:36.390672Z"
    }
   },
   "cell_type": "code",
   "source": "np.array([1,2,3],dtype=float)",
   "id": "40704ae8704d9cd3",
   "outputs": [
    {
     "data": {
      "text/plain": [
       "array([1., 2., 3.])"
      ]
     },
     "execution_count": 15,
     "metadata": {},
     "output_type": "execute_result"
    }
   ],
   "execution_count": 15
  },
  {
   "metadata": {
    "ExecuteTime": {
     "end_time": "2024-06-09T14:54:42.800057Z",
     "start_time": "2024-06-09T14:54:42.792417Z"
    }
   },
   "cell_type": "code",
   "source": "np.arange(1,11,2)",
   "id": "c41db634234a98f0",
   "outputs": [
    {
     "data": {
      "text/plain": [
       "array([1, 3, 5, 7, 9])"
      ]
     },
     "execution_count": 16,
     "metadata": {},
     "output_type": "execute_result"
    }
   ],
   "execution_count": 16
  },
  {
   "metadata": {
    "ExecuteTime": {
     "end_time": "2024-06-09T14:54:50.034908Z",
     "start_time": "2024-06-09T14:54:50.024671Z"
    }
   },
   "cell_type": "code",
   "source": [
    "# with reshape\n",
    "np.arange(16).reshape(2,2,2,2)"
   ],
   "id": "c679a2c37dca1dc5",
   "outputs": [
    {
     "data": {
      "text/plain": [
       "array([[[[ 0,  1],\n",
       "         [ 2,  3]],\n",
       "\n",
       "        [[ 4,  5],\n",
       "         [ 6,  7]]],\n",
       "\n",
       "\n",
       "       [[[ 8,  9],\n",
       "         [10, 11]],\n",
       "\n",
       "        [[12, 13],\n",
       "         [14, 15]]]])"
      ]
     },
     "execution_count": 17,
     "metadata": {},
     "output_type": "execute_result"
    }
   ],
   "execution_count": 17
  },
  {
   "metadata": {
    "ExecuteTime": {
     "end_time": "2024-06-09T14:55:03.233100Z",
     "start_time": "2024-06-09T14:55:03.224552Z"
    }
   },
   "cell_type": "code",
   "source": [
    "# np.ones and np.zeros\n",
    "np.ones((3,4))"
   ],
   "id": "3d47def3bf0b7ceb",
   "outputs": [
    {
     "data": {
      "text/plain": [
       "array([[1., 1., 1., 1.],\n",
       "       [1., 1., 1., 1.],\n",
       "       [1., 1., 1., 1.]])"
      ]
     },
     "execution_count": 18,
     "metadata": {},
     "output_type": "execute_result"
    }
   ],
   "execution_count": 18
  },
  {
   "metadata": {
    "ExecuteTime": {
     "end_time": "2024-06-09T14:55:17.592362Z",
     "start_time": "2024-06-09T14:55:17.582697Z"
    }
   },
   "cell_type": "code",
   "source": "np.zeros((3,4))",
   "id": "f2a365a008e610e5",
   "outputs": [
    {
     "data": {
      "text/plain": [
       "array([[0., 0., 0., 0.],\n",
       "       [0., 0., 0., 0.],\n",
       "       [0., 0., 0., 0.]])"
      ]
     },
     "execution_count": 19,
     "metadata": {},
     "output_type": "execute_result"
    }
   ],
   "execution_count": 19
  },
  {
   "metadata": {
    "ExecuteTime": {
     "end_time": "2024-06-09T14:55:27.653118Z",
     "start_time": "2024-06-09T14:55:27.645158Z"
    }
   },
   "cell_type": "code",
   "source": [
    "# np.random\n",
    "np.random.random((3,4))"
   ],
   "id": "5d590c936f5a608c",
   "outputs": [
    {
     "data": {
      "text/plain": [
       "array([[0.69790325, 0.29272744, 0.48450787, 0.08433889],\n",
       "       [0.01433283, 0.84176062, 0.6838484 , 0.98533842],\n",
       "       [0.18728906, 0.62823667, 0.50512561, 0.84436632]])"
      ]
     },
     "execution_count": 20,
     "metadata": {},
     "output_type": "execute_result"
    }
   ],
   "execution_count": 20
  },
  {
   "metadata": {
    "ExecuteTime": {
     "end_time": "2024-06-09T14:55:49.119692Z",
     "start_time": "2024-06-09T14:55:49.111896Z"
    }
   },
   "cell_type": "code",
   "source": [
    "# np.linspace\n",
    "np.linspace(-10,10,10,dtype=int)"
   ],
   "id": "a539d309e6beb7c4",
   "outputs": [
    {
     "data": {
      "text/plain": [
       "array([-10,  -8,  -6,  -4,  -2,   1,   3,   5,   7,  10])"
      ]
     },
     "execution_count": 21,
     "metadata": {},
     "output_type": "execute_result"
    }
   ],
   "execution_count": 21
  },
  {
   "metadata": {
    "ExecuteTime": {
     "end_time": "2024-06-09T14:55:55.846318Z",
     "start_time": "2024-06-09T14:55:55.840434Z"
    }
   },
   "cell_type": "code",
   "source": [
    "# np.identity\n",
    "np.identity(3)"
   ],
   "id": "3fd54354f718c259",
   "outputs": [
    {
     "data": {
      "text/plain": [
       "array([[1., 0., 0.],\n",
       "       [0., 1., 0.],\n",
       "       [0., 0., 1.]])"
      ]
     },
     "execution_count": 22,
     "metadata": {},
     "output_type": "execute_result"
    }
   ],
   "execution_count": 22
  },
  {
   "metadata": {},
   "cell_type": "markdown",
   "source": "# Array Attributes",
   "id": "da87c5579320dd9c"
  },
  {
   "metadata": {
    "ExecuteTime": {
     "end_time": "2024-06-09T17:02:08.934092Z",
     "start_time": "2024-06-09T17:02:08.923446Z"
    }
   },
   "cell_type": "code",
   "source": [
    "a1 = np.arange(10,dtype=np.int32)\n",
    "a2 = np.arange(12,dtype=float).reshape(3,4)\n",
    "a3 = np.arange(8).reshape(2,2,2)\n",
    "\n",
    "a3"
   ],
   "id": "25070238fdb596c9",
   "outputs": [
    {
     "data": {
      "text/plain": [
       "array([[[0, 1],\n",
       "        [2, 3]],\n",
       "\n",
       "       [[4, 5],\n",
       "        [6, 7]]])"
      ]
     },
     "execution_count": 30,
     "metadata": {},
     "output_type": "execute_result"
    }
   ],
   "execution_count": 30
  },
  {
   "metadata": {
    "ExecuteTime": {
     "end_time": "2024-06-09T17:02:18.688420Z",
     "start_time": "2024-06-09T17:02:18.673220Z"
    }
   },
   "cell_type": "code",
   "source": [
    "# ndim\n",
    "print(a1.ndim)\n",
    "a3.ndim"
   ],
   "id": "934d84b936fd8b32",
   "outputs": [
    {
     "name": "stdout",
     "output_type": "stream",
     "text": [
      "1\n"
     ]
    },
    {
     "data": {
      "text/plain": [
       "3"
      ]
     },
     "execution_count": 32,
     "metadata": {},
     "output_type": "execute_result"
    }
   ],
   "execution_count": 32
  },
  {
   "metadata": {
    "ExecuteTime": {
     "end_time": "2024-06-09T17:03:15.978472Z",
     "start_time": "2024-06-09T17:03:15.965804Z"
    }
   },
   "cell_type": "code",
   "source": [
    "# shape\n",
    "print(a2.shape)\n",
    "a2"
   ],
   "id": "c978aceabb4027cb",
   "outputs": [
    {
     "name": "stdout",
     "output_type": "stream",
     "text": [
      "(3, 4)\n"
     ]
    },
    {
     "data": {
      "text/plain": [
       "array([[ 0.,  1.,  2.,  3.],\n",
       "       [ 4.,  5.,  6.,  7.],\n",
       "       [ 8.,  9., 10., 11.]])"
      ]
     },
     "execution_count": 33,
     "metadata": {},
     "output_type": "execute_result"
    }
   ],
   "execution_count": 33
  },
  {
   "metadata": {
    "ExecuteTime": {
     "end_time": "2024-06-09T17:03:29.784257Z",
     "start_time": "2024-06-09T17:03:29.771144Z"
    }
   },
   "cell_type": "code",
   "source": [
    "# size\n",
    "print(a2.size)\n",
    "a2"
   ],
   "id": "9a1e0bdee661d1a8",
   "outputs": [
    {
     "name": "stdout",
     "output_type": "stream",
     "text": [
      "12\n"
     ]
    },
    {
     "data": {
      "text/plain": [
       "array([[ 0.,  1.,  2.,  3.],\n",
       "       [ 4.,  5.,  6.,  7.],\n",
       "       [ 8.,  9., 10., 11.]])"
      ]
     },
     "execution_count": 34,
     "metadata": {},
     "output_type": "execute_result"
    }
   ],
   "execution_count": 34
  },
  {
   "metadata": {
    "ExecuteTime": {
     "end_time": "2024-06-09T16:49:46.014403Z",
     "start_time": "2024-06-09T16:49:45.999837Z"
    }
   },
   "cell_type": "code",
   "source": [
    "# itemsize\n",
    "a3.itemsize"
   ],
   "id": "f5714030aef14e73",
   "outputs": [
    {
     "data": {
      "text/plain": [
       "4"
      ]
     },
     "execution_count": 27,
     "metadata": {},
     "output_type": "execute_result"
    }
   ],
   "execution_count": 27
  },
  {
   "metadata": {
    "ExecuteTime": {
     "end_time": "2024-06-09T16:49:53.005590Z",
     "start_time": "2024-06-09T16:49:52.997027Z"
    }
   },
   "cell_type": "code",
   "source": [
    "# dtype\n",
    "print(a1.dtype)\n",
    "print(a2.dtype)\n",
    "print(a3.dtype)\n",
    "\n"
   ],
   "id": "638384d66c14428b",
   "outputs": [
    {
     "name": "stdout",
     "output_type": "stream",
     "text": [
      "int32\n",
      "float64\n",
      "int32\n"
     ]
    }
   ],
   "execution_count": 28
  },
  {
   "metadata": {},
   "cell_type": "markdown",
   "source": "### Changing Datatype",
   "id": "b2e95efb9141548b"
  },
  {
   "metadata": {
    "ExecuteTime": {
     "end_time": "2024-06-09T17:05:57.783639Z",
     "start_time": "2024-06-09T17:05:57.775582Z"
    }
   },
   "cell_type": "code",
   "source": [
    "# astype\n",
    "a3.astype(np.int32)"
   ],
   "id": "31e69cd98123ee7c",
   "outputs": [
    {
     "data": {
      "text/plain": [
       "array([[[0, 1],\n",
       "        [2, 3]],\n",
       "\n",
       "       [[4, 5],\n",
       "        [6, 7]]])"
      ]
     },
     "execution_count": 35,
     "metadata": {},
     "output_type": "execute_result"
    }
   ],
   "execution_count": 35
  },
  {
   "metadata": {},
   "cell_type": "markdown",
   "source": "Array Operations",
   "id": "f40d48a96f22c842"
  },
  {
   "metadata": {
    "ExecuteTime": {
     "end_time": "2024-06-09T17:06:17.839902Z",
     "start_time": "2024-06-09T17:06:17.826299Z"
    }
   },
   "cell_type": "code",
   "source": [
    "a1 = np.arange(12).reshape(3,4)\n",
    "a2 = np.arange(12,24).reshape(3,4)\n",
    "\n",
    "a2"
   ],
   "id": "3c2b3a244d49e1ae",
   "outputs": [
    {
     "data": {
      "text/plain": [
       "array([[12, 13, 14, 15],\n",
       "       [16, 17, 18, 19],\n",
       "       [20, 21, 22, 23]])"
      ]
     },
     "execution_count": 36,
     "metadata": {},
     "output_type": "execute_result"
    }
   ],
   "execution_count": 36
  },
  {
   "metadata": {
    "ExecuteTime": {
     "end_time": "2024-06-09T17:06:43.099116Z",
     "start_time": "2024-06-09T17:06:43.089179Z"
    }
   },
   "cell_type": "code",
   "source": "a1",
   "id": "95ca6b69d6fb3dbf",
   "outputs": [
    {
     "data": {
      "text/plain": [
       "array([[ 0,  1,  2,  3],\n",
       "       [ 4,  5,  6,  7],\n",
       "       [ 8,  9, 10, 11]])"
      ]
     },
     "execution_count": 38,
     "metadata": {},
     "output_type": "execute_result"
    }
   ],
   "execution_count": 38
  },
  {
   "metadata": {
    "ExecuteTime": {
     "end_time": "2024-06-09T17:06:36.051885Z",
     "start_time": "2024-06-09T17:06:36.039823Z"
    }
   },
   "cell_type": "code",
   "source": [
    "# scalar operations\n",
    "\n",
    "# arithmetic\n",
    "a1 ** 2"
   ],
   "id": "dc52c14e3d038012",
   "outputs": [
    {
     "data": {
      "text/plain": [
       "array([[  0,   1,   4,   9],\n",
       "       [ 16,  25,  36,  49],\n",
       "       [ 64,  81, 100, 121]])"
      ]
     },
     "execution_count": 37,
     "metadata": {},
     "output_type": "execute_result"
    }
   ],
   "execution_count": 37
  },
  {
   "metadata": {
    "ExecuteTime": {
     "end_time": "2024-06-09T17:06:58.705540Z",
     "start_time": "2024-06-09T17:06:58.694396Z"
    }
   },
   "cell_type": "code",
   "source": [
    "# relational\n",
    "a2 == 15"
   ],
   "id": "467b0d44d1ffba80",
   "outputs": [
    {
     "data": {
      "text/plain": [
       "array([[False, False, False,  True],\n",
       "       [False, False, False, False],\n",
       "       [False, False, False, False]])"
      ]
     },
     "execution_count": 39,
     "metadata": {},
     "output_type": "execute_result"
    }
   ],
   "execution_count": 39
  },
  {
   "metadata": {
    "ExecuteTime": {
     "end_time": "2024-06-09T17:07:02.555305Z",
     "start_time": "2024-06-09T17:07:02.547865Z"
    }
   },
   "cell_type": "code",
   "source": "a2",
   "id": "12ebffa499f30aff",
   "outputs": [
    {
     "data": {
      "text/plain": [
       "array([[12, 13, 14, 15],\n",
       "       [16, 17, 18, 19],\n",
       "       [20, 21, 22, 23]])"
      ]
     },
     "execution_count": 40,
     "metadata": {},
     "output_type": "execute_result"
    }
   ],
   "execution_count": 40
  },
  {
   "metadata": {
    "ExecuteTime": {
     "end_time": "2024-06-09T17:07:16.489956Z",
     "start_time": "2024-06-09T17:07:16.480550Z"
    }
   },
   "cell_type": "code",
   "source": [
    "# vector operations\n",
    "# arithmetic\n",
    "a1 ** a2"
   ],
   "id": "2a98228e91f2e926",
   "outputs": [
    {
     "data": {
      "text/plain": [
       "array([[          0,           1,       16384,    14348907],\n",
       "       [          0, -1564725563,  1159987200,   442181591],\n",
       "       [          0,  1914644777, -1304428544,  -122979837]])"
      ]
     },
     "execution_count": 41,
     "metadata": {},
     "output_type": "execute_result"
    }
   ],
   "execution_count": 41
  },
  {
   "metadata": {},
   "cell_type": "markdown",
   "source": "# Array Functions",
   "id": "3216b9fd42fb64d9"
  },
  {
   "metadata": {
    "ExecuteTime": {
     "end_time": "2024-06-09T17:09:25.267781Z",
     "start_time": "2024-06-09T17:09:25.260133Z"
    }
   },
   "cell_type": "code",
   "source": [
    "a1 = np.random.random((3,3))\n",
    "a1 = np.round(a1*100)\n",
    "a1"
   ],
   "id": "2f6b0b439d2e5f24",
   "outputs": [
    {
     "data": {
      "text/plain": [
       "array([[40., 84.,  4.],\n",
       "       [ 2., 29., 44.],\n",
       "       [29., 61., 61.]])"
      ]
     },
     "execution_count": 47,
     "metadata": {},
     "output_type": "execute_result"
    }
   ],
   "execution_count": 47
  },
  {
   "metadata": {
    "ExecuteTime": {
     "end_time": "2024-06-09T17:09:26.190215Z",
     "start_time": "2024-06-09T17:09:26.181259Z"
    }
   },
   "cell_type": "code",
   "source": [
    "# max/min/sum/prod\n",
    "# 0 -> col and 1 -> row\n",
    "np.prod(a1,axis=0)"
   ],
   "id": "40a38f71173b2644",
   "outputs": [
    {
     "data": {
      "text/plain": [
       "array([  2320., 148596.,  10736.])"
      ]
     },
     "execution_count": 48,
     "metadata": {},
     "output_type": "execute_result"
    }
   ],
   "execution_count": 48
  },
  {
   "metadata": {
    "ExecuteTime": {
     "end_time": "2024-06-09T17:09:27.267552Z",
     "start_time": "2024-06-09T17:09:27.251772Z"
    }
   },
   "cell_type": "code",
   "source": [
    "# mean/median/std/var\n",
    "np.var(a1,axis=1)"
   ],
   "id": "a56f8f05d087db5a",
   "outputs": [
    {
     "data": {
      "text/plain": [
       "array([1070.22222222,  302.        ,  227.55555556])"
      ]
     },
     "execution_count": 49,
     "metadata": {},
     "output_type": "execute_result"
    }
   ],
   "execution_count": 49
  },
  {
   "metadata": {
    "ExecuteTime": {
     "end_time": "2024-06-09T17:09:36.962928Z",
     "start_time": "2024-06-09T17:09:36.954129Z"
    }
   },
   "cell_type": "code",
   "source": [
    "# trigonomoetric functions\n",
    "np.sin(a1)"
   ],
   "id": "34e4ad395ce4c2a1",
   "outputs": [
    {
     "data": {
      "text/plain": [
       "array([[ 0.74511316,  0.73319032, -0.7568025 ],\n",
       "       [ 0.90929743, -0.66363388,  0.01770193],\n",
       "       [-0.66363388, -0.96611777, -0.96611777]])"
      ]
     },
     "execution_count": 50,
     "metadata": {},
     "output_type": "execute_result"
    }
   ],
   "execution_count": 50
  },
  {
   "metadata": {
    "ExecuteTime": {
     "end_time": "2024-06-09T17:09:43.815578Z",
     "start_time": "2024-06-09T17:09:43.802460Z"
    }
   },
   "cell_type": "code",
   "source": [
    "# dot product\n",
    "a2 = np.arange(12).reshape(3,4)\n",
    "a3 = np.arange(12,24).reshape(4,3)\n",
    "\n",
    "np.dot(a2,a3)"
   ],
   "id": "beefcd0ec28745da",
   "outputs": [
    {
     "data": {
      "text/plain": [
       "array([[114, 120, 126],\n",
       "       [378, 400, 422],\n",
       "       [642, 680, 718]])"
      ]
     },
     "execution_count": 51,
     "metadata": {},
     "output_type": "execute_result"
    }
   ],
   "execution_count": 51
  },
  {
   "metadata": {
    "ExecuteTime": {
     "end_time": "2024-06-09T17:09:49.219254Z",
     "start_time": "2024-06-09T17:09:49.206636Z"
    }
   },
   "cell_type": "code",
   "source": [
    "# log and exponents\n",
    "np.exp(a1)"
   ],
   "id": "52d48b2e018b9a26",
   "outputs": [
    {
     "data": {
      "text/plain": [
       "array([[2.35385267e+17, 3.02507732e+36, 5.45981500e+01],\n",
       "       [7.38905610e+00, 3.93133430e+12, 1.28516001e+19],\n",
       "       [3.93133430e+12, 3.10429794e+26, 3.10429794e+26]])"
      ]
     },
     "execution_count": 52,
     "metadata": {},
     "output_type": "execute_result"
    }
   ],
   "execution_count": 52
  },
  {
   "metadata": {
    "ExecuteTime": {
     "end_time": "2024-06-09T17:09:58.209534Z",
     "start_time": "2024-06-09T17:09:58.195969Z"
    }
   },
   "cell_type": "code",
   "source": [
    "# round/floor/ceil\n",
    "\n",
    "np.ceil(np.random.random((2,3))*100)"
   ],
   "id": "d4394f6a57231874",
   "outputs": [
    {
     "data": {
      "text/plain": [
       "array([[17., 44., 54.],\n",
       "       [72., 82., 21.]])"
      ]
     },
     "execution_count": 53,
     "metadata": {},
     "output_type": "execute_result"
    }
   ],
   "execution_count": 53
  },
  {
   "metadata": {},
   "cell_type": "markdown",
   "source": "# Indexing and Slicing",
   "id": "83c086c74fb912ed"
  },
  {
   "metadata": {
    "ExecuteTime": {
     "end_time": "2024-06-09T17:10:13.337038Z",
     "start_time": "2024-06-09T17:10:13.327175Z"
    }
   },
   "cell_type": "code",
   "source": [
    "a1 = np.arange(10)\n",
    "a2 = np.arange(12).reshape(3,4)\n",
    "a3 = np.arange(8).reshape(2,2,2)\n",
    "\n",
    "a3"
   ],
   "id": "70a60ddc157b987d",
   "outputs": [
    {
     "data": {
      "text/plain": [
       "array([[[0, 1],\n",
       "        [2, 3]],\n",
       "\n",
       "       [[4, 5],\n",
       "        [6, 7]]])"
      ]
     },
     "execution_count": 54,
     "metadata": {},
     "output_type": "execute_result"
    }
   ],
   "execution_count": 54
  },
  {
   "metadata": {
    "ExecuteTime": {
     "end_time": "2024-06-09T17:10:21.752852Z",
     "start_time": "2024-06-09T17:10:21.745144Z"
    }
   },
   "cell_type": "code",
   "source": "a1",
   "id": "6608b9728deb8989",
   "outputs": [
    {
     "data": {
      "text/plain": [
       "array([0, 1, 2, 3, 4, 5, 6, 7, 8, 9])"
      ]
     },
     "execution_count": 55,
     "metadata": {},
     "output_type": "execute_result"
    }
   ],
   "execution_count": 55
  },
  {
   "metadata": {
    "ExecuteTime": {
     "end_time": "2024-06-09T17:10:26.868268Z",
     "start_time": "2024-06-09T17:10:26.860545Z"
    }
   },
   "cell_type": "code",
   "source": "a2",
   "id": "3c048150f8c3861f",
   "outputs": [
    {
     "data": {
      "text/plain": [
       "array([[ 0,  1,  2,  3],\n",
       "       [ 4,  5,  6,  7],\n",
       "       [ 8,  9, 10, 11]])"
      ]
     },
     "execution_count": 56,
     "metadata": {},
     "output_type": "execute_result"
    }
   ],
   "execution_count": 56
  },
  {
   "metadata": {
    "ExecuteTime": {
     "end_time": "2024-06-09T17:10:33.731416Z",
     "start_time": "2024-06-09T17:10:33.722392Z"
    }
   },
   "cell_type": "code",
   "source": "a2[1,0]",
   "id": "d40b2e0c9e4a6ad4",
   "outputs": [
    {
     "data": {
      "text/plain": [
       "4"
      ]
     },
     "execution_count": 57,
     "metadata": {},
     "output_type": "execute_result"
    }
   ],
   "execution_count": 57
  },
  {
   "metadata": {
    "ExecuteTime": {
     "end_time": "2024-06-09T17:10:39.067680Z",
     "start_time": "2024-06-09T17:10:39.060147Z"
    }
   },
   "cell_type": "code",
   "source": "a3",
   "id": "1ef91dd8332955c6",
   "outputs": [
    {
     "data": {
      "text/plain": [
       "array([[[0, 1],\n",
       "        [2, 3]],\n",
       "\n",
       "       [[4, 5],\n",
       "        [6, 7]]])"
      ]
     },
     "execution_count": 58,
     "metadata": {},
     "output_type": "execute_result"
    }
   ],
   "execution_count": 58
  },
  {
   "metadata": {
    "ExecuteTime": {
     "end_time": "2024-06-09T17:10:44.743712Z",
     "start_time": "2024-06-09T17:10:44.733922Z"
    }
   },
   "cell_type": "code",
   "source": "a3[1,0,1]",
   "id": "5fb3d33368c5c443",
   "outputs": [
    {
     "data": {
      "text/plain": [
       "5"
      ]
     },
     "execution_count": 59,
     "metadata": {},
     "output_type": "execute_result"
    }
   ],
   "execution_count": 59
  },
  {
   "metadata": {
    "ExecuteTime": {
     "end_time": "2024-06-09T17:11:01.736527Z",
     "start_time": "2024-06-09T17:11:01.727876Z"
    }
   },
   "cell_type": "code",
   "source": "a3[1,1,0]",
   "id": "8986db975a90d586",
   "outputs": [
    {
     "data": {
      "text/plain": [
       "6"
      ]
     },
     "execution_count": 60,
     "metadata": {},
     "output_type": "execute_result"
    }
   ],
   "execution_count": 60
  },
  {
   "metadata": {
    "ExecuteTime": {
     "end_time": "2024-06-09T17:11:04.800596Z",
     "start_time": "2024-06-09T17:11:04.792775Z"
    }
   },
   "cell_type": "code",
   "source": "a1",
   "id": "5ae423100425eb0b",
   "outputs": [
    {
     "data": {
      "text/plain": [
       "array([0, 1, 2, 3, 4, 5, 6, 7, 8, 9])"
      ]
     },
     "execution_count": 61,
     "metadata": {},
     "output_type": "execute_result"
    }
   ],
   "execution_count": 61
  },
  {
   "metadata": {
    "ExecuteTime": {
     "end_time": "2024-06-09T17:11:10.380308Z",
     "start_time": "2024-06-09T17:11:10.368553Z"
    }
   },
   "cell_type": "code",
   "source": "a1[2:5:2]",
   "id": "b79fcb71bbdf67a1",
   "outputs": [
    {
     "data": {
      "text/plain": [
       "array([2, 4])"
      ]
     },
     "execution_count": 62,
     "metadata": {},
     "output_type": "execute_result"
    }
   ],
   "execution_count": 62
  },
  {
   "metadata": {
    "ExecuteTime": {
     "end_time": "2024-06-09T17:11:15.418639Z",
     "start_time": "2024-06-09T17:11:15.407710Z"
    }
   },
   "cell_type": "code",
   "source": "a2",
   "id": "c15168dfda848e31",
   "outputs": [
    {
     "data": {
      "text/plain": [
       "array([[ 0,  1,  2,  3],\n",
       "       [ 4,  5,  6,  7],\n",
       "       [ 8,  9, 10, 11]])"
      ]
     },
     "execution_count": 63,
     "metadata": {},
     "output_type": "execute_result"
    }
   ],
   "execution_count": 63
  },
  {
   "metadata": {
    "ExecuteTime": {
     "end_time": "2024-06-09T17:11:22.267672Z",
     "start_time": "2024-06-09T17:11:22.260126Z"
    }
   },
   "cell_type": "code",
   "source": "a2[0:2,1::2]",
   "id": "f035be0541d3e5c2",
   "outputs": [
    {
     "data": {
      "text/plain": [
       "array([[1, 3],\n",
       "       [5, 7]])"
      ]
     },
     "execution_count": 64,
     "metadata": {},
     "output_type": "execute_result"
    }
   ],
   "execution_count": 64
  },
  {
   "metadata": {
    "ExecuteTime": {
     "end_time": "2024-06-09T17:11:28.688554Z",
     "start_time": "2024-06-09T17:11:28.679561Z"
    }
   },
   "cell_type": "code",
   "source": "a2[::2,1::2]",
   "id": "466a3ed8e923d320",
   "outputs": [
    {
     "data": {
      "text/plain": [
       "array([[ 1,  3],\n",
       "       [ 9, 11]])"
      ]
     },
     "execution_count": 65,
     "metadata": {},
     "output_type": "execute_result"
    }
   ],
   "execution_count": 65
  },
  {
   "metadata": {
    "ExecuteTime": {
     "end_time": "2024-06-09T17:11:33.305697Z",
     "start_time": "2024-06-09T17:11:33.296518Z"
    }
   },
   "cell_type": "code",
   "source": "a2[1,::3]",
   "id": "6f3a73d862e56611",
   "outputs": [
    {
     "data": {
      "text/plain": [
       "array([4, 7])"
      ]
     },
     "execution_count": 66,
     "metadata": {},
     "output_type": "execute_result"
    }
   ],
   "execution_count": 66
  },
  {
   "metadata": {
    "ExecuteTime": {
     "end_time": "2024-06-09T17:11:39.959738Z",
     "start_time": "2024-06-09T17:11:39.952401Z"
    }
   },
   "cell_type": "code",
   "source": "a2[0,:]",
   "id": "fdeaa7374fae8185",
   "outputs": [
    {
     "data": {
      "text/plain": [
       "array([0, 1, 2, 3])"
      ]
     },
     "execution_count": 67,
     "metadata": {},
     "output_type": "execute_result"
    }
   ],
   "execution_count": 67
  },
  {
   "metadata": {
    "ExecuteTime": {
     "end_time": "2024-06-09T17:11:45.414517Z",
     "start_time": "2024-06-09T17:11:45.406107Z"
    }
   },
   "cell_type": "code",
   "source": "a2[:,2]",
   "id": "d187096b62869f4a",
   "outputs": [
    {
     "data": {
      "text/plain": [
       "array([ 2,  6, 10])"
      ]
     },
     "execution_count": 68,
     "metadata": {},
     "output_type": "execute_result"
    }
   ],
   "execution_count": 68
  },
  {
   "metadata": {
    "ExecuteTime": {
     "end_time": "2024-06-09T17:11:49.965477Z",
     "start_time": "2024-06-09T17:11:49.957116Z"
    }
   },
   "cell_type": "code",
   "source": "a2[1:,1:3]",
   "id": "e57bc109e5a14028",
   "outputs": [
    {
     "data": {
      "text/plain": [
       "array([[ 5,  6],\n",
       "       [ 9, 10]])"
      ]
     },
     "execution_count": 69,
     "metadata": {},
     "output_type": "execute_result"
    }
   ],
   "execution_count": 69
  },
  {
   "metadata": {
    "ExecuteTime": {
     "end_time": "2024-06-09T17:11:55.057943Z",
     "start_time": "2024-06-09T17:11:55.049401Z"
    }
   },
   "cell_type": "code",
   "source": [
    "a3 = np.arange(27).reshape(3,3,3)\n",
    "a3"
   ],
   "id": "344576d6bae060ca",
   "outputs": [
    {
     "data": {
      "text/plain": [
       "array([[[ 0,  1,  2],\n",
       "        [ 3,  4,  5],\n",
       "        [ 6,  7,  8]],\n",
       "\n",
       "       [[ 9, 10, 11],\n",
       "        [12, 13, 14],\n",
       "        [15, 16, 17]],\n",
       "\n",
       "       [[18, 19, 20],\n",
       "        [21, 22, 23],\n",
       "        [24, 25, 26]]])"
      ]
     },
     "execution_count": 70,
     "metadata": {},
     "output_type": "execute_result"
    }
   ],
   "execution_count": 70
  },
  {
   "metadata": {
    "ExecuteTime": {
     "end_time": "2024-06-09T17:12:02.242789Z",
     "start_time": "2024-06-09T17:12:02.234719Z"
    }
   },
   "cell_type": "code",
   "source": "a3[::2,0,::2]",
   "id": "cc4527a8109401ca",
   "outputs": [
    {
     "data": {
      "text/plain": [
       "array([[ 0,  2],\n",
       "       [18, 20]])"
      ]
     },
     "execution_count": 71,
     "metadata": {},
     "output_type": "execute_result"
    }
   ],
   "execution_count": 71
  },
  {
   "metadata": {
    "ExecuteTime": {
     "end_time": "2024-06-09T17:12:08.869213Z",
     "start_time": "2024-06-09T17:12:08.860331Z"
    }
   },
   "cell_type": "code",
   "source": "a3[2,1:,1:]",
   "id": "1dbaac3aa00fcac2",
   "outputs": [
    {
     "data": {
      "text/plain": [
       "array([[22, 23],\n",
       "       [25, 26]])"
      ]
     },
     "execution_count": 72,
     "metadata": {},
     "output_type": "execute_result"
    }
   ],
   "execution_count": 72
  },
  {
   "metadata": {
    "ExecuteTime": {
     "end_time": "2024-06-09T17:12:13.941215Z",
     "start_time": "2024-06-09T17:12:13.934692Z"
    }
   },
   "cell_type": "code",
   "source": "a3[0,1,:]",
   "id": "6d4dc0c527c1dd20",
   "outputs": [
    {
     "data": {
      "text/plain": [
       "array([3, 4, 5])"
      ]
     },
     "execution_count": 73,
     "metadata": {},
     "output_type": "execute_result"
    }
   ],
   "execution_count": 73
  },
  {
   "metadata": {},
   "cell_type": "code",
   "outputs": [],
   "execution_count": null,
   "source": "",
   "id": "32d793988f2f7df7"
  }
 ],
 "metadata": {
  "kernelspec": {
   "display_name": "Python 3",
   "language": "python",
   "name": "python3"
  },
  "language_info": {
   "codemirror_mode": {
    "name": "ipython",
    "version": 2
   },
   "file_extension": ".py",
   "mimetype": "text/x-python",
   "name": "python",
   "nbconvert_exporter": "python",
   "pygments_lexer": "ipython2",
   "version": "2.7.6"
  }
 },
 "nbformat": 4,
 "nbformat_minor": 5
}
